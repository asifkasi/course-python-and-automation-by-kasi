{
 "cells": [
  {
   "cell_type": "code",
   "execution_count": null,
   "id": "cb7bb9cc",
   "metadata": {},
   "outputs": [
    {
     "name": "stdout",
     "output_type": "stream",
     "text": [
      "23\n",
      "24\n",
      "30\n",
      "31\n",
      "37\n",
      "38\n",
      "44\n",
      "45\n"
     ]
    }
   ],
   "source": [
    "# Program to find numbers divisible by 7 with remainder 2 or 3\n",
    "\n",
    "# Take input\n",
    "first = int(input(\"Input the first integer: \"))#take an starting number input from user \n",
    "second = int(input(\"Input the second integer: \"))#take ending number input from user \n",
    "\n",
    "\n",
    "\n",
    "for i in range(first, second+1):#looping starting from first number to second number and `+1` use for include the second \n",
    "    if i % 7 == 2 or i % 7 == 3:#checking number in `i` is divisable by 7 whose reminder is 2 or 3 \n",
    "        print(i)#print the numbers in`i`\n"
   ]
  },
  {
   "cell_type": "code",
   "execution_count": 6,
   "id": "9252658a",
   "metadata": {},
   "outputs": [
    {
     "name": "stdout",
     "output_type": "stream",
     "text": [
      "\n",
      "1\n",
      "22\n",
      "333\n",
      "4444\n"
     ]
    }
   ],
   "source": [
    "#Q2,print a number pattern where each row contain the same number\n",
    "for i in range(5):#outer loop to print rows  5 is excluded beacuse loop start from 0\n",
    "\n",
    "    for j in range(i):#inner loop to print colums take `i`is defining colums in each rows \n",
    "        print(i,end=\"\")#print `i`,we use end keyword not to break the line\n",
    "    print()    #line break after each row"
   ]
  },
  {
   "cell_type": "code",
   "execution_count": null,
   "id": "1a636602",
   "metadata": {},
   "outputs": [
    {
     "name": "stdout",
     "output_type": "stream",
     "text": [
      "55\n"
     ]
    }
   ],
   "source": [
    "#Q3,find the sum from 1 to 10 using loop\n",
    "sum=0#make a variable of sum to store sum in each iteration \n",
    "for i in range(1,11,1):#taking range from 1 to 11 beacuse in loop ending value is excluded\n",
    "    sum=i+sum #store value \n",
    "print(sum)\n",
    " "
   ]
  }
 ],
 "metadata": {
  "kernelspec": {
   "display_name": "Python 3",
   "language": "python",
   "name": "python3"
  },
  "language_info": {
   "codemirror_mode": {
    "name": "ipython",
    "version": 3
   },
   "file_extension": ".py",
   "mimetype": "text/x-python",
   "name": "python",
   "nbconvert_exporter": "python",
   "pygments_lexer": "ipython3",
   "version": "3.13.7"
  }
 },
 "nbformat": 4,
 "nbformat_minor": 5
}
