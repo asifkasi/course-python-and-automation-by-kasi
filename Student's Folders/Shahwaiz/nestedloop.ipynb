{
 "cells": [
  {
   "cell_type": "code",
   "execution_count": 2,
   "id": "a37d4014",
   "metadata": {},
   "outputs": [
    {
     "name": "stdout",
     "output_type": "stream",
     "text": [
      "1\n",
      "22\n",
      "333\n",
      "4444\n"
     ]
    }
   ],
   "source": [
    "#shahwaiz\n",
    "for i in range(1,5):\n",
    "    for j in range(i):\n",
    "        print(i,end=\"\")\n",
    "    print()    "
   ]
  },
  {
   "cell_type": "code",
   "execution_count": 4,
   "id": "efb82ca2",
   "metadata": {},
   "outputs": [
    {
     "name": "stdout",
     "output_type": "stream",
     "text": [
      "55555\n",
      "4444\n",
      "333\n",
      "22\n",
      "1\n"
     ]
    }
   ],
   "source": [
    "for i in range(5,0,-1):\n",
    "    for j in range(i):\n",
    "        print(i,end=\"\")\n",
    "    print()    "
   ]
  },
  {
   "cell_type": "code",
   "execution_count": 8,
   "id": "211d087d",
   "metadata": {},
   "outputs": [
    {
     "name": "stdout",
     "output_type": "stream",
     "text": [
      "(0, 0)(0, 1)(0, 2)\n",
      "(1, 0)(1, 1)(1, 2)\n",
      "(2, 0)(2, 1)(2, 2)\n"
     ]
    }
   ],
   "source": [
    "#Q31 Print a grid of coordinates (row, col). \n",
    "for i in range(0,3,1):\n",
    "    for j in range(0,3,1):\n",
    "        print(f\"{i,j}\",end=\"\")\n",
    "    print()    \n"
   ]
  },
  {
   "cell_type": "code",
   "execution_count": 17,
   "id": "3b9a49ec",
   "metadata": {},
   "outputs": [
    {
     "name": "stdout",
     "output_type": "stream",
     "text": [
      "1\n",
      "12\n",
      "123\n"
     ]
    }
   ],
   "source": [
    "#Q9 \n",
    "for i in range(1,4,1):\n",
    "    for j in range(1,i+1):\n",
    "        print(j,end=\"\")\n",
    "    print()    "
   ]
  },
  {
   "cell_type": "code",
   "execution_count": null,
   "id": "5a76c612",
   "metadata": {},
   "outputs": [
    {
     "name": "stdout",
     "output_type": "stream",
     "text": [
      "5432\n",
      "432\n",
      "32\n"
     ]
    }
   ],
   "source": [
    "#Q10 \n",
    "for i in range(4,1,-1):\n",
    "    for j in range):\n",
    "        print(j,end=\"\")\n",
    "    print()    "
   ]
  },
  {
   "cell_type": "code",
   "execution_count": 35,
   "id": "51bb40f5",
   "metadata": {},
   "outputs": [
    {
     "name": "stdout",
     "output_type": "stream",
     "text": [
      "1 2 3 \n",
      "2 4 6 \n",
      "3 6 9 \n"
     ]
    }
   ],
   "source": [
    "#shahwiaz\n",
    "#8\n",
    "n=4\n",
    "for i in range(1,4):\n",
    "    for j in range(1,4):\n",
    "        print(f\"{i*j}\",end=\" \")\n",
    "    print()    "
   ]
  },
  {
   "cell_type": "code",
   "execution_count": 37,
   "id": "fbfd6cda",
   "metadata": {},
   "outputs": [
    {
     "name": "stdout",
     "output_type": "stream",
     "text": [
      "1 \n",
      "2 3 \n",
      "4 5 6 \n",
      "7 8 9 10 \n"
     ]
    }
   ],
   "source": [
    "#Q17\n",
    "row=4\n",
    "num=1\n",
    "for i in range(row):\n",
    "    for j in range(i+1):\n",
    "        print(num,end=\" \")\n",
    "        num+=1\n",
    "    print()    \n",
    "\n",
    "\n",
    "        "
   ]
  },
  {
   "cell_type": "code",
   "execution_count": null,
   "id": "c3c21628",
   "metadata": {},
   "outputs": [
    {
     "name": "stdout",
     "output_type": "stream",
     "text": [
      "1 \n",
      "3 5 \n",
      "7 9 11 \n"
     ]
    }
   ],
   "source": [
    "#Q12\n",
    "row=3\n",
    "num=1\n",
    "for i in range(row):\n",
    "    for j in range(i+1):\n",
    "        print(num,end=\" \")\n",
    "        num+=2\n",
    "    print()    "
   ]
  },
  {
   "cell_type": "code",
   "execution_count": 11,
   "id": "9ec45bec",
   "metadata": {},
   "outputs": [
    {
     "name": "stdout",
     "output_type": "stream",
     "text": [
      "2 4 \n",
      "6 8 10 \n"
     ]
    }
   ],
   "source": [
    "#Q13\n",
    "row=4\n",
    "num=2\n",
    "for i in range(2,row):\n",
    "    for j in range(i):\n",
    "        print(num,end=\" \")\n",
    "        num+=2\n",
    "    print()    "
   ]
  },
  {
   "cell_type": "code",
   "execution_count": null,
   "id": "43292992",
   "metadata": {},
   "outputs": [
    {
     "name": "stdout",
     "output_type": "stream",
     "text": [
      "a\n",
      "A\n",
      "B\n",
      "C\n"
     ]
    }
   ],
   "source": [
    "#homework\n",
    "#Q22,48,49,23,21,25,24,28\n",
    "print(chr(97))  # ascii codes for alphabet\n",
    "print(chr(65))\n",
    "print(chr(66))\n",
    "print(chr(67))"
   ]
  },
  {
   "cell_type": "code",
   "execution_count": null,
   "id": "84ff78b6",
   "metadata": {},
   "outputs": [
    {
     "name": "stdout",
     "output_type": "stream",
     "text": [
      "A\n",
      "BB\n",
      "CCC\n",
      "DDDD\n"
     ]
    }
   ],
   "source": [
    "#Q22\n",
    "for i in range(65,69):\n",
    "    for j in range(i-64):\n",
    "        print(chr(i), end=\"\")\n",
    "    print()\n",
    "\n"
   ]
  },
  {
   "cell_type": "code",
   "execution_count": 4,
   "id": "6ea0a5d9",
   "metadata": {},
   "outputs": [
    {
     "name": "stdout",
     "output_type": "stream",
     "text": [
      "A\n",
      "AB\n",
      "ABC\n",
      "ABCD\n"
     ]
    }
   ],
   "source": [
    "for i in range(65, 69):        \n",
    "    for j in range(65, i+1):   \n",
    "        print(chr(j), end=\"\")\n",
    "    print()\n"
   ]
  },
  {
   "cell_type": "code",
   "execution_count": null,
   "id": "f2fb667e",
   "metadata": {},
   "outputs": [
    {
     "name": "stdout",
     "output_type": "stream",
     "text": [
      "CBA\n",
      "CB\n",
      "C\n"
     ]
    }
   ],
   "source": [
    "#Q24\n",
    "n = 3\n",
    "for i in range(n, 0, -1):         \n",
    "    for j in range(n, n - i, -1): \n",
    "        print(chr(64 + j), end=\"\")\n",
    "    print()\n"
   ]
  },
  {
   "cell_type": "code",
   "execution_count": 9,
   "id": "248eae7e",
   "metadata": {},
   "outputs": [
    {
     "name": "stdout",
     "output_type": "stream",
     "text": [
      "   *\n",
      "  ***\n",
      " *****\n",
      "*******\n"
     ]
    }
   ],
   "source": [
    "#Q4\n",
    "n=4\n",
    "odd_num=1\n",
    "for i in range(1,n+1):\n",
    "    for j in range(n-i,0,-1):\n",
    "        print(\" \",end=\"\")\n",
    "    for k in range(odd_num):\n",
    "         print(\"*\",end=\"\")\n",
    "    print()\n",
    "    odd_num+=2        \n"
   ]
  },
  {
   "cell_type": "code",
   "execution_count": 10,
   "id": "2da43de2",
   "metadata": {},
   "outputs": [
    {
     "name": "stdout",
     "output_type": "stream",
     "text": [
      "         *\n",
      "        ***\n",
      "       *****\n",
      "      *******\n",
      "     *********\n",
      "    ***********\n",
      "   *************\n",
      "  ***************\n",
      " *****************\n",
      "*******************\n"
     ]
    }
   ],
   "source": [
    "n=10\n",
    "odd_num=1\n",
    "for i in range(1,n+1):\n",
    "    for j in range(n-i,0,-1):\n",
    "        print(\" \",end=\"\")\n",
    "    for k in range(odd_num):\n",
    "         print(\"*\",end=\"\")\n",
    "    print()\n",
    "    odd_num+=2        \n"
   ]
  },
  {
   "cell_type": "code",
   "execution_count": 38,
   "id": "766c5727",
   "metadata": {},
   "outputs": [
    {
     "name": "stdout",
     "output_type": "stream",
     "text": [
      "*******\n",
      " *****\n",
      "  ***\n",
      "   *\n"
     ]
    }
   ],
   "source": [
    "#Q4\n",
    "n=4\n",
    "odd_num=7\n",
    "for i in range(n,0,-1):\n",
    "    for j in range(n-i,0,-1):\n",
    "        print(\" \",end=\"\")\n",
    "    for k in range(odd_num,0,-1):\n",
    "         print(\"*\",end=\"\")\n",
    "    print()\n",
    "    odd_num-=2   "
   ]
  },
  {
   "cell_type": "code",
   "execution_count": 39,
   "id": "c8b35919",
   "metadata": {},
   "outputs": [
    {
     "name": "stdout",
     "output_type": "stream",
     "text": [
      "*******************\n",
      " *****************\n",
      "  ***************\n",
      "   *************\n",
      "    ***********\n",
      "     *********\n",
      "      *******\n",
      "       *****\n",
      "        ***\n",
      "         *\n"
     ]
    }
   ],
   "source": [
    "n=int(input(\"enter a number\"))\n",
    "odd_num=2*n-1\n",
    "for i in range(n,0,-1):\n",
    "    for j in range(n-i,0,-1):\n",
    "        print(\" \",end=\"\")\n",
    "    for k in range(odd_num,0,-1):\n",
    "         print(\"*\",end=\"\")\n",
    "    print()\n",
    "    odd_num-=2   "
   ]
  },
  {
   "cell_type": "code",
   "execution_count": 22,
   "id": "a8904953",
   "metadata": {},
   "outputs": [
    {
     "name": "stdout",
     "output_type": "stream",
     "text": [
      "A1 \n",
      "B2 C3 \n",
      "D4 E5 F6 \n",
      "G7 H8 I9 J10 \n"
     ]
    }
   ],
   "source": [
    "#shahwaiz\n",
    "num=1\n",
    "for i in range(1,5,1):\n",
    "    for j in range(i):\n",
    "        print(f\"{chr(num+64)}{num}\",end=\" \")\n",
    "        num+=1\n",
    "    print()    \n"
   ]
  },
  {
   "cell_type": "code",
   "execution_count": null,
   "id": "466dd14b",
   "metadata": {},
   "outputs": [
    {
     "name": "stdout",
     "output_type": "stream",
     "text": [
      "*\n",
      " *\n",
      "  *\n",
      "   *\n"
     ]
    }
   ],
   "source": [
    "#shahwaiz\n",
    "#Q35\n",
    "n=4\n",
    "for i in range(n):\n",
    "    for j in range(i):\n",
    "        print(end=\" \")\n",
    "    print(\"*\")    "
   ]
  },
  {
   "cell_type": "code",
   "execution_count": null,
   "id": "b39e0bc6",
   "metadata": {},
   "outputs": [
    {
     "name": "stdout",
     "output_type": "stream",
     "text": [
      "    *\n",
      "   *\n",
      "  *\n",
      " *\n"
     ]
    }
   ],
   "source": [
    "#shahwaiz\n",
    "n=4\n",
    "for i in range(n,0,-1):\n",
    "    for j in range(i):\n",
    "        print(end=\" \")\n",
    "    print(\"*\")  "
   ]
  },
  {
   "cell_type": "code",
   "execution_count": 51,
   "id": "dcf784ef",
   "metadata": {},
   "outputs": [
    {
     "name": "stdout",
     "output_type": "stream",
     "text": [
      "*\n",
      " *\n",
      "  *\n",
      "   *\n",
      "    *\n",
      "   *\n",
      "  *\n",
      " *\n",
      "*\n"
     ]
    }
   ],
   "source": [
    "#shahwaiz\n",
    "n=4\n",
    "for i in range(n):\n",
    "    for j in range(i):\n",
    "        print(end=\" \")\n",
    "    print(\"*\") \n",
    "n=4\n",
    "for i in range(n,-1,-1):\n",
    "    for j in range(i):\n",
    "        print(end=\" \")\n",
    "    print(\"*\")   "
   ]
  },
  {
   "cell_type": "code",
   "execution_count": 2,
   "id": "4966424e",
   "metadata": {},
   "outputs": [
    {
     "name": "stdout",
     "output_type": "stream",
     "text": [
      "ML: ['s1', 's3']\n",
      "Capstone: ['s1']\n",
      "AI: ['s3']\n"
     ]
    }
   ],
   "source": [
    "# Define students and courses\n",
    "students = {\n",
    "    \"s1\": {\"year\": 3, \"completed\": {\"DSA\", \"Math\"}},\n",
    "    \"s2\": {\"year\": 2, \"completed\": {\"DSA\"}},\n",
    "    \"s3\": {\"year\": 4, \"completed\": {\"Math\", \"DSA\", \"AI\"}}\n",
    "}\n",
    "\n",
    "courses = {\n",
    "    \"ML\": {\"prereq\": {\"DSA\", \"Math\"}, \"year\": 3, \"capacity\": 2, \"enrolled\": []},\n",
    "    \"Capstone\": {\"prereq\": set(), \"year\": 3, \"capacity\": 1, \"enrolled\": []},\n",
    "    \"AI\": {\"prereq\": {\"DSA\"}, \"year\": 4, \"capacity\": 2, \"enrolled\": []}\n",
    "}\n",
    "\n",
    "# Allocation Function\n",
    "def allocate_courses():\n",
    "    for s, info in students.items():\n",
    "        for c, details in courses.items():\n",
    "            if details[\"prereq\"].issubset(info[\"completed\"]) and info[\"year\"] >= details[\"year\"]:\n",
    "                if len(details[\"enrolled\"]) < details[\"capacity\"]:\n",
    "                    details[\"enrolled\"].append(s)\n",
    "\n",
    "# Run allocation\n",
    "allocate_courses()\n",
    "\n",
    "# Output results\n",
    "for course, details in courses.items():\n",
    "    print(f\"{course}: {details['enrolled']}\")\n"
   ]
  },
  {
   "cell_type": "code",
   "execution_count": null,
   "id": "b34095d5",
   "metadata": {},
   "outputs": [],
   "source": []
  },
  {
   "cell_type": "code",
   "execution_count": null,
   "id": "aedbc037",
   "metadata": {},
   "outputs": [],
   "source": []
  },
  {
   "cell_type": "code",
   "execution_count": null,
   "id": "b01f085b",
   "metadata": {},
   "outputs": [],
   "source": []
  },
  {
   "cell_type": "code",
   "execution_count": null,
   "id": "ae3770ff",
   "metadata": {},
   "outputs": [],
   "source": []
  },
  {
   "cell_type": "code",
   "execution_count": null,
   "id": "d1deab6e",
   "metadata": {},
   "outputs": [],
   "source": []
  },
  {
   "cell_type": "code",
   "execution_count": null,
   "id": "812b3153",
   "metadata": {},
   "outputs": [],
   "source": []
  }
 ],
 "metadata": {
  "kernelspec": {
   "display_name": "Python 3",
   "language": "python",
   "name": "python3"
  },
  "language_info": {
   "codemirror_mode": {
    "name": "ipython",
    "version": 3
   },
   "file_extension": ".py",
   "mimetype": "text/x-python",
   "name": "python",
   "nbconvert_exporter": "python",
   "pygments_lexer": "ipython3",
   "version": "3.13.7"
  }
 },
 "nbformat": 4,
 "nbformat_minor": 5
}
