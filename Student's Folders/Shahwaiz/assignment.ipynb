{
 "cells": [
  {
   "cell_type": "code",
   "execution_count": 1,
   "id": "1e975034",
   "metadata": {},
   "outputs": [
    {
     "name": "stdout",
     "output_type": "stream",
     "text": [
      "['sheraz', 'shahwaiz', 'umair', 'asim', 'shariq', 'umair']\n"
     ]
    }
   ],
   "source": [
    "abc=[\"umair\",\"shariq\",\"asim\",\"umair\",\"shahwaiz\",\"sheraz\"]\n",
    "abc.reverse()\n",
    "print(abc)\n"
   ]
  },
  {
   "cell_type": "code",
   "execution_count": 4,
   "id": "d266f54d",
   "metadata": {},
   "outputs": [
    {
     "name": "stdout",
     "output_type": "stream",
     "text": [
      "[1, 2, 3, 4, 5]\n"
     ]
    }
   ],
   "source": [
    "abc1=[1,2,3]\n",
    "abc2=[4,5]\n",
    "merge_list=abc1+abc2\n",
    "print(merge_list)"
   ]
  },
  {
   "cell_type": "code",
   "execution_count": 1,
   "id": "9e1873dc",
   "metadata": {},
   "outputs": [
    {
     "name": "stdout",
     "output_type": "stream",
     "text": [
      "sum odd numbers is: 46\n"
     ]
    }
   ],
   "source": [
    "#take 5 input from user and  sum odd number\n",
    "sum=0\n",
    "for i in range(5):\n",
    "    user_input=int(input(\"enter numbers\"))\n",
    "    if user_input%2==1:\n",
    "        sum=user_input+sum\n",
    "print(\"sum odd numbers is:\",sum)        "
   ]
  },
  {
   "cell_type": "code",
   "execution_count": 4,
   "id": "6854bce6",
   "metadata": {},
   "outputs": [
    {
     "name": "stdout",
     "output_type": "stream",
     "text": [
      "[1, 3, 4, 3, 6]\n",
      "max number is: 6\n",
      "5\n"
     ]
    }
   ],
   "source": [
    "#take 5 input form user and identify the max number\n",
    "numlist=[]\n",
    "for i in range (5):\n",
    "    num=int(input(\"enter an integer\"))\n",
    "    numlist.append(num)\n",
    "print(numlist)\n",
    "max_num=max(numlist)\n",
    "print(\"max number is:\",max_num)\n",
    "print(numlist.index(max_num)+1)    \n"
   ]
  },
  {
   "cell_type": "code",
   "execution_count": 18,
   "id": "7927f280",
   "metadata": {},
   "outputs": [
    {
     "name": "stdout",
     "output_type": "stream",
     "text": [
      "30\n",
      "31\n",
      "37\n",
      "38\n",
      "44\n",
      "45\n"
     ]
    }
   ],
   "source": [
    "# Write a program that finds all integer numbers that divide by 7 and have a remainder of 2 or 3 between two given integers.\n",
    "first=int(input(\"enter an integer\"))\n",
    "second=int(input(\"enter an integer\"))\n",
    "for num in range(first,second+1):\n",
    "    if num %7==2 or num %7==3:\n",
    "       print(num)  \n",
    "    "
   ]
  },
  {
   "cell_type": "code",
   "execution_count": null,
   "id": "319661ac",
   "metadata": {},
   "outputs": [
    {
     "name": "stdout",
     "output_type": "stream",
     "text": [
      "1\n",
      "3\n",
      "5\n",
      "9\n",
      "15\n",
      "45\n"
     ]
    }
   ],
   "source": [
    "#Write a Python program that finds all the divisors of an integer 45.\n",
    "num=int(input(\"enter an integer\"))\n",
    "for i in range(1,num+1,1):\n",
    "    if  num%i==0:\n",
    "        print(i) "
   ]
  },
  {
   "cell_type": "code",
   "execution_count": 30,
   "id": "bfc9fbd0",
   "metadata": {},
   "outputs": [
    {
     "name": "stdout",
     "output_type": "stream",
     "text": [
      "2 4 6 8 10 12 14 16 18 20 22 24 26 28 30 32 34 36 38 40 42 44 46 48 50 "
     ]
    }
   ],
   "source": [
    "#Write a Python program that prints all even numbers between 1 and 50 .\n",
    "first=int(input(\"enter an integer\"))\n",
    "second=int(input(\"enter an integer\"))\n",
    "for i in range(first,second+1):\n",
    "  if i%2==0:\n",
    "    print(i,end=\" \") "
   ]
  },
  {
   "cell_type": "code",
   "execution_count": 31,
   "id": "7a099927",
   "metadata": {},
   "outputs": [
    {
     "name": "stdout",
     "output_type": "stream",
     "text": [
      "enter number [4, -6]\n",
      "enter number [1, -3, 7]\n",
      "count of even number is 2\n",
      "count of odd number is 3\n"
     ]
    }
   ],
   "source": [
    "#take 5 input and find the count of even and odd\n",
    "odd=0\n",
    "even=0\n",
    "listnum=[]\n",
    "listnum1=[]\n",
    "for i in range(5):\n",
    "    varnum=int(input(\"enter a number\"))\n",
    "    #listnum.append(varnum)\n",
    "    if varnum %2==0 and varnum!=0:\n",
    "        #print(\"even\")\n",
    "        even=even+1\n",
    "        listnum.append(varnum)\n",
    "    elif varnum%2==1:\n",
    "        #print(\"odd\") \n",
    "        odd=odd+1\n",
    "        listnum1.append(varnum)\n",
    "#print(\"enter number\",listnum)\n",
    "print(\"enter number\",listnum)\n",
    "print(\"enter number\",listnum1)        \n",
    "print(\"count of even number is\",even)       \n",
    "print(\"count of odd number is\",odd)\n"
   ]
  },
  {
   "cell_type": "code",
   "execution_count": null,
   "id": "b87c2a66",
   "metadata": {},
   "outputs": [
    {
     "name": "stdout",
     "output_type": "stream",
     "text": [
      "sum b/w number are: 3521\n"
     ]
    }
   ],
   "source": [
    "#Q4\n",
    "first=int(input(\"enter an integer\"))\n",
    "second=int(input(\"enter an integer\"))\n",
    "sum=0\n",
    "for i in range(first,second+1,1):\n",
    "    if i%17!=0:\n",
    "        sum=sum+i\n",
    "print(\"sum b/w number are:\",sum)\n",
    "    "
   ]
  },
  {
   "cell_type": "code",
   "execution_count": 6,
   "id": "82f4e075",
   "metadata": {},
   "outputs": [
    {
     "name": "stdout",
     "output_type": "stream",
     "text": [
      "{1: 1, 2: 4, 3: 9, 4: 16, 5: 25}\n"
     ]
    }
   ],
   "source": [
    "#Q11\n",
    "n=int(input(\"enter a number\"))\n",
    "dic={}\n",
    "for i in range(1,n+1,1):\n",
    "    dic[i]=i*i   #to square the value\n",
    "print(dic)    "
   ]
  },
  {
   "cell_type": "code",
   "execution_count": 9,
   "id": "5eec5ccc",
   "metadata": {},
   "outputs": [
    {
     "name": "stdout",
     "output_type": "stream",
     "text": [
      "1\n",
      "1\n",
      "1\n",
      "2\n",
      "2\n",
      "2\n",
      "1\n",
      "1\n",
      "2\n",
      "1\n",
      "2\n",
      "2\n",
      "{'w': 1, '3': 1, ' ': 1, 'r': 2, 'e': 2, 's': 2, 'o': 1, 'u': 1, 'c': 1}\n"
     ]
    }
   ],
   "source": [
    "#Q14\n",
    "var=\"w3 resources\"\n",
    "d={}\n",
    "for i in range(len(var)):\n",
    "    print(var.count(var[i]))\n",
    "    d[var[i]]=var.count(var[i])\n",
    "print(d)    "
   ]
  },
  {
   "cell_type": "code",
   "execution_count": 10,
   "id": "93ec34a1",
   "metadata": {},
   "outputs": [
    {
     "name": "stdout",
     "output_type": "stream",
     "text": [
      "1 1 1\n",
      "2 4 8\n",
      "3 9 27\n",
      "4 16 64\n",
      "5 25 125\n"
     ]
    }
   ],
   "source": [
    "#Q0.01\n",
    "n=int(input(\"enter a number\"))\n",
    "for i in range(1,n+1):\n",
    "    print(i,i*i,i*i*i)"
   ]
  },
  {
   "cell_type": "code",
   "execution_count": 19,
   "id": "9c8718c4",
   "metadata": {},
   "outputs": [
    {
     "name": "stdout",
     "output_type": "stream",
     "text": [
      "2 4\n",
      "4 16\n",
      "6 36\n",
      "8 64\n",
      "10 100\n"
     ]
    }
   ],
   "source": [
    "#Q0.5\n",
    "user_input=int(input(\"enter numbers\"))\n",
    "for i in range(1,user_input+1):\n",
    "    \n",
    "    if i%2==0:\n",
    "        \n",
    "        print(i,i*i)"
   ]
  },
  {
   "cell_type": "code",
   "execution_count": 25,
   "id": "1181a457",
   "metadata": {},
   "outputs": [
    {
     "name": "stdout",
     "output_type": "stream",
     "text": [
      "3\n",
      "28\n",
      "53\n",
      "78\n"
     ]
    }
   ],
   "source": [
    "#Q 0.6\n",
    "user_input=int(input(\"enter an integer\"))\n",
    "for num in range(1,101,1):\n",
    "        if num%user_input==3:\n",
    "            print(num)"
   ]
  },
  {
   "cell_type": "code",
   "execution_count": 3,
   "id": "1f985a66",
   "metadata": {},
   "outputs": [
    {
     "name": "stdout",
     "output_type": "stream",
     "text": [
      "10\n"
     ]
    }
   ],
   "source": [
    "#Q 02\n",
    "num=int(input(\"enter a number\"))\n",
    "numstr=str(num)\n",
    "var=len(numstr)\n",
    "sum=0\n",
    "for i in range(var):\n",
    "    sum=sum+int(numstr[i])\n",
    "print(sum) \n",
    "\n",
    " \n"
   ]
  },
  {
   "cell_type": "code",
   "execution_count": 12,
   "id": "9147fe27",
   "metadata": {},
   "outputs": [
    {
     "name": "stdout",
     "output_type": "stream",
     "text": [
      "55\n"
     ]
    }
   ],
   "source": [
    "#Q 3\n",
    "user_input=int(input(\"enter numbers\"))\n",
    "sum=0\n",
    "for i in range(1,user_input+1):\n",
    "    sum =sum+i*i\n",
    "print(sum)"
   ]
  },
  {
   "cell_type": "code",
   "execution_count": null,
   "id": "079efb46",
   "metadata": {},
   "outputs": [
    {
     "name": "stdout",
     "output_type": "stream",
     "text": [
      "1 1\n",
      "2 8\n",
      "3 27\n",
      "4 64\n",
      "5 125\n"
     ]
    }
   ],
   "source": [
    "#Q 5 cube of an integer\n",
    "user_input=int(input(\"enter a number\"))\n",
    "for i in range(1,user_input+1):\n",
    "    print(i,i*i*i)"
   ]
  },
  {
   "cell_type": "code",
   "execution_count": 12,
   "id": "3cc5b135",
   "metadata": {},
   "outputs": [
    {
     "name": "stdout",
     "output_type": "stream",
     "text": [
      "2\n",
      "5\n"
     ]
    }
   ],
   "source": [
    "#Q 6 sum of odd numbers\n",
    "user_input=int(input(\"enter a number\"))\n",
    "sum=0\n",
    "for i in range(1,6,1):\n",
    "    if user_input%i==1:\n",
    "        sum=sum+i\n",
    "        print(sum)"
   ]
  },
  {
   "cell_type": "code",
   "execution_count": 12,
   "id": "c8963fa8",
   "metadata": {},
   "outputs": [
    {
     "ename": "IndentationError",
     "evalue": "unindent does not match any outer indentation level (<string>, line 12)",
     "output_type": "error",
     "traceback": [
      "  \u001b[36mFile \u001b[39m\u001b[32m<string>:12\u001b[39m\n\u001b[31m    \u001b[39m\u001b[31mprint(\"\\nThe sum of natural numbers up to\", n, \"is:\", total)\u001b[39m\n                                                                ^\n\u001b[31mIndentationError\u001b[39m\u001b[31m:\u001b[39m unindent does not match any outer indentation level\n"
     ]
    }
   ],
   "source": [
    "# Program to display n terms of natural numbers and their sum\n",
    "\n",
    "n = int(input(\"Enter how many terms: \"))\n",
    "total = 0\n",
    "\n",
    "print(\"The first\", n, \"natural numbers are:\")\n",
    "\n",
    "for i in range(1, n+1):\n",
    "            print(i, end=\" \")   # display numbers in one line\n",
    "            total += i          # add each number to total\n",
    "\n",
    "        print(\"\\nThe sum of natural numbers up to\", n, \"is:\", total)\n"
   ]
  },
  {
   "cell_type": "code",
   "execution_count": 2,
   "id": "b5cad9ef",
   "metadata": {},
   "outputs": [
    {
     "name": "stdout",
     "output_type": "stream",
     "text": [
      "120\n"
     ]
    }
   ],
   "source": [
    "#factoral of a number\n",
    "num=int(input(\"enrter a number\"))\n",
    "fact=1\n",
    "for i in range(num,0,-1):\n",
    "    fact=fact*i\n",
    "print(fact)"
   ]
  },
  {
   "cell_type": "code",
   "execution_count": 2,
   "id": "766df257",
   "metadata": {},
   "outputs": [
    {
     "name": "stdout",
     "output_type": "stream",
     "text": [
      "{'b': 400, 'd': 200, 'a': 400, 'c': 200}\n"
     ]
    }
   ],
   "source": [
    "#Q 14\n",
    "dic1={'a':200,\n",
    "      'b':200,\n",
    "      'c':200\n",
    "      }\n",
    "dic2={'b':200,\n",
    "      'd':200,\n",
    "      'a':200,\n",
    "      }\n",
    "dic3=dic2\n",
    "for key in dic1.keys():\n",
    "    if key in dic2.keys():\n",
    "        dic3[key]=dic1[key]+dic2[key]\n",
    "    else:\n",
    "        dic3[key]=dic1[key]\n",
    "print(dic3)        \n",
    "            "
   ]
  },
  {
   "cell_type": "code",
   "execution_count": 10,
   "id": "cb3e4abb",
   "metadata": {},
   "outputs": [
    {
     "name": "stdout",
     "output_type": "stream",
     "text": [
      "1,2,3,4\n",
      "5,6,7,8\n",
      "9,10,11,12\n",
      "13,14,15,16\n",
      "17,18,19,20\n"
     ]
    }
   ],
   "source": [
    "#Q 0.0.0\n",
    "n=int(input(\"enter a number\"))\n",
    "for i in range(1,n*4,4):\n",
    "    print(f\"{i},{i+1},{i+2},{i+3}\")\n"
   ]
  },
  {
   "cell_type": "code",
   "execution_count": 27,
   "id": "62159b9d",
   "metadata": {},
   "outputs": [
    {
     "name": "stdout",
     "output_type": "stream",
     "text": [
      "1+11+111+1111+11111+\n",
      "12345\n"
     ]
    }
   ],
   "source": [
    "#Q 13\n",
    "n=5\n",
    "sum=0\n",
    "sum_of_series=0\n",
    "for i in range(n):\n",
    "    sum=10**i+sum\n",
    "    print(sum,end=\"+\")\n",
    "    sum_of_series=sum_of_series+sum\n",
    "\n",
    "# sum_of_series+=sum\n",
    "\n",
    "print()\n",
    "print(sum_of_series)    "
   ]
  },
  {
   "cell_type": "code",
   "execution_count": null,
   "id": "1b3bcfb1",
   "metadata": {},
   "outputs": [],
   "source": []
  },
  {
   "cell_type": "code",
   "execution_count": null,
   "id": "56d6da50",
   "metadata": {},
   "outputs": [],
   "source": []
  },
  {
   "cell_type": "code",
   "execution_count": null,
   "id": "92510995",
   "metadata": {},
   "outputs": [],
   "source": []
  },
  {
   "cell_type": "code",
   "execution_count": null,
   "id": "4bd8a0a4",
   "metadata": {},
   "outputs": [],
   "source": []
  },
  {
   "cell_type": "code",
   "execution_count": null,
   "id": "930fefcd",
   "metadata": {},
   "outputs": [],
   "source": []
  },
  {
   "cell_type": "code",
   "execution_count": null,
   "id": "fc792cea",
   "metadata": {},
   "outputs": [],
   "source": []
  },
  {
   "cell_type": "code",
   "execution_count": null,
   "id": "d2558009",
   "metadata": {},
   "outputs": [],
   "source": []
  },
  {
   "cell_type": "code",
   "execution_count": null,
   "id": "520ef1c2",
   "metadata": {},
   "outputs": [],
   "source": []
  },
  {
   "cell_type": "code",
   "execution_count": null,
   "id": "76b3b134",
   "metadata": {},
   "outputs": [],
   "source": []
  },
  {
   "cell_type": "code",
   "execution_count": null,
   "id": "64f60546",
   "metadata": {},
   "outputs": [],
   "source": []
  },
  {
   "cell_type": "code",
   "execution_count": null,
   "id": "97d8fdd2",
   "metadata": {},
   "outputs": [],
   "source": []
  },
  {
   "cell_type": "code",
   "execution_count": null,
   "id": "58ad875a",
   "metadata": {},
   "outputs": [],
   "source": []
  },
  {
   "cell_type": "code",
   "execution_count": null,
   "id": "85ac96a1",
   "metadata": {},
   "outputs": [],
   "source": []
  },
  {
   "cell_type": "code",
   "execution_count": null,
   "id": "0f640fe5",
   "metadata": {},
   "outputs": [],
   "source": []
  },
  {
   "cell_type": "code",
   "execution_count": null,
   "id": "318cdd47",
   "metadata": {},
   "outputs": [],
   "source": []
  },
  {
   "cell_type": "code",
   "execution_count": null,
   "id": "7659960f",
   "metadata": {},
   "outputs": [],
   "source": []
  }
 ],
 "metadata": {
  "kernelspec": {
   "display_name": "Python 3",
   "language": "python",
   "name": "python3"
  },
  "language_info": {
   "codemirror_mode": {
    "name": "ipython",
    "version": 3
   },
   "file_extension": ".py",
   "mimetype": "text/x-python",
   "name": "python",
   "nbconvert_exporter": "python",
   "pygments_lexer": "ipython3",
   "version": "3.13.7"
  }
 },
 "nbformat": 4,
 "nbformat_minor": 5
}
