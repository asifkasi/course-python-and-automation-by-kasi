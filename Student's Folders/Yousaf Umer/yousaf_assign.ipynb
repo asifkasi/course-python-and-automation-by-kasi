{
 "cells": [
  {
   "cell_type": "markdown",
   "metadata": {},
   "source": [
    "# assignment to find specific links and text"
   ]
  },
  {
   "cell_type": "code",
   "execution_count": 1,
   "metadata": {},
   "outputs": [],
   "source": [
    "import requests\n",
    "from bs4 import BeautifulSoup"
   ]
  },
  {
   "cell_type": "code",
   "execution_count": 2,
   "metadata": {},
   "outputs": [],
   "source": [
    "def get_tag (url):\n",
    "    r = requests.get(url)\n",
    "    if r.status_code == 200:\n",
    "        soup = BeautifulSoup(r.text, \"html.parser\")\n",
    "\n",
    "        return soup\n",
    "    else:\n",
    "        return \"website not hitted\""
   ]
  },
  {
   "cell_type": "code",
   "execution_count": null,
   "metadata": {},
   "outputs": [],
   "source": [
    "var1 = get_tag(\"https://www.crummy.com/software/BeautifulSoup/bs4/doc/#quick-start\")\n",
    "print(var1)"
   ]
  },
  {
   "cell_type": "code",
   "execution_count": null,
   "metadata": {},
   "outputs": [],
   "source": [
    "tags= var1.find(\"section\").find(\"ul\").find_all(\"a\")\n",
    "for all_text in tags:\n",
    "    print(all_text.text)\n",
    "    print()\n",
    "for all_url in tags:\n",
    "    print(all_url.get(\"href\"))"
   ]
  },
  {
   "cell_type": "code",
   "execution_count": null,
   "metadata": {},
   "outputs": [],
   "source": []
  },
  {
   "cell_type": "markdown",
   "metadata": {},
   "source": [
    "### mehtod 2"
   ]
  },
  {
   "cell_type": "code",
   "execution_count": null,
   "metadata": {},
   "outputs": [],
   "source": [
    "all_ul = var1.find_all(\"a\", class_=\"reference external\")\n",
    "# print(all_ul)\n",
    "for links in all_ul:\n",
    "    print(links.get(\"href\"))"
   ]
  },
  {
   "cell_type": "code",
   "execution_count": null,
   "metadata": {},
   "outputs": [],
   "source": []
  },
  {
   "cell_type": "markdown",
   "metadata": {},
   "source": [
    "# Assignment 2 find all li text"
   ]
  },
  {
   "cell_type": "code",
   "execution_count": 8,
   "metadata": {},
   "outputs": [],
   "source": [
    "def fun_get_tag (url):\n",
    "    r = requests.get(url)\n",
    "    if r.status_code == 200:\n",
    "        soup = BeautifulSoup(r.text, \"html.parser\")\n",
    "\n",
    "        return soup\n",
    "    else:\n",
    "        return \"website not hitted\""
   ]
  },
  {
   "cell_type": "code",
   "execution_count": 2,
   "metadata": {},
   "outputs": [],
   "source": [
    "import requests\n",
    "from bs4 import BeautifulSoup \n"
   ]
  },
  {
   "cell_type": "code",
   "execution_count": null,
   "metadata": {},
   "outputs": [],
   "source": [
    "var2 = fun_get_tag (\"https://en.wikipedia.org/wiki/Python\")\n",
    "\n",
    "print(var2.prettify())"
   ]
  },
  {
   "cell_type": "code",
   "execution_count": null,
   "metadata": {},
   "outputs": [],
   "source": [
    "tags = var2.find_all(\"div\",class_=\"mw-heading mw-heading2\")\n",
    "\n",
    "print(tags)"
   ]
  },
  {
   "cell_type": "code",
   "execution_count": null,
   "metadata": {},
   "outputs": [],
   "source": [
    "all_div = tags.find_all('h2')\n",
    "all_ul = tags.find_all(\"ul\")\n"
   ]
  },
  {
   "cell_type": "code",
   "execution_count": null,
   "metadata": {},
   "outputs": [],
   "source": [
    "for i in tags :\n",
    "    print(i.find(\"h2\").text)"
   ]
  },
  {
   "cell_type": "code",
   "execution_count": null,
   "metadata": {},
   "outputs": [],
   "source": [
    "# ul find karna hai\n",
    "ul_parent = var2.find(\"div\",class_=\"mw-content-ltr mw-parser-output\")\n",
    "ul_tags = ul_parent.find_all(\"ul\")\n",
    "print(ul_tags)"
   ]
  },
  {
   "cell_type": "code",
   "execution_count": null,
   "metadata": {},
   "outputs": [],
   "source": [
    "for i in ul_tags:\n",
    "    print(i.text)\n",
    "    print()"
   ]
  },
  {
   "cell_type": "code",
   "execution_count": null,
   "metadata": {},
   "outputs": [],
   "source": [
    "ul_tags.pop(-2)"
   ]
  },
  {
   "cell_type": "code",
   "execution_count": null,
   "metadata": {},
   "outputs": [],
   "source": [
    "ul_tags.pop(1)"
   ]
  },
  {
   "cell_type": "code",
   "execution_count": null,
   "metadata": {},
   "outputs": [],
   "source": [
    "# print(len(all_div))\n",
    "print(len(ul_tags))"
   ]
  },
  {
   "cell_type": "code",
   "execution_count": null,
   "metadata": {},
   "outputs": [],
   "source": [
    "for ul in ul_tags:\n",
    "    print(ul_tags.index(ul)+1,end=\" \")\n",
    "    print(len(ul.find_all(\"li\")))"
   ]
  },
  {
   "cell_type": "code",
   "execution_count": null,
   "metadata": {},
   "outputs": [],
   "source": [
    "all_ul.pop(1)"
   ]
  },
  {
   "cell_type": "code",
   "execution_count": null,
   "metadata": {},
   "outputs": [],
   "source": [
    "with open(\"task.text\",\"a+\") as f:\n",
    "\n",
    "    for i in range (8):\n",
    "        div_header = all_div[i].text\n",
    "\n",
    "        f.write (div_header)\n",
    "        list_li = []\n",
    "        for li in all_ul [i]:\n",
    "            list_li.append(li.text)\n",
    "            \n",
    "        f.write (str(list_li))\n",
    "\n"
   ]
  },
  {
   "cell_type": "code",
   "execution_count": 15,
   "metadata": {},
   "outputs": [],
   "source": [
    "a_tags = []\n",
    "\n",
    "for li in all_ul:\n",
    "    b = li.find_all(\"a\")\n",
    "    a_tags = a_tags+b\n"
   ]
  },
  {
   "cell_type": "code",
   "execution_count": null,
   "metadata": {},
   "outputs": [],
   "source": [
    "\n",
    "print(a_tags)"
   ]
  },
  {
   "cell_type": "code",
   "execution_count": 74,
   "metadata": {},
   "outputs": [],
   "source": []
  },
  {
   "cell_type": "markdown",
   "metadata": {},
   "source": [
    "# Assignment 3"
   ]
  },
  {
   "cell_type": "code",
   "execution_count": null,
   "metadata": {},
   "outputs": [],
   "source": [
    "import requests\n",
    "from bs4 import BeautifulSoup\n",
    "var1 = fun_get_tag(\"https://en.wikipedia.org/wiki/Python\")"
   ]
  },
  {
   "cell_type": "code",
   "execution_count": null,
   "metadata": {},
   "outputs": [],
   "source": [
    "parent_div =  var1.find(\"div\" , class_ = \"mw-content-ltr mw-parser-output\")  # extract all tags form this in to parent_div\n",
    "print(parent_div)"
   ]
  },
  {
   "cell_type": "code",
   "execution_count": null,
   "metadata": {},
   "outputs": [],
   "source": [
    " \n",
    "all_ul = parent_div.find_all(\"ul\")  # extract all ul in to all_ul"
   ]
  },
  {
   "cell_type": "code",
   "execution_count": null,
   "metadata": {},
   "outputs": [],
   "source": [
    "\n",
    "for i in all_ul:\n",
    "    print(i.find_all(\"a\"))\n",
    "    "
   ]
  },
  {
   "cell_type": "code",
   "execution_count": null,
   "metadata": {},
   "outputs": [],
   "source": [
    "#merging all a tag  list i nto one list for extracking\n",
    "a_list = []\n",
    "for li in all_ul:\n",
    "    b = li.find_all(\"a\")\n",
    "    a_list = a_list+b\n",
    "\n",
    "print(a_list)"
   ]
  },
  {
   "cell_type": "code",
   "execution_count": null,
   "metadata": {},
   "outputs": [],
   "source": [
    "print(a_list[3])"
   ]
  },
  {
   "cell_type": "code",
   "execution_count": null,
   "metadata": {},
   "outputs": [],
   "source": [
    "\n",
    "for link in a_list:\n",
    "    print(link[\"href\"])\n"
   ]
  },
  {
   "cell_type": "code",
   "execution_count": null,
   "metadata": {},
   "outputs": [],
   "source": [
    "for  link in a_list:\n",
    "    print(\"https://en.wikipedia.org\" + link[\"href\"]) # if our link is internal some time it will not a proper link we had to add the prefix of link  form main link"
   ]
  },
  {
   "cell_type": "code",
   "execution_count": 29,
   "metadata": {},
   "outputs": [],
   "source": [
    "# save the extracted link into txt file\n",
    "with open (\"url.txt\",\"a+\") as f:\n",
    "    for  link in a_list:\n",
    "        f.write(link.text)\n",
    "        f.write(\"https://en.wikipedia.org\" + link[\"href\"])\n",
    "        f.write(\"\\n\")\n",
    "f.close()"
   ]
  },
  {
   "cell_type": "code",
   "execution_count": null,
   "metadata": {},
   "outputs": [],
   "source": []
  },
  {
   "cell_type": "markdown",
   "metadata": {},
   "source": [
    "#### if we want to save data into CSV/XLSX (excel), we will use pandas library"
   ]
  },
  {
   "cell_type": "code",
   "execution_count": 11,
   "metadata": {},
   "outputs": [],
   "source": [
    "import pandas as pd\n"
   ]
  },
  {
   "cell_type": "code",
   "execution_count": 31,
   "metadata": {},
   "outputs": [],
   "source": [
    "var_links =  []\n",
    "var_name = []\n",
    "\n",
    "for link in a_list:\n",
    "    extracted_link = \"https://en.wikipedia.org\"+link[\"href\"]\n",
    "    var_links.append(extracted_link)\n",
    "    extracted_name = link.text\n",
    "    var_name.append(extracted_name)\n",
    "\n",
    "\n"
   ]
  },
  {
   "cell_type": "code",
   "execution_count": 32,
   "metadata": {},
   "outputs": [],
   "source": [
    "data1 = pd.DataFrame() # make a data frame \n"
   ]
  },
  {
   "cell_type": "code",
   "execution_count": null,
   "metadata": {},
   "outputs": [],
   "source": [
    "data1[\"Name\"] = var_name # create a colum then add names fo link in this \n",
    "data1[\"links\"] = var_links # create a colum then add links in this\n",
    "\n",
    "print(data1)\n"
   ]
  },
  {
   "cell_type": "code",
   "execution_count": null,
   "metadata": {},
   "outputs": [],
   "source": [
    "pd.set_option('display.max_columns', None)         # Display all columns\n",
    "pd.set_option('display.width', 1000)               # Set a large width to avoid wrapping\n",
    "pd.set_option('display.max_colwidth', 1000)        # Prevent wrapping of individual column values\n",
    "\n",
    "\n",
    "print(data1)"
   ]
  },
  {
   "cell_type": "code",
   "execution_count": null,
   "metadata": {},
   "outputs": [],
   "source": [
    "# display.max_columns = None: Ensures that all columns are printed.\n",
    "# display.width = 1000: Sets the display width to a large number so the output doesn't wrap automatically.\n",
    "# display.max_colwidth = 1000: Prevents column values from being truncated or wrapped by setting a larger max column width."
   ]
  },
  {
   "cell_type": "code",
   "execution_count": 30,
   "metadata": {},
   "outputs": [],
   "source": [
    "data1.to_csv(\"data.csv\",index=False)  # save into a csv file \n",
    "data1.to_csv(\"data.Xlsx\", index= False)"
   ]
  },
  {
   "cell_type": "markdown",
   "metadata": {},
   "source": [
    "# Assignment 4"
   ]
  },
  {
   "cell_type": "code",
   "execution_count": 31,
   "metadata": {},
   "outputs": [],
   "source": [
    "# 1. difference b/w csv and xlsx\n",
    "# 2. why we use csv files rather than excel\n"
   ]
  },
  {
   "cell_type": "code",
   "execution_count": null,
   "metadata": {},
   "outputs": [],
   "source": [
    "'''3\n",
    "1. read the links from CSV (same file your save previously) via Pandas.\n",
    "2. hit each link via Request and print status.\n",
    "3. save status respectivily next to link into csv.\n",
    "'''"
   ]
  },
  {
   "cell_type": "code",
   "execution_count": 12,
   "metadata": {},
   "outputs": [
    {
     "data": {
      "text/html": [
       "<div>\n",
       "<style scoped>\n",
       "    .dataframe tbody tr th:only-of-type {\n",
       "        vertical-align: middle;\n",
       "    }\n",
       "\n",
       "    .dataframe tbody tr th {\n",
       "        vertical-align: top;\n",
       "    }\n",
       "\n",
       "    .dataframe thead th {\n",
       "        text-align: right;\n",
       "    }\n",
       "</style>\n",
       "<table border=\"1\" class=\"dataframe\">\n",
       "  <thead>\n",
       "    <tr style=\"text-align: right;\">\n",
       "      <th></th>\n",
       "      <th>Name</th>\n",
       "      <th>links</th>\n",
       "    </tr>\n",
       "  </thead>\n",
       "  <tbody>\n",
       "    <tr>\n",
       "      <th>0</th>\n",
       "      <td>Pythonidae</td>\n",
       "      <td>https://en.wikipedia.org/wiki/Pythonidae</td>\n",
       "    </tr>\n",
       "    <tr>\n",
       "      <th>1</th>\n",
       "      <td>Python (genus)</td>\n",
       "      <td>https://en.wikipedia.org/wiki/Python_(genus)</td>\n",
       "    </tr>\n",
       "    <tr>\n",
       "      <th>2</th>\n",
       "      <td>Python (mythology)</td>\n",
       "      <td>https://en.wikipedia.org/wiki/Python_(mythology)</td>\n",
       "    </tr>\n",
       "    <tr>\n",
       "      <th>3</th>\n",
       "      <td>Python (genus)</td>\n",
       "      <td>https://en.wikipedia.org/wiki/Python_(genus)</td>\n",
       "    </tr>\n",
       "    <tr>\n",
       "      <th>4</th>\n",
       "      <td>Python (programming language)</td>\n",
       "      <td>https://en.wikipedia.org/wiki/Python_(programm...</td>\n",
       "    </tr>\n",
       "    <tr>\n",
       "      <th>5</th>\n",
       "      <td>CMU Common Lisp</td>\n",
       "      <td>https://en.wikipedia.org/wiki/CMU_Common_Lisp</td>\n",
       "    </tr>\n",
       "    <tr>\n",
       "      <th>6</th>\n",
       "      <td>PERQ 3</td>\n",
       "      <td>https://en.wikipedia.org/wiki/PERQ#PERQ_3</td>\n",
       "    </tr>\n",
       "    <tr>\n",
       "      <th>7</th>\n",
       "      <td>Python of Aenus</td>\n",
       "      <td>https://en.wikipedia.org/wiki/Python_of_Aenus</td>\n",
       "    </tr>\n",
       "    <tr>\n",
       "      <th>8</th>\n",
       "      <td>Python (painter)</td>\n",
       "      <td>https://en.wikipedia.org/wiki/Python_(painter)</td>\n",
       "    </tr>\n",
       "    <tr>\n",
       "      <th>9</th>\n",
       "      <td>Python of Byzantium</td>\n",
       "      <td>https://en.wikipedia.org/wiki/Python_of_Byzantium</td>\n",
       "    </tr>\n",
       "    <tr>\n",
       "      <th>10</th>\n",
       "      <td>Python of Catana</td>\n",
       "      <td>https://en.wikipedia.org/wiki/Python_of_Catana</td>\n",
       "    </tr>\n",
       "    <tr>\n",
       "      <th>11</th>\n",
       "      <td>Python Anghelo</td>\n",
       "      <td>https://en.wikipedia.org/wiki/Python_Anghelo</td>\n",
       "    </tr>\n",
       "    <tr>\n",
       "      <th>12</th>\n",
       "      <td>Python (Efteling)</td>\n",
       "      <td>https://en.wikipedia.org/wiki/Python_(Efteling)</td>\n",
       "    </tr>\n",
       "    <tr>\n",
       "      <th>13</th>\n",
       "      <td>Python (Busch Gardens Tampa Bay)</td>\n",
       "      <td>https://en.wikipedia.org/wiki/Python_(Busch_Ga...</td>\n",
       "    </tr>\n",
       "    <tr>\n",
       "      <th>14</th>\n",
       "      <td>Python (Coney Island, Cincinnati, Ohio)</td>\n",
       "      <td>https://en.wikipedia.org/wiki/Python_(Coney_Is...</td>\n",
       "    </tr>\n",
       "    <tr>\n",
       "      <th>15</th>\n",
       "      <td>Python (automobile maker)</td>\n",
       "      <td>https://en.wikipedia.org/wiki/Python_(automobi...</td>\n",
       "    </tr>\n",
       "    <tr>\n",
       "      <th>16</th>\n",
       "      <td>Python (Ford prototype)</td>\n",
       "      <td>https://en.wikipedia.org/wiki/Python_(Ford_pro...</td>\n",
       "    </tr>\n",
       "    <tr>\n",
       "      <th>17</th>\n",
       "      <td>Python (missile)</td>\n",
       "      <td>https://en.wikipedia.org/wiki/Python_(missile)</td>\n",
       "    </tr>\n",
       "    <tr>\n",
       "      <th>18</th>\n",
       "      <td>Python (nuclear primary)</td>\n",
       "      <td>https://en.wikipedia.org/wiki/Python_(nuclear_...</td>\n",
       "    </tr>\n",
       "    <tr>\n",
       "      <th>19</th>\n",
       "      <td>Colt Python</td>\n",
       "      <td>https://en.wikipedia.org/wiki/Colt_Python</td>\n",
       "    </tr>\n",
       "    <tr>\n",
       "      <th>20</th>\n",
       "      <td>Python (codename)</td>\n",
       "      <td>https://en.wikipedia.org/wiki/Python_(codename)</td>\n",
       "    </tr>\n",
       "    <tr>\n",
       "      <th>21</th>\n",
       "      <td>Python (film)</td>\n",
       "      <td>https://en.wikipedia.org/wiki/Python_(film)</td>\n",
       "    </tr>\n",
       "    <tr>\n",
       "      <th>22</th>\n",
       "      <td>Monty Python</td>\n",
       "      <td>https://en.wikipedia.org/wiki/Monty_Python</td>\n",
       "    </tr>\n",
       "    <tr>\n",
       "      <th>23</th>\n",
       "      <td>Python (Monty) Pictures</td>\n",
       "      <td>https://en.wikipedia.org/wiki/Python_(Monty)_P...</td>\n",
       "    </tr>\n",
       "    <tr>\n",
       "      <th>24</th>\n",
       "      <td>Timon of Phlius</td>\n",
       "      <td>https://en.wikipedia.org/wiki/Timon_of_Phlius</td>\n",
       "    </tr>\n",
       "    <tr>\n",
       "      <th>25</th>\n",
       "      <td>Python (Monty) Pictures</td>\n",
       "      <td>https://en.wikipedia.org/wiki/Python_(Monty)_P...</td>\n",
       "    </tr>\n",
       "    <tr>\n",
       "      <th>26</th>\n",
       "      <td>Pithon</td>\n",
       "      <td>https://en.wikipedia.org/wiki/Pithon</td>\n",
       "    </tr>\n",
       "    <tr>\n",
       "      <th>27</th>\n",
       "      <td>Pyton</td>\n",
       "      <td>https://en.wikipedia.org/wiki/Pyton</td>\n",
       "    </tr>\n",
       "  </tbody>\n",
       "</table>\n",
       "</div>"
      ],
      "text/plain": [
       "                                       Name  \\\n",
       "0                                Pythonidae   \n",
       "1                            Python (genus)   \n",
       "2                        Python (mythology)   \n",
       "3                            Python (genus)   \n",
       "4             Python (programming language)   \n",
       "5                           CMU Common Lisp   \n",
       "6                                    PERQ 3   \n",
       "7                           Python of Aenus   \n",
       "8                          Python (painter)   \n",
       "9                       Python of Byzantium   \n",
       "10                         Python of Catana   \n",
       "11                           Python Anghelo   \n",
       "12                        Python (Efteling)   \n",
       "13         Python (Busch Gardens Tampa Bay)   \n",
       "14  Python (Coney Island, Cincinnati, Ohio)   \n",
       "15                Python (automobile maker)   \n",
       "16                  Python (Ford prototype)   \n",
       "17                         Python (missile)   \n",
       "18                 Python (nuclear primary)   \n",
       "19                              Colt Python   \n",
       "20                        Python (codename)   \n",
       "21                            Python (film)   \n",
       "22                             Monty Python   \n",
       "23                  Python (Monty) Pictures   \n",
       "24                          Timon of Phlius   \n",
       "25                  Python (Monty) Pictures   \n",
       "26                                   Pithon   \n",
       "27                                    Pyton   \n",
       "\n",
       "                                                links  \n",
       "0            https://en.wikipedia.org/wiki/Pythonidae  \n",
       "1        https://en.wikipedia.org/wiki/Python_(genus)  \n",
       "2    https://en.wikipedia.org/wiki/Python_(mythology)  \n",
       "3        https://en.wikipedia.org/wiki/Python_(genus)  \n",
       "4   https://en.wikipedia.org/wiki/Python_(programm...  \n",
       "5       https://en.wikipedia.org/wiki/CMU_Common_Lisp  \n",
       "6           https://en.wikipedia.org/wiki/PERQ#PERQ_3  \n",
       "7       https://en.wikipedia.org/wiki/Python_of_Aenus  \n",
       "8      https://en.wikipedia.org/wiki/Python_(painter)  \n",
       "9   https://en.wikipedia.org/wiki/Python_of_Byzantium  \n",
       "10     https://en.wikipedia.org/wiki/Python_of_Catana  \n",
       "11       https://en.wikipedia.org/wiki/Python_Anghelo  \n",
       "12    https://en.wikipedia.org/wiki/Python_(Efteling)  \n",
       "13  https://en.wikipedia.org/wiki/Python_(Busch_Ga...  \n",
       "14  https://en.wikipedia.org/wiki/Python_(Coney_Is...  \n",
       "15  https://en.wikipedia.org/wiki/Python_(automobi...  \n",
       "16  https://en.wikipedia.org/wiki/Python_(Ford_pro...  \n",
       "17     https://en.wikipedia.org/wiki/Python_(missile)  \n",
       "18  https://en.wikipedia.org/wiki/Python_(nuclear_...  \n",
       "19          https://en.wikipedia.org/wiki/Colt_Python  \n",
       "20    https://en.wikipedia.org/wiki/Python_(codename)  \n",
       "21        https://en.wikipedia.org/wiki/Python_(film)  \n",
       "22         https://en.wikipedia.org/wiki/Monty_Python  \n",
       "23  https://en.wikipedia.org/wiki/Python_(Monty)_P...  \n",
       "24      https://en.wikipedia.org/wiki/Timon_of_Phlius  \n",
       "25  https://en.wikipedia.org/wiki/Python_(Monty)_P...  \n",
       "26               https://en.wikipedia.org/wiki/Pithon  \n",
       "27                https://en.wikipedia.org/wiki/Pyton  "
      ]
     },
     "execution_count": 12,
     "metadata": {},
     "output_type": "execute_result"
    }
   ],
   "source": [
    "import pandas as pd\n",
    "\n",
    "var = pd.read_csv(\"data.csv\")  # read csv file\n",
    "var\n",
    "# links = var[\"links\"]"
   ]
  },
  {
   "cell_type": "code",
   "execution_count": null,
   "metadata": {},
   "outputs": [],
   "source": []
  },
  {
   "cell_type": "code",
   "execution_count": 13,
   "metadata": {},
   "outputs": [
    {
     "data": {
      "text/plain": [
       "['https://en.wikipedia.org/wiki/Pythonidae',\n",
       " 'https://en.wikipedia.org/wiki/Python_(genus)',\n",
       " 'https://en.wikipedia.org/wiki/Python_(mythology)',\n",
       " 'https://en.wikipedia.org/wiki/Python_(genus)',\n",
       " 'https://en.wikipedia.org/wiki/Python_(programming_language)',\n",
       " 'https://en.wikipedia.org/wiki/CMU_Common_Lisp',\n",
       " 'https://en.wikipedia.org/wiki/PERQ#PERQ_3',\n",
       " 'https://en.wikipedia.org/wiki/Python_of_Aenus',\n",
       " 'https://en.wikipedia.org/wiki/Python_(painter)',\n",
       " 'https://en.wikipedia.org/wiki/Python_of_Byzantium',\n",
       " 'https://en.wikipedia.org/wiki/Python_of_Catana',\n",
       " 'https://en.wikipedia.org/wiki/Python_Anghelo',\n",
       " 'https://en.wikipedia.org/wiki/Python_(Efteling)',\n",
       " 'https://en.wikipedia.org/wiki/Python_(Busch_Gardens_Tampa_Bay)',\n",
       " 'https://en.wikipedia.org/wiki/Python_(Coney_Island,_Cincinnati,_Ohio)',\n",
       " 'https://en.wikipedia.org/wiki/Python_(automobile_maker)',\n",
       " 'https://en.wikipedia.org/wiki/Python_(Ford_prototype)',\n",
       " 'https://en.wikipedia.org/wiki/Python_(missile)',\n",
       " 'https://en.wikipedia.org/wiki/Python_(nuclear_primary)',\n",
       " 'https://en.wikipedia.org/wiki/Colt_Python',\n",
       " 'https://en.wikipedia.org/wiki/Python_(codename)',\n",
       " 'https://en.wikipedia.org/wiki/Python_(film)',\n",
       " 'https://en.wikipedia.org/wiki/Monty_Python',\n",
       " 'https://en.wikipedia.org/wiki/Python_(Monty)_Pictures',\n",
       " 'https://en.wikipedia.org/wiki/Timon_of_Phlius',\n",
       " 'https://en.wikipedia.org/wiki/Python_(Monty)_Pictures',\n",
       " 'https://en.wikipedia.org/wiki/Pithon',\n",
       " 'https://en.wikipedia.org/wiki/Pyton']"
      ]
     },
     "execution_count": 13,
     "metadata": {},
     "output_type": "execute_result"
    }
   ],
   "source": [
    "\n",
    "var[\"links\"].to_list()"
   ]
  },
  {
   "cell_type": "code",
   "execution_count": null,
   "metadata": {},
   "outputs": [],
   "source": [
    "\n",
    "type(var[\"links\"])\n",
    "# .to_list()[-1]"
   ]
  },
  {
   "cell_type": "code",
   "execution_count": null,
   "metadata": {},
   "outputs": [],
   "source": []
  },
  {
   "cell_type": "code",
   "execution_count": null,
   "metadata": {},
   "outputs": [],
   "source": []
  },
  {
   "cell_type": "code",
   "execution_count": 15,
   "metadata": {},
   "outputs": [
    {
     "ename": "ConnectionError",
     "evalue": "HTTPSConnectionPool(host='en.wikipedia.org', port=443): Max retries exceeded with url: /wiki/Pythonidae (Caused by NameResolutionError(\"<urllib3.connection.HTTPSConnection object at 0x000001750023D250>: Failed to resolve 'en.wikipedia.org' ([Errno 11001] getaddrinfo failed)\"))",
     "output_type": "error",
     "traceback": [
      "\u001b[1;31m---------------------------------------------------------------------------\u001b[0m",
      "\u001b[1;31mgaierror\u001b[0m                                  Traceback (most recent call last)",
      "File \u001b[1;32m~\\AppData\\Local\\Packages\\PythonSoftwareFoundation.Python.3.12_qbz5n2kfra8p0\\LocalCache\\local-packages\\Python312\\site-packages\\urllib3\\connection.py:198\u001b[0m, in \u001b[0;36mHTTPConnection._new_conn\u001b[1;34m(self)\u001b[0m\n\u001b[0;32m    197\u001b[0m \u001b[38;5;28;01mtry\u001b[39;00m:\n\u001b[1;32m--> 198\u001b[0m     sock \u001b[38;5;241m=\u001b[39m \u001b[43mconnection\u001b[49m\u001b[38;5;241;43m.\u001b[39;49m\u001b[43mcreate_connection\u001b[49m\u001b[43m(\u001b[49m\n\u001b[0;32m    199\u001b[0m \u001b[43m        \u001b[49m\u001b[43m(\u001b[49m\u001b[38;5;28;43mself\u001b[39;49m\u001b[38;5;241;43m.\u001b[39;49m\u001b[43m_dns_host\u001b[49m\u001b[43m,\u001b[49m\u001b[43m \u001b[49m\u001b[38;5;28;43mself\u001b[39;49m\u001b[38;5;241;43m.\u001b[39;49m\u001b[43mport\u001b[49m\u001b[43m)\u001b[49m\u001b[43m,\u001b[49m\n\u001b[0;32m    200\u001b[0m \u001b[43m        \u001b[49m\u001b[38;5;28;43mself\u001b[39;49m\u001b[38;5;241;43m.\u001b[39;49m\u001b[43mtimeout\u001b[49m\u001b[43m,\u001b[49m\n\u001b[0;32m    201\u001b[0m \u001b[43m        \u001b[49m\u001b[43msource_address\u001b[49m\u001b[38;5;241;43m=\u001b[39;49m\u001b[38;5;28;43mself\u001b[39;49m\u001b[38;5;241;43m.\u001b[39;49m\u001b[43msource_address\u001b[49m\u001b[43m,\u001b[49m\n\u001b[0;32m    202\u001b[0m \u001b[43m        \u001b[49m\u001b[43msocket_options\u001b[49m\u001b[38;5;241;43m=\u001b[39;49m\u001b[38;5;28;43mself\u001b[39;49m\u001b[38;5;241;43m.\u001b[39;49m\u001b[43msocket_options\u001b[49m\u001b[43m,\u001b[49m\n\u001b[0;32m    203\u001b[0m \u001b[43m    \u001b[49m\u001b[43m)\u001b[49m\n\u001b[0;32m    204\u001b[0m \u001b[38;5;28;01mexcept\u001b[39;00m socket\u001b[38;5;241m.\u001b[39mgaierror \u001b[38;5;28;01mas\u001b[39;00m e:\n",
      "File \u001b[1;32m~\\AppData\\Local\\Packages\\PythonSoftwareFoundation.Python.3.12_qbz5n2kfra8p0\\LocalCache\\local-packages\\Python312\\site-packages\\urllib3\\util\\connection.py:60\u001b[0m, in \u001b[0;36mcreate_connection\u001b[1;34m(address, timeout, source_address, socket_options)\u001b[0m\n\u001b[0;32m     58\u001b[0m     \u001b[38;5;28;01mraise\u001b[39;00m LocationParseError(\u001b[38;5;124mf\u001b[39m\u001b[38;5;124m\"\u001b[39m\u001b[38;5;124m'\u001b[39m\u001b[38;5;132;01m{\u001b[39;00mhost\u001b[38;5;132;01m}\u001b[39;00m\u001b[38;5;124m'\u001b[39m\u001b[38;5;124m, label empty or too long\u001b[39m\u001b[38;5;124m\"\u001b[39m) \u001b[38;5;28;01mfrom\u001b[39;00m \u001b[38;5;28;01mNone\u001b[39;00m\n\u001b[1;32m---> 60\u001b[0m \u001b[38;5;28;01mfor\u001b[39;00m res \u001b[38;5;129;01min\u001b[39;00m \u001b[43msocket\u001b[49m\u001b[38;5;241;43m.\u001b[39;49m\u001b[43mgetaddrinfo\u001b[49m\u001b[43m(\u001b[49m\u001b[43mhost\u001b[49m\u001b[43m,\u001b[49m\u001b[43m \u001b[49m\u001b[43mport\u001b[49m\u001b[43m,\u001b[49m\u001b[43m \u001b[49m\u001b[43mfamily\u001b[49m\u001b[43m,\u001b[49m\u001b[43m \u001b[49m\u001b[43msocket\u001b[49m\u001b[38;5;241;43m.\u001b[39;49m\u001b[43mSOCK_STREAM\u001b[49m\u001b[43m)\u001b[49m:\n\u001b[0;32m     61\u001b[0m     af, socktype, proto, canonname, sa \u001b[38;5;241m=\u001b[39m res\n",
      "File \u001b[1;32mC:\\Program Files\\WindowsApps\\PythonSoftwareFoundation.Python.3.12_3.12.2032.0_x64__qbz5n2kfra8p0\\Lib\\socket.py:976\u001b[0m, in \u001b[0;36mgetaddrinfo\u001b[1;34m(host, port, family, type, proto, flags)\u001b[0m\n\u001b[0;32m    975\u001b[0m addrlist \u001b[38;5;241m=\u001b[39m []\n\u001b[1;32m--> 976\u001b[0m \u001b[38;5;28;01mfor\u001b[39;00m res \u001b[38;5;129;01min\u001b[39;00m \u001b[43m_socket\u001b[49m\u001b[38;5;241;43m.\u001b[39;49m\u001b[43mgetaddrinfo\u001b[49m\u001b[43m(\u001b[49m\u001b[43mhost\u001b[49m\u001b[43m,\u001b[49m\u001b[43m \u001b[49m\u001b[43mport\u001b[49m\u001b[43m,\u001b[49m\u001b[43m \u001b[49m\u001b[43mfamily\u001b[49m\u001b[43m,\u001b[49m\u001b[43m \u001b[49m\u001b[38;5;28;43mtype\u001b[39;49m\u001b[43m,\u001b[49m\u001b[43m \u001b[49m\u001b[43mproto\u001b[49m\u001b[43m,\u001b[49m\u001b[43m \u001b[49m\u001b[43mflags\u001b[49m\u001b[43m)\u001b[49m:\n\u001b[0;32m    977\u001b[0m     af, socktype, proto, canonname, sa \u001b[38;5;241m=\u001b[39m res\n",
      "\u001b[1;31mgaierror\u001b[0m: [Errno 11001] getaddrinfo failed",
      "\nThe above exception was the direct cause of the following exception:\n",
      "\u001b[1;31mNameResolutionError\u001b[0m                       Traceback (most recent call last)",
      "File \u001b[1;32m~\\AppData\\Local\\Packages\\PythonSoftwareFoundation.Python.3.12_qbz5n2kfra8p0\\LocalCache\\local-packages\\Python312\\site-packages\\urllib3\\connectionpool.py:793\u001b[0m, in \u001b[0;36mHTTPConnectionPool.urlopen\u001b[1;34m(self, method, url, body, headers, retries, redirect, assert_same_host, timeout, pool_timeout, release_conn, chunked, body_pos, preload_content, decode_content, **response_kw)\u001b[0m\n\u001b[0;32m    792\u001b[0m \u001b[38;5;66;03m# Make the request on the HTTPConnection object\u001b[39;00m\n\u001b[1;32m--> 793\u001b[0m response \u001b[38;5;241m=\u001b[39m \u001b[38;5;28;43mself\u001b[39;49m\u001b[38;5;241;43m.\u001b[39;49m\u001b[43m_make_request\u001b[49m\u001b[43m(\u001b[49m\n\u001b[0;32m    794\u001b[0m \u001b[43m    \u001b[49m\u001b[43mconn\u001b[49m\u001b[43m,\u001b[49m\n\u001b[0;32m    795\u001b[0m \u001b[43m    \u001b[49m\u001b[43mmethod\u001b[49m\u001b[43m,\u001b[49m\n\u001b[0;32m    796\u001b[0m \u001b[43m    \u001b[49m\u001b[43murl\u001b[49m\u001b[43m,\u001b[49m\n\u001b[0;32m    797\u001b[0m \u001b[43m    \u001b[49m\u001b[43mtimeout\u001b[49m\u001b[38;5;241;43m=\u001b[39;49m\u001b[43mtimeout_obj\u001b[49m\u001b[43m,\u001b[49m\n\u001b[0;32m    798\u001b[0m \u001b[43m    \u001b[49m\u001b[43mbody\u001b[49m\u001b[38;5;241;43m=\u001b[39;49m\u001b[43mbody\u001b[49m\u001b[43m,\u001b[49m\n\u001b[0;32m    799\u001b[0m \u001b[43m    \u001b[49m\u001b[43mheaders\u001b[49m\u001b[38;5;241;43m=\u001b[39;49m\u001b[43mheaders\u001b[49m\u001b[43m,\u001b[49m\n\u001b[0;32m    800\u001b[0m \u001b[43m    \u001b[49m\u001b[43mchunked\u001b[49m\u001b[38;5;241;43m=\u001b[39;49m\u001b[43mchunked\u001b[49m\u001b[43m,\u001b[49m\n\u001b[0;32m    801\u001b[0m \u001b[43m    \u001b[49m\u001b[43mretries\u001b[49m\u001b[38;5;241;43m=\u001b[39;49m\u001b[43mretries\u001b[49m\u001b[43m,\u001b[49m\n\u001b[0;32m    802\u001b[0m \u001b[43m    \u001b[49m\u001b[43mresponse_conn\u001b[49m\u001b[38;5;241;43m=\u001b[39;49m\u001b[43mresponse_conn\u001b[49m\u001b[43m,\u001b[49m\n\u001b[0;32m    803\u001b[0m \u001b[43m    \u001b[49m\u001b[43mpreload_content\u001b[49m\u001b[38;5;241;43m=\u001b[39;49m\u001b[43mpreload_content\u001b[49m\u001b[43m,\u001b[49m\n\u001b[0;32m    804\u001b[0m \u001b[43m    \u001b[49m\u001b[43mdecode_content\u001b[49m\u001b[38;5;241;43m=\u001b[39;49m\u001b[43mdecode_content\u001b[49m\u001b[43m,\u001b[49m\n\u001b[0;32m    805\u001b[0m \u001b[43m    \u001b[49m\u001b[38;5;241;43m*\u001b[39;49m\u001b[38;5;241;43m*\u001b[39;49m\u001b[43mresponse_kw\u001b[49m\u001b[43m,\u001b[49m\n\u001b[0;32m    806\u001b[0m \u001b[43m\u001b[49m\u001b[43m)\u001b[49m\n\u001b[0;32m    808\u001b[0m \u001b[38;5;66;03m# Everything went great!\u001b[39;00m\n",
      "File \u001b[1;32m~\\AppData\\Local\\Packages\\PythonSoftwareFoundation.Python.3.12_qbz5n2kfra8p0\\LocalCache\\local-packages\\Python312\\site-packages\\urllib3\\connectionpool.py:491\u001b[0m, in \u001b[0;36mHTTPConnectionPool._make_request\u001b[1;34m(self, conn, method, url, body, headers, retries, timeout, chunked, response_conn, preload_content, decode_content, enforce_content_length)\u001b[0m\n\u001b[0;32m    490\u001b[0m         new_e \u001b[38;5;241m=\u001b[39m _wrap_proxy_error(new_e, conn\u001b[38;5;241m.\u001b[39mproxy\u001b[38;5;241m.\u001b[39mscheme)\n\u001b[1;32m--> 491\u001b[0m     \u001b[38;5;28;01mraise\u001b[39;00m new_e\n\u001b[0;32m    493\u001b[0m \u001b[38;5;66;03m# conn.request() calls http.client.*.request, not the method in\u001b[39;00m\n\u001b[0;32m    494\u001b[0m \u001b[38;5;66;03m# urllib3.request. It also calls makefile (recv) on the socket.\u001b[39;00m\n",
      "File \u001b[1;32m~\\AppData\\Local\\Packages\\PythonSoftwareFoundation.Python.3.12_qbz5n2kfra8p0\\LocalCache\\local-packages\\Python312\\site-packages\\urllib3\\connectionpool.py:467\u001b[0m, in \u001b[0;36mHTTPConnectionPool._make_request\u001b[1;34m(self, conn, method, url, body, headers, retries, timeout, chunked, response_conn, preload_content, decode_content, enforce_content_length)\u001b[0m\n\u001b[0;32m    466\u001b[0m \u001b[38;5;28;01mtry\u001b[39;00m:\n\u001b[1;32m--> 467\u001b[0m     \u001b[38;5;28;43mself\u001b[39;49m\u001b[38;5;241;43m.\u001b[39;49m\u001b[43m_validate_conn\u001b[49m\u001b[43m(\u001b[49m\u001b[43mconn\u001b[49m\u001b[43m)\u001b[49m\n\u001b[0;32m    468\u001b[0m \u001b[38;5;28;01mexcept\u001b[39;00m (SocketTimeout, BaseSSLError) \u001b[38;5;28;01mas\u001b[39;00m e:\n",
      "File \u001b[1;32m~\\AppData\\Local\\Packages\\PythonSoftwareFoundation.Python.3.12_qbz5n2kfra8p0\\LocalCache\\local-packages\\Python312\\site-packages\\urllib3\\connectionpool.py:1099\u001b[0m, in \u001b[0;36mHTTPSConnectionPool._validate_conn\u001b[1;34m(self, conn)\u001b[0m\n\u001b[0;32m   1098\u001b[0m \u001b[38;5;28;01mif\u001b[39;00m conn\u001b[38;5;241m.\u001b[39mis_closed:\n\u001b[1;32m-> 1099\u001b[0m     \u001b[43mconn\u001b[49m\u001b[38;5;241;43m.\u001b[39;49m\u001b[43mconnect\u001b[49m\u001b[43m(\u001b[49m\u001b[43m)\u001b[49m\n\u001b[0;32m   1101\u001b[0m \u001b[38;5;66;03m# TODO revise this, see https://github.com/urllib3/urllib3/issues/2791\u001b[39;00m\n",
      "File \u001b[1;32m~\\AppData\\Local\\Packages\\PythonSoftwareFoundation.Python.3.12_qbz5n2kfra8p0\\LocalCache\\local-packages\\Python312\\site-packages\\urllib3\\connection.py:616\u001b[0m, in \u001b[0;36mHTTPSConnection.connect\u001b[1;34m(self)\u001b[0m\n\u001b[0;32m    615\u001b[0m sock: socket\u001b[38;5;241m.\u001b[39msocket \u001b[38;5;241m|\u001b[39m ssl\u001b[38;5;241m.\u001b[39mSSLSocket\n\u001b[1;32m--> 616\u001b[0m \u001b[38;5;28mself\u001b[39m\u001b[38;5;241m.\u001b[39msock \u001b[38;5;241m=\u001b[39m sock \u001b[38;5;241m=\u001b[39m \u001b[38;5;28;43mself\u001b[39;49m\u001b[38;5;241;43m.\u001b[39;49m\u001b[43m_new_conn\u001b[49m\u001b[43m(\u001b[49m\u001b[43m)\u001b[49m\n\u001b[0;32m    617\u001b[0m server_hostname: \u001b[38;5;28mstr\u001b[39m \u001b[38;5;241m=\u001b[39m \u001b[38;5;28mself\u001b[39m\u001b[38;5;241m.\u001b[39mhost\n",
      "File \u001b[1;32m~\\AppData\\Local\\Packages\\PythonSoftwareFoundation.Python.3.12_qbz5n2kfra8p0\\LocalCache\\local-packages\\Python312\\site-packages\\urllib3\\connection.py:205\u001b[0m, in \u001b[0;36mHTTPConnection._new_conn\u001b[1;34m(self)\u001b[0m\n\u001b[0;32m    204\u001b[0m \u001b[38;5;28;01mexcept\u001b[39;00m socket\u001b[38;5;241m.\u001b[39mgaierror \u001b[38;5;28;01mas\u001b[39;00m e:\n\u001b[1;32m--> 205\u001b[0m     \u001b[38;5;28;01mraise\u001b[39;00m NameResolutionError(\u001b[38;5;28mself\u001b[39m\u001b[38;5;241m.\u001b[39mhost, \u001b[38;5;28mself\u001b[39m, e) \u001b[38;5;28;01mfrom\u001b[39;00m \u001b[38;5;21;01me\u001b[39;00m\n\u001b[0;32m    206\u001b[0m \u001b[38;5;28;01mexcept\u001b[39;00m SocketTimeout \u001b[38;5;28;01mas\u001b[39;00m e:\n",
      "\u001b[1;31mNameResolutionError\u001b[0m: <urllib3.connection.HTTPSConnection object at 0x000001750023D250>: Failed to resolve 'en.wikipedia.org' ([Errno 11001] getaddrinfo failed)",
      "\nThe above exception was the direct cause of the following exception:\n",
      "\u001b[1;31mMaxRetryError\u001b[0m                             Traceback (most recent call last)",
      "File \u001b[1;32m~\\AppData\\Local\\Packages\\PythonSoftwareFoundation.Python.3.12_qbz5n2kfra8p0\\LocalCache\\local-packages\\Python312\\site-packages\\requests\\adapters.py:667\u001b[0m, in \u001b[0;36mHTTPAdapter.send\u001b[1;34m(self, request, stream, timeout, verify, cert, proxies)\u001b[0m\n\u001b[0;32m    666\u001b[0m \u001b[38;5;28;01mtry\u001b[39;00m:\n\u001b[1;32m--> 667\u001b[0m     resp \u001b[38;5;241m=\u001b[39m \u001b[43mconn\u001b[49m\u001b[38;5;241;43m.\u001b[39;49m\u001b[43murlopen\u001b[49m\u001b[43m(\u001b[49m\n\u001b[0;32m    668\u001b[0m \u001b[43m        \u001b[49m\u001b[43mmethod\u001b[49m\u001b[38;5;241;43m=\u001b[39;49m\u001b[43mrequest\u001b[49m\u001b[38;5;241;43m.\u001b[39;49m\u001b[43mmethod\u001b[49m\u001b[43m,\u001b[49m\n\u001b[0;32m    669\u001b[0m \u001b[43m        \u001b[49m\u001b[43murl\u001b[49m\u001b[38;5;241;43m=\u001b[39;49m\u001b[43murl\u001b[49m\u001b[43m,\u001b[49m\n\u001b[0;32m    670\u001b[0m \u001b[43m        \u001b[49m\u001b[43mbody\u001b[49m\u001b[38;5;241;43m=\u001b[39;49m\u001b[43mrequest\u001b[49m\u001b[38;5;241;43m.\u001b[39;49m\u001b[43mbody\u001b[49m\u001b[43m,\u001b[49m\n\u001b[0;32m    671\u001b[0m \u001b[43m        \u001b[49m\u001b[43mheaders\u001b[49m\u001b[38;5;241;43m=\u001b[39;49m\u001b[43mrequest\u001b[49m\u001b[38;5;241;43m.\u001b[39;49m\u001b[43mheaders\u001b[49m\u001b[43m,\u001b[49m\n\u001b[0;32m    672\u001b[0m \u001b[43m        \u001b[49m\u001b[43mredirect\u001b[49m\u001b[38;5;241;43m=\u001b[39;49m\u001b[38;5;28;43;01mFalse\u001b[39;49;00m\u001b[43m,\u001b[49m\n\u001b[0;32m    673\u001b[0m \u001b[43m        \u001b[49m\u001b[43massert_same_host\u001b[49m\u001b[38;5;241;43m=\u001b[39;49m\u001b[38;5;28;43;01mFalse\u001b[39;49;00m\u001b[43m,\u001b[49m\n\u001b[0;32m    674\u001b[0m \u001b[43m        \u001b[49m\u001b[43mpreload_content\u001b[49m\u001b[38;5;241;43m=\u001b[39;49m\u001b[38;5;28;43;01mFalse\u001b[39;49;00m\u001b[43m,\u001b[49m\n\u001b[0;32m    675\u001b[0m \u001b[43m        \u001b[49m\u001b[43mdecode_content\u001b[49m\u001b[38;5;241;43m=\u001b[39;49m\u001b[38;5;28;43;01mFalse\u001b[39;49;00m\u001b[43m,\u001b[49m\n\u001b[0;32m    676\u001b[0m \u001b[43m        \u001b[49m\u001b[43mretries\u001b[49m\u001b[38;5;241;43m=\u001b[39;49m\u001b[38;5;28;43mself\u001b[39;49m\u001b[38;5;241;43m.\u001b[39;49m\u001b[43mmax_retries\u001b[49m\u001b[43m,\u001b[49m\n\u001b[0;32m    677\u001b[0m \u001b[43m        \u001b[49m\u001b[43mtimeout\u001b[49m\u001b[38;5;241;43m=\u001b[39;49m\u001b[43mtimeout\u001b[49m\u001b[43m,\u001b[49m\n\u001b[0;32m    678\u001b[0m \u001b[43m        \u001b[49m\u001b[43mchunked\u001b[49m\u001b[38;5;241;43m=\u001b[39;49m\u001b[43mchunked\u001b[49m\u001b[43m,\u001b[49m\n\u001b[0;32m    679\u001b[0m \u001b[43m    \u001b[49m\u001b[43m)\u001b[49m\n\u001b[0;32m    681\u001b[0m \u001b[38;5;28;01mexcept\u001b[39;00m (ProtocolError, \u001b[38;5;167;01mOSError\u001b[39;00m) \u001b[38;5;28;01mas\u001b[39;00m err:\n",
      "File \u001b[1;32m~\\AppData\\Local\\Packages\\PythonSoftwareFoundation.Python.3.12_qbz5n2kfra8p0\\LocalCache\\local-packages\\Python312\\site-packages\\urllib3\\connectionpool.py:847\u001b[0m, in \u001b[0;36mHTTPConnectionPool.urlopen\u001b[1;34m(self, method, url, body, headers, retries, redirect, assert_same_host, timeout, pool_timeout, release_conn, chunked, body_pos, preload_content, decode_content, **response_kw)\u001b[0m\n\u001b[0;32m    845\u001b[0m     new_e \u001b[38;5;241m=\u001b[39m ProtocolError(\u001b[38;5;124m\"\u001b[39m\u001b[38;5;124mConnection aborted.\u001b[39m\u001b[38;5;124m\"\u001b[39m, new_e)\n\u001b[1;32m--> 847\u001b[0m retries \u001b[38;5;241m=\u001b[39m \u001b[43mretries\u001b[49m\u001b[38;5;241;43m.\u001b[39;49m\u001b[43mincrement\u001b[49m\u001b[43m(\u001b[49m\n\u001b[0;32m    848\u001b[0m \u001b[43m    \u001b[49m\u001b[43mmethod\u001b[49m\u001b[43m,\u001b[49m\u001b[43m \u001b[49m\u001b[43murl\u001b[49m\u001b[43m,\u001b[49m\u001b[43m \u001b[49m\u001b[43merror\u001b[49m\u001b[38;5;241;43m=\u001b[39;49m\u001b[43mnew_e\u001b[49m\u001b[43m,\u001b[49m\u001b[43m \u001b[49m\u001b[43m_pool\u001b[49m\u001b[38;5;241;43m=\u001b[39;49m\u001b[38;5;28;43mself\u001b[39;49m\u001b[43m,\u001b[49m\u001b[43m \u001b[49m\u001b[43m_stacktrace\u001b[49m\u001b[38;5;241;43m=\u001b[39;49m\u001b[43msys\u001b[49m\u001b[38;5;241;43m.\u001b[39;49m\u001b[43mexc_info\u001b[49m\u001b[43m(\u001b[49m\u001b[43m)\u001b[49m\u001b[43m[\u001b[49m\u001b[38;5;241;43m2\u001b[39;49m\u001b[43m]\u001b[49m\n\u001b[0;32m    849\u001b[0m \u001b[43m\u001b[49m\u001b[43m)\u001b[49m\n\u001b[0;32m    850\u001b[0m retries\u001b[38;5;241m.\u001b[39msleep()\n",
      "File \u001b[1;32m~\\AppData\\Local\\Packages\\PythonSoftwareFoundation.Python.3.12_qbz5n2kfra8p0\\LocalCache\\local-packages\\Python312\\site-packages\\urllib3\\util\\retry.py:515\u001b[0m, in \u001b[0;36mRetry.increment\u001b[1;34m(self, method, url, response, error, _pool, _stacktrace)\u001b[0m\n\u001b[0;32m    514\u001b[0m     reason \u001b[38;5;241m=\u001b[39m error \u001b[38;5;129;01mor\u001b[39;00m ResponseError(cause)\n\u001b[1;32m--> 515\u001b[0m     \u001b[38;5;28;01mraise\u001b[39;00m MaxRetryError(_pool, url, reason) \u001b[38;5;28;01mfrom\u001b[39;00m \u001b[38;5;21;01mreason\u001b[39;00m  \u001b[38;5;66;03m# type: ignore[arg-type]\u001b[39;00m\n\u001b[0;32m    517\u001b[0m log\u001b[38;5;241m.\u001b[39mdebug(\u001b[38;5;124m\"\u001b[39m\u001b[38;5;124mIncremented Retry for (url=\u001b[39m\u001b[38;5;124m'\u001b[39m\u001b[38;5;132;01m%s\u001b[39;00m\u001b[38;5;124m'\u001b[39m\u001b[38;5;124m): \u001b[39m\u001b[38;5;132;01m%r\u001b[39;00m\u001b[38;5;124m\"\u001b[39m, url, new_retry)\n",
      "\u001b[1;31mMaxRetryError\u001b[0m: HTTPSConnectionPool(host='en.wikipedia.org', port=443): Max retries exceeded with url: /wiki/Pythonidae (Caused by NameResolutionError(\"<urllib3.connection.HTTPSConnection object at 0x000001750023D250>: Failed to resolve 'en.wikipedia.org' ([Errno 11001] getaddrinfo failed)\"))",
      "\nDuring handling of the above exception, another exception occurred:\n",
      "\u001b[1;31mConnectionError\u001b[0m                           Traceback (most recent call last)",
      "Cell \u001b[1;32mIn[15], line 4\u001b[0m\n\u001b[0;32m      1\u001b[0m \u001b[38;5;66;03m# hit link form file and print status\u001b[39;00m\n\u001b[0;32m      3\u001b[0m \u001b[38;5;28;01mfor\u001b[39;00m all_links \u001b[38;5;129;01min\u001b[39;00m var[\u001b[38;5;124m\"\u001b[39m\u001b[38;5;124mlinks\u001b[39m\u001b[38;5;124m\"\u001b[39m]:\n\u001b[1;32m----> 4\u001b[0m     var1 \u001b[38;5;241m=\u001b[39m \u001b[43mrequests\u001b[49m\u001b[38;5;241;43m.\u001b[39;49m\u001b[43mget\u001b[49m\u001b[43m(\u001b[49m\u001b[43mall_links\u001b[49m\u001b[43m)\u001b[49m\n\u001b[0;32m      5\u001b[0m     \u001b[38;5;28;01mif\u001b[39;00m var1\u001b[38;5;241m.\u001b[39mstatus_code \u001b[38;5;241m==\u001b[39m \u001b[38;5;241m200\u001b[39m:\n\u001b[0;32m      6\u001b[0m         \u001b[38;5;28mprint\u001b[39m(\u001b[38;5;124m\"\u001b[39m\u001b[38;5;124mlink is hitted\u001b[39m\u001b[38;5;124m\"\u001b[39m)\n",
      "File \u001b[1;32m~\\AppData\\Local\\Packages\\PythonSoftwareFoundation.Python.3.12_qbz5n2kfra8p0\\LocalCache\\local-packages\\Python312\\site-packages\\requests\\api.py:73\u001b[0m, in \u001b[0;36mget\u001b[1;34m(url, params, **kwargs)\u001b[0m\n\u001b[0;32m     62\u001b[0m \u001b[38;5;28;01mdef\u001b[39;00m \u001b[38;5;21mget\u001b[39m(url, params\u001b[38;5;241m=\u001b[39m\u001b[38;5;28;01mNone\u001b[39;00m, \u001b[38;5;241m*\u001b[39m\u001b[38;5;241m*\u001b[39mkwargs):\n\u001b[0;32m     63\u001b[0m \u001b[38;5;250m    \u001b[39m\u001b[38;5;124mr\u001b[39m\u001b[38;5;124;03m\"\"\"Sends a GET request.\u001b[39;00m\n\u001b[0;32m     64\u001b[0m \n\u001b[0;32m     65\u001b[0m \u001b[38;5;124;03m    :param url: URL for the new :class:`Request` object.\u001b[39;00m\n\u001b[1;32m   (...)\u001b[0m\n\u001b[0;32m     70\u001b[0m \u001b[38;5;124;03m    :rtype: requests.Response\u001b[39;00m\n\u001b[0;32m     71\u001b[0m \u001b[38;5;124;03m    \"\"\"\u001b[39;00m\n\u001b[1;32m---> 73\u001b[0m     \u001b[38;5;28;01mreturn\u001b[39;00m \u001b[43mrequest\u001b[49m\u001b[43m(\u001b[49m\u001b[38;5;124;43m\"\u001b[39;49m\u001b[38;5;124;43mget\u001b[39;49m\u001b[38;5;124;43m\"\u001b[39;49m\u001b[43m,\u001b[49m\u001b[43m \u001b[49m\u001b[43murl\u001b[49m\u001b[43m,\u001b[49m\u001b[43m \u001b[49m\u001b[43mparams\u001b[49m\u001b[38;5;241;43m=\u001b[39;49m\u001b[43mparams\u001b[49m\u001b[43m,\u001b[49m\u001b[43m \u001b[49m\u001b[38;5;241;43m*\u001b[39;49m\u001b[38;5;241;43m*\u001b[39;49m\u001b[43mkwargs\u001b[49m\u001b[43m)\u001b[49m\n",
      "File \u001b[1;32m~\\AppData\\Local\\Packages\\PythonSoftwareFoundation.Python.3.12_qbz5n2kfra8p0\\LocalCache\\local-packages\\Python312\\site-packages\\requests\\api.py:59\u001b[0m, in \u001b[0;36mrequest\u001b[1;34m(method, url, **kwargs)\u001b[0m\n\u001b[0;32m     55\u001b[0m \u001b[38;5;66;03m# By using the 'with' statement we are sure the session is closed, thus we\u001b[39;00m\n\u001b[0;32m     56\u001b[0m \u001b[38;5;66;03m# avoid leaving sockets open which can trigger a ResourceWarning in some\u001b[39;00m\n\u001b[0;32m     57\u001b[0m \u001b[38;5;66;03m# cases, and look like a memory leak in others.\u001b[39;00m\n\u001b[0;32m     58\u001b[0m \u001b[38;5;28;01mwith\u001b[39;00m sessions\u001b[38;5;241m.\u001b[39mSession() \u001b[38;5;28;01mas\u001b[39;00m session:\n\u001b[1;32m---> 59\u001b[0m     \u001b[38;5;28;01mreturn\u001b[39;00m \u001b[43msession\u001b[49m\u001b[38;5;241;43m.\u001b[39;49m\u001b[43mrequest\u001b[49m\u001b[43m(\u001b[49m\u001b[43mmethod\u001b[49m\u001b[38;5;241;43m=\u001b[39;49m\u001b[43mmethod\u001b[49m\u001b[43m,\u001b[49m\u001b[43m \u001b[49m\u001b[43murl\u001b[49m\u001b[38;5;241;43m=\u001b[39;49m\u001b[43murl\u001b[49m\u001b[43m,\u001b[49m\u001b[43m \u001b[49m\u001b[38;5;241;43m*\u001b[39;49m\u001b[38;5;241;43m*\u001b[39;49m\u001b[43mkwargs\u001b[49m\u001b[43m)\u001b[49m\n",
      "File \u001b[1;32m~\\AppData\\Local\\Packages\\PythonSoftwareFoundation.Python.3.12_qbz5n2kfra8p0\\LocalCache\\local-packages\\Python312\\site-packages\\requests\\sessions.py:589\u001b[0m, in \u001b[0;36mSession.request\u001b[1;34m(self, method, url, params, data, headers, cookies, files, auth, timeout, allow_redirects, proxies, hooks, stream, verify, cert, json)\u001b[0m\n\u001b[0;32m    584\u001b[0m send_kwargs \u001b[38;5;241m=\u001b[39m {\n\u001b[0;32m    585\u001b[0m     \u001b[38;5;124m\"\u001b[39m\u001b[38;5;124mtimeout\u001b[39m\u001b[38;5;124m\"\u001b[39m: timeout,\n\u001b[0;32m    586\u001b[0m     \u001b[38;5;124m\"\u001b[39m\u001b[38;5;124mallow_redirects\u001b[39m\u001b[38;5;124m\"\u001b[39m: allow_redirects,\n\u001b[0;32m    587\u001b[0m }\n\u001b[0;32m    588\u001b[0m send_kwargs\u001b[38;5;241m.\u001b[39mupdate(settings)\n\u001b[1;32m--> 589\u001b[0m resp \u001b[38;5;241m=\u001b[39m \u001b[38;5;28;43mself\u001b[39;49m\u001b[38;5;241;43m.\u001b[39;49m\u001b[43msend\u001b[49m\u001b[43m(\u001b[49m\u001b[43mprep\u001b[49m\u001b[43m,\u001b[49m\u001b[43m \u001b[49m\u001b[38;5;241;43m*\u001b[39;49m\u001b[38;5;241;43m*\u001b[39;49m\u001b[43msend_kwargs\u001b[49m\u001b[43m)\u001b[49m\n\u001b[0;32m    591\u001b[0m \u001b[38;5;28;01mreturn\u001b[39;00m resp\n",
      "File \u001b[1;32m~\\AppData\\Local\\Packages\\PythonSoftwareFoundation.Python.3.12_qbz5n2kfra8p0\\LocalCache\\local-packages\\Python312\\site-packages\\requests\\sessions.py:703\u001b[0m, in \u001b[0;36mSession.send\u001b[1;34m(self, request, **kwargs)\u001b[0m\n\u001b[0;32m    700\u001b[0m start \u001b[38;5;241m=\u001b[39m preferred_clock()\n\u001b[0;32m    702\u001b[0m \u001b[38;5;66;03m# Send the request\u001b[39;00m\n\u001b[1;32m--> 703\u001b[0m r \u001b[38;5;241m=\u001b[39m \u001b[43madapter\u001b[49m\u001b[38;5;241;43m.\u001b[39;49m\u001b[43msend\u001b[49m\u001b[43m(\u001b[49m\u001b[43mrequest\u001b[49m\u001b[43m,\u001b[49m\u001b[43m \u001b[49m\u001b[38;5;241;43m*\u001b[39;49m\u001b[38;5;241;43m*\u001b[39;49m\u001b[43mkwargs\u001b[49m\u001b[43m)\u001b[49m\n\u001b[0;32m    705\u001b[0m \u001b[38;5;66;03m# Total elapsed time of the request (approximately)\u001b[39;00m\n\u001b[0;32m    706\u001b[0m elapsed \u001b[38;5;241m=\u001b[39m preferred_clock() \u001b[38;5;241m-\u001b[39m start\n",
      "File \u001b[1;32m~\\AppData\\Local\\Packages\\PythonSoftwareFoundation.Python.3.12_qbz5n2kfra8p0\\LocalCache\\local-packages\\Python312\\site-packages\\requests\\adapters.py:700\u001b[0m, in \u001b[0;36mHTTPAdapter.send\u001b[1;34m(self, request, stream, timeout, verify, cert, proxies)\u001b[0m\n\u001b[0;32m    696\u001b[0m     \u001b[38;5;28;01mif\u001b[39;00m \u001b[38;5;28misinstance\u001b[39m(e\u001b[38;5;241m.\u001b[39mreason, _SSLError):\n\u001b[0;32m    697\u001b[0m         \u001b[38;5;66;03m# This branch is for urllib3 v1.22 and later.\u001b[39;00m\n\u001b[0;32m    698\u001b[0m         \u001b[38;5;28;01mraise\u001b[39;00m SSLError(e, request\u001b[38;5;241m=\u001b[39mrequest)\n\u001b[1;32m--> 700\u001b[0m     \u001b[38;5;28;01mraise\u001b[39;00m \u001b[38;5;167;01mConnectionError\u001b[39;00m(e, request\u001b[38;5;241m=\u001b[39mrequest)\n\u001b[0;32m    702\u001b[0m \u001b[38;5;28;01mexcept\u001b[39;00m ClosedPoolError \u001b[38;5;28;01mas\u001b[39;00m e:\n\u001b[0;32m    703\u001b[0m     \u001b[38;5;28;01mraise\u001b[39;00m \u001b[38;5;167;01mConnectionError\u001b[39;00m(e, request\u001b[38;5;241m=\u001b[39mrequest)\n",
      "\u001b[1;31mConnectionError\u001b[0m: HTTPSConnectionPool(host='en.wikipedia.org', port=443): Max retries exceeded with url: /wiki/Pythonidae (Caused by NameResolutionError(\"<urllib3.connection.HTTPSConnection object at 0x000001750023D250>: Failed to resolve 'en.wikipedia.org' ([Errno 11001] getaddrinfo failed)\"))"
     ]
    }
   ],
   "source": [
    "# hit link form file and print status\n",
    "\n",
    "for all_links in var[\"links\"]:\n",
    "    var1 = requests.get(all_links)\n",
    "    if var1.status_code == 200:\n",
    "        print(\"link is hitted\")\n",
    "    else:\n",
    "        print(\"links is not hitted\")"
   ]
  },
  {
   "cell_type": "code",
   "execution_count": 16,
   "metadata": {},
   "outputs": [
    {
     "ename": "NameError",
     "evalue": "name 'links' is not defined",
     "output_type": "error",
     "traceback": [
      "\u001b[1;31m---------------------------------------------------------------------------\u001b[0m",
      "\u001b[1;31mNameError\u001b[0m                                 Traceback (most recent call last)",
      "Cell \u001b[1;32mIn[16], line 3\u001b[0m\n\u001b[0;32m      1\u001b[0m link_status \u001b[38;5;241m=\u001b[39m []\n\u001b[1;32m----> 3\u001b[0m \u001b[38;5;28;01mfor\u001b[39;00m all_links \u001b[38;5;129;01min\u001b[39;00m \u001b[43mlinks\u001b[49m:\n\u001b[0;32m      4\u001b[0m     \u001b[38;5;28;01mtry\u001b[39;00m:\n\u001b[0;32m      5\u001b[0m         var1 \u001b[38;5;241m=\u001b[39m  requests\u001b[38;5;241m.\u001b[39mget(all_links)\n",
      "\u001b[1;31mNameError\u001b[0m: name 'links' is not defined"
     ]
    }
   ],
   "source": [
    "link_status = []\n",
    "\n",
    "for all_links in links:\n",
    "    try:\n",
    "        var1 =  requests.get(all_links)\n",
    "        if var1.status_code == 200:\n",
    "            print(f\"{var1} is hitted \")\n",
    "        else:\n",
    "            print(f\"{var1} : is not hitted\")\n",
    "\n",
    "    except :\n",
    "\n",
    "        print(f\"error with link {var1}\")\n",
    "\n",
    "\n",
    "                \n",
    "        \n"
   ]
  },
  {
   "cell_type": "code",
   "execution_count": null,
   "metadata": {},
   "outputs": [],
   "source": [
    "link_status = []\n",
    "\n",
    "for all_links in links:\n",
    "    try:\n",
    "        var =  requests.get(all_links)\n",
    "        if var.status_code == 200:\n",
    "            link_status.append(var,\"link is hitted\")\n",
    "            # print(f\"{var} is hitted \")\n",
    "        else:\n",
    "            link_status.append(var,\"link is not hitted\")\n",
    "            print(f\"{var} : is not hitted\")\n",
    "\n",
    "    except :\n",
    "\n",
    "        print(f\"error with link {var}\")"
   ]
  },
  {
   "cell_type": "code",
   "execution_count": null,
   "metadata": {},
   "outputs": [],
   "source": []
  },
  {
   "cell_type": "code",
   "execution_count": null,
   "metadata": {},
   "outputs": [],
   "source": []
  },
  {
   "cell_type": "markdown",
   "metadata": {},
   "source": [
    "# Assigment 5"
   ]
  },
  {
   "cell_type": "code",
   "execution_count": 12,
   "metadata": {},
   "outputs": [],
   "source": [
    "import requests\n",
    "from bs4 import BeautifulSoup\n"
   ]
  },
  {
   "cell_type": "code",
   "execution_count": null,
   "metadata": {},
   "outputs": [],
   "source": [
    "r = requests.get(\"https://www.yello.ae/category/computer-services\")\n",
    "if r.status_code == 200:\n",
    "    print(\"link is hitted\")\n",
    "    soup = BeautifulSoup(r.text, \"html.parser\")\n",
    "else:\n",
    "    print(\"link is not hitted\")"
   ]
  },
  {
   "cell_type": "code",
   "execution_count": null,
   "metadata": {},
   "outputs": [],
   "source": [
    "next_page = soup.find(\"a\", class_ = \"pages_arrow\")\n",
    "print(\"https://www.yello.ae\"+next_page[\"href\"])"
   ]
  },
  {
   "cell_type": "code",
   "execution_count": null,
   "metadata": {},
   "outputs": [],
   "source": [
    "url = \"https://www.yello.ae/category/computer-services\"\n",
    "for i in range(6):\n",
    "    r = requests.get(url)\n",
    "    if r.status_code == 200:\n",
    "        soup = BeautifulSoup(r.text, \"html.parser\")\n",
    "\n",
    "        a_tag =  soup.find(\"a\", class_ = \"pages_arrow\")\n",
    "        link = a_tag[\"href\"]\n",
    "\n",
    "        print(\"link no \" , i)\n",
    "        url = \"https://www.yello.ae\"+link\n",
    "        print(url)\n"
   ]
  },
  {
   "cell_type": "code",
   "execution_count": null,
   "metadata": {},
   "outputs": [],
   "source": [
    "import requests\n",
    "from bs4 import BeautifulSoup\n",
    "\n",
    "links = []\n",
    "\n",
    "url = \"https://www.yello.ae/category/computer-services\"\n",
    "for i in range(6):  # Adjust the range for the number of pages you want to scrape\n",
    "    r = requests.get(url)\n",
    "    if r.status_code == 200:\n",
    "        soup = BeautifulSoup(r.text, \"html.parser\")\n",
    "\n",
    "        # Find the next page link using rel='next'\n",
    "        a_tag = soup.find(\"a\", {\"rel\": \"next\"})\n",
    "        if a_tag is None:\n",
    "            print(\"No more pages\")\n",
    "            break\n",
    "        \n",
    "        link = a_tag[\"href\"]\n",
    "     \n",
    "        \n",
    "        # Construct the full URL for the next \n",
    "        links.append(url)\n",
    "        url = \"https://www.yello.ae\" + link\n",
    "        \n",
    "        print(\"Next page URL:\", url)\n",
    "\n",
    "\n"
   ]
  },
  {
   "cell_type": "code",
   "execution_count": null,
   "metadata": {},
   "outputs": [],
   "source": [
    "print(links)"
   ]
  },
  {
   "cell_type": "code",
   "execution_count": 18,
   "metadata": {},
   "outputs": [],
   "source": [
    "import pandas as pd\n",
    "data = pd.DataFrame()\n",
    "data[\"links\"] = links\n",
    "\n",
    "data.to_csv(\"yellolinks.csv\")"
   ]
  },
  {
   "cell_type": "code",
   "execution_count": null,
   "metadata": {},
   "outputs": [],
   "source": [
    "\n",
    "# var1 = pd.read_csv(\"yellolinks.csv\")\n",
    "# company_address = []\n",
    "# compnay_name = []\n",
    "# for i in var1[\"links\"]:\n",
    "#     r =  requests.get(i)\n",
    "#     soup = BeautifulSoup(r.text, \"html.parser\")\n",
    "#     if r.status_code == 200:\n",
    "#         div_h4 = soup.find_all(\"div\",class_=\"company with_img g_0\")\n",
    "#         div_add = soup.find_all(\"div\", class_ = \"address\")  #in thsi we got some extra addres becouse there were some adds so it pit extra addresses\n",
    "#         for h4 in div_h4:\n",
    "#             compnay_name.append(h4.find(\"h4\").text)\n",
    "#             print(h4.find(\"h4\").text)\n",
    "#         for add in div_add:\n",
    "#             company_address.append(add.text)\n",
    "#             print(add.text)\n",
    "\n",
    "#     print(f\"\\n  {i} page data is scrapted\")"
   ]
  },
  {
   "cell_type": "code",
   "execution_count": null,
   "metadata": {},
   "outputs": [],
   "source": [
    "print(len(company_address))\n",
    "print(len(compnay_name))"
   ]
  },
  {
   "cell_type": "code",
   "execution_count": null,
   "metadata": {},
   "outputs": [],
   "source": [
    "# data[\"company_names\"] = compnay_name\n",
    "# data[\"address\"] = company_address\n",
    "# print(data)\n",
    "\n",
    "# main_data =  pd.DataFrame()\n",
    "# main_data[\"company_names\"] = compnay_name\n",
    "# main_data[\"company_address\"] = company_address\n",
    "# print(main_data)"
   ]
  },
  {
   "cell_type": "code",
   "execution_count": null,
   "metadata": {},
   "outputs": [],
   "source": [
    "import requests\n",
    "from bs4 import BeautifulSoup\n",
    "url = \"https://www.yello.ae/category/computer-services\"\n",
    "r = requests.get(url)\n",
    "soup = BeautifulSoup(r.text,\"html.parser\")\n",
    "\n",
    "var_head = soup.find_all(\"div\", class_ = \"company with_img g_0\")\n",
    "div_add = []\n",
    "for all_add in var_head:\n",
    "    div_add.append(all_add.find(\"div\" , class_=\"address\"))\n",
    "# var_add = var_head.find_all(\"div\",class_ = \"address\")\n",
    "\n",
    "\n",
    "list_h4 = []\n",
    "list_add = []\n",
    "for div_h4 in var_head:\n",
    "    list_h4.append(div_h4.find(\"h4\").text)\n",
    "    print(div_h4.find(\"h4\").text)\n",
    "\n",
    "for add in div_add:\n",
    "    list_add.append(add.text)\n",
    "    print(add.text)\n",
    "\n",
    "\n",
    "in this i use too many loops i can find it by onoe loop \n",
    "\n"
   ]
  },
  {
   "cell_type": "code",
   "execution_count": null,
   "metadata": {},
   "outputs": [],
   "source": [
    "import requests\n",
    "from bs4 import BeautifulSoup\n",
    "url = \"https://www.yello.ae/category/computer-services\"\n",
    "r = requests.get(url)\n",
    "soup = BeautifulSoup(r.text,\"html.parser\")\n",
    "\n",
    "var_head = soup.find_all(\"div\", class_ = \"company with_img g_0\")\n",
    "\n",
    "list_add = []\n",
    "list_name = []\n",
    "\n",
    "for all_add in var_head:\n",
    "    header = all_add.find('h4')\n",
    "    # print(header[\"href\"])\n",
    "    list_name.append(header.text)\n",
    "    add  = all_add.find(\"div\" , class_=\"address\")\n",
    "\n",
    "    list_add.append(add.text)\n",
    "    \n",
    "    \n",
    "    print(header.text,add.text)\n",
    "\n"
   ]
  },
  {
   "cell_type": "code",
   "execution_count": 23,
   "metadata": {},
   "outputs": [],
   "source": [
    "import pandas as pd\n",
    "my_data = pd.DataFrame()\n",
    "my_data[\"company_name\"] = list_name\n",
    "my_data[\"company_add\"] = list_add\n",
    "my_data.to_csv(\"company_detailed.csv\", index= False)\n",
    "# type(my_data)"
   ]
  },
  {
   "cell_type": "code",
   "execution_count": null,
   "metadata": {},
   "outputs": [],
   "source": [
    "# import pandas as pd\n",
    "# data2 =  pd.DataFrame()\n",
    "# data2[\"company_names\"] = list_h4\n",
    "# data2[\"company_add\"] = list_add\n",
    "\n",
    "# print(data2)\n"
   ]
  },
  {
   "cell_type": "code",
   "execution_count": null,
   "metadata": {},
   "outputs": [],
   "source": [
    "for link in list_name:\n",
    "    print(link[\"href\"])"
   ]
  },
  {
   "cell_type": "code",
   "execution_count": null,
   "metadata": {},
   "outputs": [],
   "source": []
  },
  {
   "cell_type": "markdown",
   "metadata": {},
   "source": [
    "# Assignment 21-oct-24"
   ]
  },
  {
   "cell_type": "code",
   "execution_count": 22,
   "metadata": {},
   "outputs": [
    {
     "name": "stdout",
     "output_type": "stream",
     "text": [
      "Guangzhou Computer Photocopier Printer Repair\n",
      "https://www.yello.ae//company/350673/guangzhou-computer-photocopier-printer-repair-duba\n",
      "Address: Office No. 301, 3rd Floor, Janayen Holding Limited, Al Qouz 3rd , Dubai, UAE\n",
      "\n",
      "Shahriari Computer Trading Co LLC\n",
      "https://www.yello.ae//company/67743/shahriari-computer-trading-co-llc\n",
      "Address: Naif Rd - Naif, Box No. 4070, Dubai, UAE\n",
      "\n",
      "Al Tasami Computer & Elect Devices Maint\n",
      "https://www.yello.ae//company/189065/al-tasami-computerelect-devices-maint\n",
      "Address: PO Box No 19693, Butina Street Opposite Zulekha Hospital, Sharjah, UAE\n",
      "\n",
      "Alayoubi Technologies | Smart Home Automation\n",
      "https://www.yello.ae//company/350543/alayoubi-technologies-llc\n",
      "Address: M Hotel Downtown by Millennium Dubai Office #405, UAE\n",
      "\n",
      "NIP Trading LLC\n",
      "https://www.yello.ae//company/49242/n-i-p-trading-llc\n",
      "Address: Block Al Raffa, Bur Dubai , Near Hyde Park Hotel ,Dubai , UAE\n",
      "\n",
      "Al-shakhsiah Computer Devices Tr.\n",
      "https://www.yello.ae//company/346091/al-shakhsiah-computer-devices-tr\n",
      "Address: Bu Tena - Al Sharq, Sharjah, UAE\n",
      "\n",
      "CCTV Cameras Installation\n",
      "https://www.yello.ae//company/354599/al-saqer-warningcontrol-devices-tr-llc\n",
      "Address: Office No.3 Building No.1308 Behind Wesgreen School,Muwaileh Commercial, Sharjah, UAE\n",
      "\n",
      "Sunrise Computer & Network LLC \n",
      "https://www.yello.ae//company/348858/sunrise-computernetwork-llc\n",
      "Address: Near Emirates Future School , Shayabiya ME-10, Mussafah., Abu Dhabi, UAE\n",
      "\n",
      "Best Net International Trading LLC\n",
      "https://www.yello.ae//company/94639/best-net-international-trading-llc\n",
      "Address:  21 Al Nahdha St - Al Fahidi, Dubai, UAE\n",
      "\n",
      "Realnet Technology Trading LLC\n",
      "https://www.yello.ae//company/300913/realnet-technology-trading\n",
      "Address:  20 Al Nahdha St - Al Fahidi, Dubai, UAE\n",
      "\n",
      "Elecsys Integration LLC\n",
      "https://www.yello.ae//company/300999/elecsys-integration-llc\n",
      "Address: P.O. Box: 98981, Dubai, UAE\n",
      "\n",
      "Logical Network Solutions\n",
      "https://www.yello.ae//company/345135/logical-network-solutions\n",
      "Address: Office 1903 Tamani Arts Offices Business, Dubai, UAE\n",
      "\n",
      "Impulse Technologies LLC\n",
      "https://www.yello.ae//company/355016/impulse-technologies-llc\n",
      "Address: international city, china cluster, E-02  Dubai-UAE\n",
      "\n",
      "Delicate Software Solutions\n",
      "https://www.yello.ae//company/317492/delicate-software-solutions\n",
      "Address: Dubai, UAE\n",
      "\n",
      "GloTech System L.L.C\n",
      "https://www.yello.ae//company/344830/glotech-system-llc\n",
      "Address: P.O.Box:- 241529, Dubai, UAE\n",
      "\n",
      "Interlink Technology LLC\n",
      "https://www.yello.ae//company/347822/interlink-technology-llc\n",
      "Address: Hamdan Street Behind Emirates Market, Abu Dhabi, UAE\n",
      "\n",
      "iPad Rental Dubai - Techno Edge Systems L.L.C\n",
      "https://www.yello.ae//company/351647/ipad-rental-dubai-techno-edge-systems-llc\n",
      "Address: Office No 5, 3rd Floor, Suk Al Kabeer Building Computer Street,Al Raffa Police Station Road., Dubai, UAE\n",
      "\n",
      "Shibaam Computers LLC\n",
      "https://www.yello.ae//company/347399/shibaam-computers-llc\n",
      "Address: Sm4, Mezzanine Floor, Deira Towers, Opp. Baniyas Metro Station. , Dubai, UAE\n",
      "\n",
      "Trionix - Development, Design, Digital Marketing\n",
      "https://www.yello.ae//company/353925/trionix-development-design-digital-marketing\n",
      "Address: Hamdan Street, Abu Dhabi, UAE\n",
      "\n",
      "Mobisat IT Solution\n",
      "https://www.yello.ae//company/344163/mobisat-it-solution\n",
      "Address: 104, Al Makhawi Building Oud Metha, Dubai, UAE\n",
      "\n",
      "Appleforce\n",
      "https://www.yello.ae//company/357906/appleforce\n",
      "Address: ComNet International L.L.C Shop 13 & 14 Bayat Center Buil Bur Dubai, UAE\n",
      "\n",
      "Emirates Portal IT solutions\n",
      "https://www.yello.ae//company/347867/emirates-portal-it-solutions\n",
      "Address: ME10 - 66th Street - Building No 2 - Office No M3, Abu Dhabi, UAE\n",
      "\n",
      "Landex Technologies LLC\n",
      "https://www.yello.ae//company/89840/landex-technologies-llc\n",
      "Address: Box No. 16110, Dubai, UAE\n",
      "\n",
      "SanPaul International LLC\n",
      "https://www.yello.ae//company/347184/sanpaul-it-is-l-l-c\n",
      "Address: Warehouse # 31A Al Qouz 2, Dubai, Near Jotun Paint Factory., UAE\n",
      "\n",
      "Al Furqan Computers\n",
      "https://www.yello.ae//company/94502/al-furqan-computers\n",
      "Address: P.O Box: 63936, Deira, Dubai, UAE\n",
      "\n",
      "TouchActiv Glass Works LLC\n",
      "https://www.yello.ae//company/349451/touchactiv-glass-works-llc\n",
      "Address: Rasal Khor Industrial Area 1, Dubai, UAE\n",
      "\n",
      "Future Art Broadcast Trading LLC\n",
      "https://www.yello.ae//company/47315/future-art-broadcast-trading-llc\n",
      "Address: Box No. 98722, Dubai, UAE\n",
      "\n",
      "UBER FZCO\n",
      "https://www.yello.ae//company/106836/uber-fze\n",
      "Address: Gate No. 5, South Side, Jebel Ali Freezone (JAFZ), Jebel Ali Free Zone (JAFZ), UAE\n",
      "\n",
      "Chipin Corporation\n",
      "https://www.yello.ae//company/348264/chipin-corporation\n",
      "Address: M2, Park View Building, Al Majaz 2, Sharjah, UAE\n",
      "\n"
     ]
    }
   ],
   "source": [
    "# 1. extract name,address and profile link of each company from https://www.yello.ae/category/computer-services and save into csv\n",
    "import requests\n",
    "from bs4 import BeautifulSoup\n",
    "r = requests.get(\"https://www.yello.ae/category/computer-services\")\n",
    "soup = BeautifulSoup(r.text, \"html.parser\")\n",
    "if r.status_code == 200:\n",
    "    main_div =  soup.find_all(\"div\", class_ = \"company with_img g_0\")\n",
    "    for i in main_div:\n",
    "        print(i.find(\"h4\").text)\n",
    "        print(\"https://www.yello.ae/\"+i.find(\"a\")[\"href\"])\n",
    "        print(i.find(\"div\", class_=\"address\").text)\n",
    "        print()\n"
   ]
  },
  {
   "cell_type": "code",
   "execution_count": 24,
   "metadata": {},
   "outputs": [
    {
     "name": "stdout",
     "output_type": "stream",
     "text": [
      "<div class=\"company with_img g_0\" data-cmpid=\"350673\">\n",
      " <div class=\"company_header\">\n",
      "  <h4>\n",
      "   <a href=\"/company/350673/guangzhou-computer-photocopier-printer-repair-duba\" target=\"_blank\" title=\"Guangzhou Computer Photocopier Printer Repair\">\n",
      "    Guangzhou Computer Photocopier Printer Repair\n",
      "   </a>\n",
      "  </h4>\n",
      "  <div class=\"address\">\n",
      "   Address: Office No. 301, 3rd Floor, Janayen Holding Limited, Al Qouz 3rd ,\n",
      "   <b>\n",
      "    Dubai\n",
      "   </b>\n",
      "   , UAE\n",
      "  </div>\n",
      " </div>\n",
      " <div class=\"tagline\">\n",
      "  Specialized repair services for printers and copiers.\n",
      " </div>\n",
      " <a class=\"logo\" href=\"/company/350673/guangzhou-computer-photocopier-printer-repair-duba\" target=\"_blank\" title=\"Guangzhou Computer Photocopier Printer Repair Business Page\">\n",
      "  <img alt=\"Guangzhou Computer Photocopier Printer Repair\" class=\"lazy-img\" data-src=\"/img/ae/k/_1450934118-12-computer-laptop-printer-repair-home-service.jpg\" height=\"90\" src=\"data:image/gif;base64,R0lGODlhAQABAIABAP///wAAACH5BAEKAAEALAAAAAABAAEAAAICTAEAOw==\" width=\"90\"/>\n",
      " </a>\n",
      " <div class=\"cont\">\n",
      "  <u class=\"v\">\n",
      "   <i aria-hidden=\"true\" class=\"fa fa-check-circle\">\n",
      "   </i>\n",
      "   Verified\n",
      "  </u>\n",
      "  <u class=\"v v4\">\n",
      "   <b>\n",
      "    +9\n",
      "   </b>\n",
      "   Years with us\n",
      "  </u>\n",
      "  <u class=\"v v4\">\n",
      "   <i aria-hidden=\"true\" class=\"fa fa-bolt\">\n",
      "   </i>\n",
      "   Updated\n",
      "  </u>\n",
      " </div>\n",
      " <div class=\"clear\">\n",
      " </div>\n",
      " <div class=\"cont\">\n",
      "  <div class=\"s\">\n",
      "   <i aria-hidden=\"true\" class=\"fa fa-phone\">\n",
      "   </i>\n",
      "   <span>\n",
      "    +971 52 823 7560\n",
      "   </span>\n",
      "  </div>\n",
      "  <div class=\"s\">\n",
      "   <i aria-hidden=\"true\" class=\"fa fa-calendar\">\n",
      "   </i>\n",
      "   <span>\n",
      "    2015 Established\n",
      "   </span>\n",
      "  </div>\n",
      "  <div class=\"s\">\n",
      "   <i aria-hidden=\"true\" class=\"fa fa-envelope\">\n",
      "   </i>\n",
      "   <span>\n",
      "    E-mail\n",
      "   </span>\n",
      "  </div>\n",
      "  <div class=\"s\">\n",
      "   <i aria-hidden=\"true\" class=\"fa fa-globe\">\n",
      "   </i>\n",
      "   <span>\n",
      "    Website\n",
      "   </span>\n",
      "  </div>\n",
      "  <div class=\"s\">\n",
      "   <i aria-hidden=\"true\" class=\"fa fa-picture-o\">\n",
      "   </i>\n",
      "   <span>\n",
      "    1 Photos\n",
      "   </span>\n",
      "  </div>\n",
      " </div>\n",
      " <div class=\"clear\">\n",
      " </div>\n",
      " <div class=\"company_reviews\">\n",
      "  <div class=\"stars\">\n",
      "  </div>\n",
      "  <div class=\"rate\">\n",
      "   5.0\n",
      "  </div>\n",
      "  6 Reviews\n",
      " </div>\n",
      "</div>\n",
      "\n"
     ]
    }
   ],
   "source": [
    "print(main_div[0].prettify())"
   ]
  },
  {
   "cell_type": "code",
   "execution_count": 30,
   "metadata": {},
   "outputs": [
    {
     "data": {
      "text/plain": [
       "'+971 52 823 7560'"
      ]
     },
     "execution_count": 30,
     "metadata": {},
     "output_type": "execute_result"
    }
   ],
   "source": [
    "main_div[0].find_all(\"div\",class_ = \"cont\")[-1].find(\"span\").text"
   ]
  },
  {
   "cell_type": "code",
   "execution_count": null,
   "metadata": {},
   "outputs": [],
   "source": []
  },
  {
   "cell_type": "code",
   "execution_count": null,
   "metadata": {},
   "outputs": [],
   "source": []
  },
  {
   "cell_type": "code",
   "execution_count": 3,
   "metadata": {},
   "outputs": [],
   "source": [
    "r = requests.get(\"https://www.yello.ae/category/computer-services\")\n",
    "soup = BeautifulSoup(r.text, \"html.parser\")\n",
    "list_comp_name = []\n",
    "list_comp_link = []\n",
    "list_comp_add  = []\n",
    "\n",
    "if r.status_code == 200:\n",
    "    main_div =  soup.find_all(\"div\", class_ = \"company with_img g_0\")\n",
    "    for i in main_div:\n",
    "        list_comp_name.append(i.find(\"h4\").text)\n",
    "        list_comp_add.append(i.find(\"div\", class_ = \"address\").text)\n",
    "        list_comp_link.append(\"https://www.yello.ae\"+i.find(\"a\")[\"href\"])\n",
    "        \n",
    "\n"
   ]
  },
  {
   "cell_type": "code",
   "execution_count": null,
   "metadata": {},
   "outputs": [],
   "source": [
    "print(list_comp_link)\n",
    "print(list_comp_add)\n",
    "print(list_comp_name)"
   ]
  },
  {
   "cell_type": "code",
   "execution_count": 13,
   "metadata": {},
   "outputs": [],
   "source": [
    "r = requests.get(\"https://www.yello.ae/category/computer-services/2\")\n",
    "soup = BeautifulSoup(r.text, \"html.parser\")\n",
    "\n",
    "\n",
    "if r.status_code == 200:\n",
    "    main_div =  soup.find_all(\"div\", class_ = \"company with_img g_0\")\n",
    "    for i in main_div:\n",
    "        list_comp_name.append(i.find(\"h4\").text)\n",
    "        list_comp_add.append(i.find(\"div\", class_ = \"address\").text)\n",
    "        list_comp_link.append(\"https://www.yello.ae\"+i.find(\"a\")[\"href\"])"
   ]
  },
  {
   "cell_type": "code",
   "execution_count": 14,
   "metadata": {},
   "outputs": [],
   "source": [
    "r = requests.get(\"https://www.yello.ae/category/computer-services/3\")\n",
    "soup = BeautifulSoup(r.text, \"html.parser\")\n",
    "\n",
    "\n",
    "if r.status_code == 200:\n",
    "    main_div =  soup.find_all(\"div\", class_ = \"company with_img g_0\")\n",
    "    for i in main_div:\n",
    "        list_comp_name.append(i.find(\"h4\").text)\n",
    "        list_comp_add.append(i.find(\"div\", class_ = \"address\").text)\n",
    "        list_comp_link.append(\"https://www.yello.ae\"+i.find(\"a\")[\"href\"])"
   ]
  },
  {
   "cell_type": "code",
   "execution_count": 15,
   "metadata": {},
   "outputs": [],
   "source": [
    "r = requests.get(\"https://www.yello.ae/category/computer-services/4\")\n",
    "soup = BeautifulSoup(r.text, \"html.parser\")\n",
    "\n",
    "\n",
    "if r.status_code == 200:\n",
    "    main_div =  soup.find_all(\"div\", class_ = \"company with_img g_0\")\n",
    "    for i in main_div:\n",
    "        list_comp_name.append(i.find(\"h4\").text)\n",
    "        list_comp_add.append(i.find(\"div\", class_ = \"address\").text)\n",
    "        list_comp_link.append(\"https://www.yello.ae\"+i.find(\"a\")[\"href\"])"
   ]
  },
  {
   "cell_type": "code",
   "execution_count": 16,
   "metadata": {},
   "outputs": [],
   "source": [
    "r = requests.get(\"https://www.yello.ae/category/computer-services/5\")\n",
    "soup = BeautifulSoup(r.text, \"html.parser\")\n",
    "\n",
    "\n",
    "if r.status_code == 200:\n",
    "    main_div =  soup.find_all(\"div\", class_ = \"company with_img g_0\")\n",
    "    for i in main_div:\n",
    "        list_comp_name.append(i.find(\"h4\").text)\n",
    "        list_comp_add.append(i.find(\"div\", class_ = \"address\").text)\n",
    "        list_comp_link.append(\"https://www.yello.ae\"+i.find(\"a\")[\"href\"])"
   ]
  },
  {
   "cell_type": "code",
   "execution_count": 1,
   "metadata": {},
   "outputs": [
    {
     "ename": "NameError",
     "evalue": "name 'list_comp_name' is not defined",
     "output_type": "error",
     "traceback": [
      "\u001b[1;31m---------------------------------------------------------------------------\u001b[0m",
      "\u001b[1;31mNameError\u001b[0m                                 Traceback (most recent call last)",
      "Cell \u001b[1;32mIn[1], line 3\u001b[0m\n\u001b[0;32m      1\u001b[0m \u001b[38;5;28;01mimport\u001b[39;00m \u001b[38;5;21;01mpandas\u001b[39;00m \u001b[38;5;28;01mas\u001b[39;00m \u001b[38;5;21;01mpd\u001b[39;00m\n\u001b[0;32m      2\u001b[0m comp_data \u001b[38;5;241m=\u001b[39m pd\u001b[38;5;241m.\u001b[39mDataFrame()\n\u001b[1;32m----> 3\u001b[0m comp_data[\u001b[38;5;124m\"\u001b[39m\u001b[38;5;124mName\u001b[39m\u001b[38;5;124m\"\u001b[39m] \u001b[38;5;241m=\u001b[39m \u001b[43mlist_comp_name\u001b[49m\n\u001b[0;32m      4\u001b[0m comp_data[\u001b[38;5;124m\"\u001b[39m\u001b[38;5;124mAddress\u001b[39m\u001b[38;5;124m\"\u001b[39m] \u001b[38;5;241m=\u001b[39m list_comp_add\n\u001b[0;32m      5\u001b[0m comp_data[\u001b[38;5;124m\"\u001b[39m\u001b[38;5;124mLinks\u001b[39m\u001b[38;5;124m\"\u001b[39m] \u001b[38;5;241m=\u001b[39m list_comp_link\n",
      "\u001b[1;31mNameError\u001b[0m: name 'list_comp_name' is not defined"
     ]
    }
   ],
   "source": [
    "import pandas as pd\n",
    "comp_data = pd.DataFrame()\n",
    "comp_data[\"Name\"] = list_comp_name\n",
    "comp_data[\"Address\"] = list_comp_add\n",
    "comp_data[\"Links\"] = list_comp_link\n",
    "\n",
    "print(comp_data)"
   ]
  },
  {
   "cell_type": "code",
   "execution_count": 3,
   "metadata": {},
   "outputs": [
    {
     "name": "stdout",
     "output_type": "stream",
     "text": [
      "https://www.yello.ae/category/computer-services/2\n",
      "https://www.yello.ae/category/computer-services/3\n",
      "https://www.yello.ae/category/computer-services/4\n",
      "https://www.yello.ae/category/computer-services/5\n",
      "https://www.yello.ae/category/computer-services/6\n"
     ]
    }
   ],
   "source": [
    "url = \"https://www.yello.ae/category/computer-services\"\n",
    "name_list = []\n",
    "link_list = []\n",
    "add_list = []\n",
    "extrac_from = []\n",
    "next_url = \"https://www.yello.ae/category/computer-services\"\n",
    "\n",
    "for i in range(2,7):\n",
    "    r = requests.get(url)\n",
    "    soup  = BeautifulSoup(r.text,\"html.parser\")\n",
    "    main_div = soup.find_all(\"div\", class_ = \"company with_img g_0\")\n",
    "    for j in main_div :\n",
    "        name_list.append(j.find(\"h4\").text)\n",
    "        link_list.append(\"https://www.yello.ae\"+j.find(\"a\")[\"href\"])\n",
    "        add_list.append(j.find(\"div\",class_= \"address\").text)\n",
    "        extrac_from.append(url)\n",
    "    \n",
    "    url = next_url + \"/\" +str(i)\n",
    "    # url = url+str(i)\n",
    "    print(url)\n",
    "\n",
    "\n"
   ]
  },
  {
   "cell_type": "code",
   "execution_count": 20,
   "metadata": {},
   "outputs": [
    {
     "data": {
      "text/plain": [
       "'https://www.yello.ae/category/computer-services/6'"
      ]
     },
     "execution_count": 20,
     "metadata": {},
     "output_type": "execute_result"
    }
   ],
   "source": [
    "url"
   ]
  },
  {
   "cell_type": "code",
   "execution_count": 19,
   "metadata": {},
   "outputs": [
    {
     "name": "stdout",
     "output_type": "stream",
     "text": [
      "<div class=\"company with_img g_0\" data-cmpid=\"359284\" id=\"cmap_1\">\n",
      " <div class=\"company_header\">\n",
      "  <h4>\n",
      "   <a href=\"/company/359284/alfa-lab\" target=\"_blank\" title=\"Alfa Lab\">\n",
      "    Alfa Lab\n",
      "   </a>\n",
      "  </h4>\n",
      "  <div class=\"address\">\n",
      "   Address: JLT, Cluster C, Fortune Tower, Office 1401,\n",
      "   <b>\n",
      "    Dubai\n",
      "   </b>\n",
      "   , UAE\n",
      "  </div>\n",
      " </div>\n",
      " <div class=\"tagline\">\n",
      "  Leading provider of innovative laboratory solutions.\n",
      " </div>\n",
      " <a class=\"logo\" href=\"/company/359284/alfa-lab\" target=\"_blank\" title=\"Alfa Lab Business Page\">\n",
      "  <img alt=\"Alfa Lab\" class=\"lazy-img\" data-src=\"/img/ae/e/_1512980456-20-alfa-lab.jpg\" height=\"90\" src=\"data:image/gif;base64,R0lGODlhAQABAIABAP///wAAACH5BAEKAAEALAAAAAABAAEAAAICTAEAOw==\" width=\"90\"/>\n",
      " </a>\n",
      " <div class=\"cont\">\n",
      "  <u class=\"v\">\n",
      "   <i aria-hidden=\"true\" class=\"fa fa-check-circle\">\n",
      "   </i>\n",
      "   Verified\n",
      "  </u>\n",
      "  <u class=\"v v4\">\n",
      "   <b>\n",
      "    +7\n",
      "   </b>\n",
      "   Years with us\n",
      "  </u>\n",
      " </div>\n",
      " <div class=\"clear\">\n",
      " </div>\n",
      " <div class=\"cont\">\n",
      "  <div class=\"s\">\n",
      "   <i aria-hidden=\"true\" class=\"fa fa-phone\">\n",
      "   </i>\n",
      "   <span>\n",
      "    +97142432539\n",
      "   </span>\n",
      "  </div>\n",
      "  <div class=\"s\">\n",
      "   <i aria-hidden=\"true\" class=\"fa fa-calendar\">\n",
      "   </i>\n",
      "   <span>\n",
      "    2016 Established\n",
      "   </span>\n",
      "  </div>\n",
      "  <div class=\"s\">\n",
      "   <i aria-hidden=\"true\" class=\"fa fa-envelope\">\n",
      "   </i>\n",
      "   <span>\n",
      "    E-mail\n",
      "   </span>\n",
      "  </div>\n",
      "  <div class=\"s\">\n",
      "   <i aria-hidden=\"true\" class=\"fa fa-map-marker\">\n",
      "   </i>\n",
      "   <span>\n",
      "    Map\n",
      "   </span>\n",
      "  </div>\n",
      "  <div class=\"s\">\n",
      "   <i aria-hidden=\"true\" class=\"fa fa-globe\">\n",
      "   </i>\n",
      "   <span>\n",
      "    Website\n",
      "   </span>\n",
      "  </div>\n",
      "  <div class=\"s\">\n",
      "   <i aria-hidden=\"true\" class=\"fa fa-picture-o\">\n",
      "   </i>\n",
      "   <span>\n",
      "    1 Photos\n",
      "   </span>\n",
      "  </div>\n",
      " </div>\n",
      " <div class=\"clear\">\n",
      " </div>\n",
      " <div class=\"mapmarker hidden\" data-key=\"1\" data-lng=\"55.1391192933472\" data-ltd=\"25.0690606879854\">\n",
      " </div>\n",
      "</div>\n",
      "\n"
     ]
    }
   ],
   "source": [
    "print(main_div[1].prettify())"
   ]
  },
  {
   "cell_type": "code",
   "execution_count": 4,
   "metadata": {},
   "outputs": [
    {
     "name": "stdout",
     "output_type": "stream",
     "text": [
      "144\n",
      "144\n",
      "144\n",
      "144\n"
     ]
    }
   ],
   "source": [
    "\n",
    "print(len(link_list))\n",
    "print(len(add_list))\n",
    "print(len(name_list))\n",
    "print(len(extrac_from))\n",
    "\n",
    "\n"
   ]
  },
  {
   "cell_type": "code",
   "execution_count": 5,
   "metadata": {},
   "outputs": [
    {
     "name": "stdout",
     "output_type": "stream",
     "text": [
      "                                              Name  \\\n",
      "0    Guangzhou Computer Photocopier Printer Repair   \n",
      "1                Shahriari Computer Trading Co LLC   \n",
      "2         Al Tasami Computer & Elect Devices Maint   \n",
      "3    Alayoubi Technologies | Smart Home Automation   \n",
      "4                                  NIP Trading LLC   \n",
      "..                                             ...   \n",
      "139                                   Almoe Fz LLC   \n",
      "140                                  ALWAFAA GROUP   \n",
      "141           apple macbook and ipad fix abu dhbai   \n",
      "142                             AQ SOLUTIONS - FZE   \n",
      "143                 ASURIO MOBILE TECHNOLOGIES LLC   \n",
      "\n",
      "                                               Address  \\\n",
      "0    Address: Office No. 301, 3rd Floor, Janayen Ho...   \n",
      "1    Address: Naif Rd - Naif, Box No. 4070, Dubai, UAE   \n",
      "2    Address: PO Box No 19693, Butina Street Opposi...   \n",
      "3    Address: M Hotel Downtown by Millennium Dubai ...   \n",
      "4    Address: Block Al Raffa, Bur Dubai , Near Hyde...   \n",
      "..                                                 ...   \n",
      "139  Address: JBC-5, Office # 2801, Jumeirah Lake T...   \n",
      "140                 Address: Box No. 65608, Dubai, UAE   \n",
      "141  Address: abu dhbi mina road near abu dhabi mal...   \n",
      "142            Address: DTEC- Dubai Silicon Oasis, UAE   \n",
      "143                Address: Box No. 450079, Dubai, UAE   \n",
      "\n",
      "                                                 Links  \\\n",
      "0    https://www.yello.ae/company/350673/guangzhou-...   \n",
      "1    https://www.yello.ae/company/67743/shahriari-c...   \n",
      "2    https://www.yello.ae/company/189065/al-tasami-...   \n",
      "3    https://www.yello.ae/company/350543/alayoubi-t...   \n",
      "4    https://www.yello.ae/company/49242/n-i-p-tradi...   \n",
      "..                                                 ...   \n",
      "139    https://www.yello.ae/company/48440/almoe-fz-llc   \n",
      "140   https://www.yello.ae/company/48448/alwafaa-group   \n",
      "141  https://www.yello.ae/company/344109/apple-macb...   \n",
      "142  https://www.yello.ae/company/351960/aq-solutio...   \n",
      "143  https://www.yello.ae/company/67289/asurio-mobi...   \n",
      "\n",
      "                                        Extracted_From  \n",
      "0      https://www.yello.ae/category/computer-services  \n",
      "1      https://www.yello.ae/category/computer-services  \n",
      "2      https://www.yello.ae/category/computer-services  \n",
      "3      https://www.yello.ae/category/computer-services  \n",
      "4      https://www.yello.ae/category/computer-services  \n",
      "..                                                 ...  \n",
      "139  https://www.yello.ae/category/computer-services/5  \n",
      "140  https://www.yello.ae/category/computer-services/5  \n",
      "141  https://www.yello.ae/category/computer-services/5  \n",
      "142  https://www.yello.ae/category/computer-services/5  \n",
      "143  https://www.yello.ae/category/computer-services/5  \n",
      "\n",
      "[144 rows x 4 columns]\n"
     ]
    }
   ],
   "source": [
    "comp_data_new = pd.DataFrame()\n",
    "comp_data_new[\"Name\"] = name_list\n",
    "comp_data_new[\"Address\"] = add_list\n",
    "comp_data_new[\"Links\"] = link_list\n",
    "comp_data_new[\"Extracted_From\"] = extrac_from\n",
    "comp_data_new.to_csv(\"yello_company_data.csv\",index=False)\n",
    "print(comp_data_new)\n"
   ]
  },
  {
   "cell_type": "code",
   "execution_count": 6,
   "metadata": {},
   "outputs": [
    {
     "data": {
      "text/html": [
       "<div>\n",
       "<style scoped>\n",
       "    .dataframe tbody tr th:only-of-type {\n",
       "        vertical-align: middle;\n",
       "    }\n",
       "\n",
       "    .dataframe tbody tr th {\n",
       "        vertical-align: top;\n",
       "    }\n",
       "\n",
       "    .dataframe thead th {\n",
       "        text-align: right;\n",
       "    }\n",
       "</style>\n",
       "<table border=\"1\" class=\"dataframe\">\n",
       "  <thead>\n",
       "    <tr style=\"text-align: right;\">\n",
       "      <th></th>\n",
       "      <th>Name</th>\n",
       "      <th>Address</th>\n",
       "      <th>Links</th>\n",
       "      <th>Extracted_From</th>\n",
       "    </tr>\n",
       "  </thead>\n",
       "  <tbody>\n",
       "    <tr>\n",
       "      <th>0</th>\n",
       "      <td>Guangzhou Computer Photocopier Printer Repair</td>\n",
       "      <td>Address: Office No. 301, 3rd Floor, Janayen Ho...</td>\n",
       "      <td>https://www.yello.ae/company/350673/guangzhou-...</td>\n",
       "      <td>https://www.yello.ae/category/computer-services</td>\n",
       "    </tr>\n",
       "    <tr>\n",
       "      <th>1</th>\n",
       "      <td>Shahriari Computer Trading Co LLC</td>\n",
       "      <td>Address: Naif Rd - Naif, Box No. 4070, Dubai, UAE</td>\n",
       "      <td>https://www.yello.ae/company/67743/shahriari-c...</td>\n",
       "      <td>https://www.yello.ae/category/computer-services</td>\n",
       "    </tr>\n",
       "    <tr>\n",
       "      <th>2</th>\n",
       "      <td>Al Tasami Computer &amp; Elect Devices Maint</td>\n",
       "      <td>Address: PO Box No 19693, Butina Street Opposi...</td>\n",
       "      <td>https://www.yello.ae/company/189065/al-tasami-...</td>\n",
       "      <td>https://www.yello.ae/category/computer-services</td>\n",
       "    </tr>\n",
       "    <tr>\n",
       "      <th>3</th>\n",
       "      <td>Alayoubi Technologies | Smart Home Automation</td>\n",
       "      <td>Address: M Hotel Downtown by Millennium Dubai ...</td>\n",
       "      <td>https://www.yello.ae/company/350543/alayoubi-t...</td>\n",
       "      <td>https://www.yello.ae/category/computer-services</td>\n",
       "    </tr>\n",
       "    <tr>\n",
       "      <th>4</th>\n",
       "      <td>NIP Trading LLC</td>\n",
       "      <td>Address: Block Al Raffa, Bur Dubai , Near Hyde...</td>\n",
       "      <td>https://www.yello.ae/company/49242/n-i-p-tradi...</td>\n",
       "      <td>https://www.yello.ae/category/computer-services</td>\n",
       "    </tr>\n",
       "    <tr>\n",
       "      <th>...</th>\n",
       "      <td>...</td>\n",
       "      <td>...</td>\n",
       "      <td>...</td>\n",
       "      <td>...</td>\n",
       "    </tr>\n",
       "    <tr>\n",
       "      <th>139</th>\n",
       "      <td>Almoe Fz LLC</td>\n",
       "      <td>Address: JBC-5, Office # 2801, Jumeirah Lake T...</td>\n",
       "      <td>https://www.yello.ae/company/48440/almoe-fz-llc</td>\n",
       "      <td>https://www.yello.ae/category/computer-services/5</td>\n",
       "    </tr>\n",
       "    <tr>\n",
       "      <th>140</th>\n",
       "      <td>ALWAFAA GROUP</td>\n",
       "      <td>Address: Box No. 65608, Dubai, UAE</td>\n",
       "      <td>https://www.yello.ae/company/48448/alwafaa-group</td>\n",
       "      <td>https://www.yello.ae/category/computer-services/5</td>\n",
       "    </tr>\n",
       "    <tr>\n",
       "      <th>141</th>\n",
       "      <td>apple macbook and ipad fix abu dhbai</td>\n",
       "      <td>Address: abu dhbi mina road near abu dhabi mal...</td>\n",
       "      <td>https://www.yello.ae/company/344109/apple-macb...</td>\n",
       "      <td>https://www.yello.ae/category/computer-services/5</td>\n",
       "    </tr>\n",
       "    <tr>\n",
       "      <th>142</th>\n",
       "      <td>AQ SOLUTIONS - FZE</td>\n",
       "      <td>Address: DTEC- Dubai Silicon Oasis, UAE</td>\n",
       "      <td>https://www.yello.ae/company/351960/aq-solutio...</td>\n",
       "      <td>https://www.yello.ae/category/computer-services/5</td>\n",
       "    </tr>\n",
       "    <tr>\n",
       "      <th>143</th>\n",
       "      <td>ASURIO MOBILE TECHNOLOGIES LLC</td>\n",
       "      <td>Address: Box No. 450079, Dubai, UAE</td>\n",
       "      <td>https://www.yello.ae/company/67289/asurio-mobi...</td>\n",
       "      <td>https://www.yello.ae/category/computer-services/5</td>\n",
       "    </tr>\n",
       "  </tbody>\n",
       "</table>\n",
       "<p>144 rows × 4 columns</p>\n",
       "</div>"
      ],
      "text/plain": [
       "                                              Name  \\\n",
       "0    Guangzhou Computer Photocopier Printer Repair   \n",
       "1                Shahriari Computer Trading Co LLC   \n",
       "2         Al Tasami Computer & Elect Devices Maint   \n",
       "3    Alayoubi Technologies | Smart Home Automation   \n",
       "4                                  NIP Trading LLC   \n",
       "..                                             ...   \n",
       "139                                   Almoe Fz LLC   \n",
       "140                                  ALWAFAA GROUP   \n",
       "141           apple macbook and ipad fix abu dhbai   \n",
       "142                             AQ SOLUTIONS - FZE   \n",
       "143                 ASURIO MOBILE TECHNOLOGIES LLC   \n",
       "\n",
       "                                               Address  \\\n",
       "0    Address: Office No. 301, 3rd Floor, Janayen Ho...   \n",
       "1    Address: Naif Rd - Naif, Box No. 4070, Dubai, UAE   \n",
       "2    Address: PO Box No 19693, Butina Street Opposi...   \n",
       "3    Address: M Hotel Downtown by Millennium Dubai ...   \n",
       "4    Address: Block Al Raffa, Bur Dubai , Near Hyde...   \n",
       "..                                                 ...   \n",
       "139  Address: JBC-5, Office # 2801, Jumeirah Lake T...   \n",
       "140                 Address: Box No. 65608, Dubai, UAE   \n",
       "141  Address: abu dhbi mina road near abu dhabi mal...   \n",
       "142            Address: DTEC- Dubai Silicon Oasis, UAE   \n",
       "143                Address: Box No. 450079, Dubai, UAE   \n",
       "\n",
       "                                                 Links  \\\n",
       "0    https://www.yello.ae/company/350673/guangzhou-...   \n",
       "1    https://www.yello.ae/company/67743/shahriari-c...   \n",
       "2    https://www.yello.ae/company/189065/al-tasami-...   \n",
       "3    https://www.yello.ae/company/350543/alayoubi-t...   \n",
       "4    https://www.yello.ae/company/49242/n-i-p-tradi...   \n",
       "..                                                 ...   \n",
       "139    https://www.yello.ae/company/48440/almoe-fz-llc   \n",
       "140   https://www.yello.ae/company/48448/alwafaa-group   \n",
       "141  https://www.yello.ae/company/344109/apple-macb...   \n",
       "142  https://www.yello.ae/company/351960/aq-solutio...   \n",
       "143  https://www.yello.ae/company/67289/asurio-mobi...   \n",
       "\n",
       "                                        Extracted_From  \n",
       "0      https://www.yello.ae/category/computer-services  \n",
       "1      https://www.yello.ae/category/computer-services  \n",
       "2      https://www.yello.ae/category/computer-services  \n",
       "3      https://www.yello.ae/category/computer-services  \n",
       "4      https://www.yello.ae/category/computer-services  \n",
       "..                                                 ...  \n",
       "139  https://www.yello.ae/category/computer-services/5  \n",
       "140  https://www.yello.ae/category/computer-services/5  \n",
       "141  https://www.yello.ae/category/computer-services/5  \n",
       "142  https://www.yello.ae/category/computer-services/5  \n",
       "143  https://www.yello.ae/category/computer-services/5  \n",
       "\n",
       "[144 rows x 4 columns]"
      ]
     },
     "execution_count": 6,
     "metadata": {},
     "output_type": "execute_result"
    }
   ],
   "source": [
    "comp_data_new"
   ]
  },
  {
   "cell_type": "code",
   "execution_count": 13,
   "metadata": {},
   "outputs": [
    {
     "data": {
      "text/plain": [
       "'https://www.yello.ae/company/347273/laptech-computer-salesservices'"
      ]
     },
     "execution_count": 13,
     "metadata": {},
     "output_type": "execute_result"
    }
   ],
   "source": [
    "comp_data_new.Links[30]"
   ]
  },
  {
   "cell_type": "code",
   "execution_count": 14,
   "metadata": {},
   "outputs": [
    {
     "data": {
      "text/plain": [
       "'Laptech Computer Sales & Services'"
      ]
     },
     "execution_count": 14,
     "metadata": {},
     "output_type": "execute_result"
    }
   ],
   "source": [
    "comp_data_new.Name[30]"
   ]
  },
  {
   "cell_type": "code",
   "execution_count": null,
   "metadata": {},
   "outputs": [],
   "source": []
  },
  {
   "cell_type": "code",
   "execution_count": 1,
   "metadata": {},
   "outputs": [],
   "source": [
    "import requests\n",
    "from bs4 import BeautifulSoup\n"
   ]
  },
  {
   "cell_type": "code",
   "execution_count": 13,
   "metadata": {},
   "outputs": [],
   "source": [
    "url = \"https://www.yello.ae/category/computer-services\"\n",
    "names = []\n",
    "c_links =[]\n",
    "c_add = []\n",
    "c_contact = []\n",
    "for i in range(6):\n",
    "    r = requests.get(url)\n",
    "    soup = BeautifulSoup(r.text,\"html.parser\")\n",
    "    if r.status_code == 200:\n",
    "        parent_divs = soup.find_all(\"div\", class_=\"company with_img g_0\")\n",
    "        for i in parent_divs:\n",
    "            names.append(i.find(\"h4\").text)\n",
    "            c_links.append(\"https://www.yello.ae\"+i.find(\"h4\").find(\"a\").get(\"href\"))\n",
    "            c_add.append(i.find(\"div\",class_ = \"address\").text)\n",
    "            c_contact.append(i.find(\"div\",class_=\"cont\").find(\"span\"))\n",
    "        \n",
    "\n",
    "    else:\n",
    "        print(\"link not hitted\")\n",
    "    next_url = soup.find(\"a\", {\"rel\": \"next\"})\n",
    "    url = \"https://www.yello.ae\"+next_url[\"href\"]\n",
    "\n"
   ]
  },
  {
   "cell_type": "code",
   "execution_count": 14,
   "metadata": {},
   "outputs": [
    {
     "name": "stdout",
     "output_type": "stream",
     "text": [
      "174\n"
     ]
    }
   ],
   "source": [
    "print(len(names))"
   ]
  },
  {
   "cell_type": "code",
   "execution_count": 10,
   "metadata": {},
   "outputs": [
    {
     "name": "stdout",
     "output_type": "stream",
     "text": [
      "['https://www.yello.ae/company/350673/guangzhou-computer-photocopier-printer-repair-duba', 'https://www.yello.ae/company/67743/shahriari-computer-trading-co-llc', 'https://www.yello.ae/company/189065/al-tasami-computerelect-devices-maint', 'https://www.yello.ae/company/350543/alayoubi-technologies-llc', 'https://www.yello.ae/company/49242/n-i-p-trading-llc', 'https://www.yello.ae/company/346091/al-shakhsiah-computer-devices-tr', 'https://www.yello.ae/company/354599/al-saqer-warningcontrol-devices-tr-llc', 'https://www.yello.ae/company/348858/sunrise-computernetwork-llc', 'https://www.yello.ae/company/94639/best-net-international-trading-llc', 'https://www.yello.ae/company/300913/realnet-technology-trading', 'https://www.yello.ae/company/300999/elecsys-integration-llc', 'https://www.yello.ae/company/345135/logical-network-solutions', 'https://www.yello.ae/company/355016/impulse-technologies-llc', 'https://www.yello.ae/company/317492/delicate-software-solutions', 'https://www.yello.ae/company/344830/glotech-system-llc', 'https://www.yello.ae/company/347822/interlink-technology-llc', 'https://www.yello.ae/company/351647/ipad-rental-dubai-techno-edge-systems-llc', 'https://www.yello.ae/company/347399/shibaam-computers-llc', 'https://www.yello.ae/company/353925/trionix-development-design-digital-marketing', 'https://www.yello.ae/company/344163/mobisat-it-solution', 'https://www.yello.ae/company/357906/appleforce', 'https://www.yello.ae/company/347867/emirates-portal-it-solutions', 'https://www.yello.ae/company/89840/landex-technologies-llc', 'https://www.yello.ae/company/347184/sanpaul-it-is-l-l-c', 'https://www.yello.ae/company/94502/al-furqan-computers', 'https://www.yello.ae/company/349451/touchactiv-glass-works-llc', 'https://www.yello.ae/company/47315/future-art-broadcast-trading-llc', 'https://www.yello.ae/company/106836/uber-fze', 'https://www.yello.ae/company/348264/chipin-corporation']\n"
     ]
    }
   ],
   "source": [
    "print(c_links)"
   ]
  },
  {
   "cell_type": "code",
   "execution_count": 7,
   "metadata": {},
   "outputs": [
    {
     "name": "stdout",
     "output_type": "stream",
     "text": [
      "['Address: Office No. 301, 3rd Floor, Janayen Holding Limited, Al Qouz 3rd , Dubai, UAE', 'Address: Naif Rd - Naif, Box No. 4070, Dubai, UAE', 'Address: PO Box No 19693, Butina Street Opposite Zulekha Hospital, Sharjah, UAE', 'Address: M Hotel Downtown by Millennium Dubai Office #405, UAE', 'Address: Block Al Raffa, Bur Dubai , Near Hyde Park Hotel ,Dubai , UAE', 'Address: Bu Tena - Al Sharq, Sharjah, UAE', 'Address: Office No.3 Building No.1308 Behind Wesgreen School,Muwaileh Commercial, Sharjah, UAE', 'Address: Near Emirates Future School , Shayabiya ME-10, Mussafah., Abu Dhabi, UAE', 'Address:  21 Al Nahdha St - Al Fahidi, Dubai, UAE', 'Address:  20 Al Nahdha St - Al Fahidi, Dubai, UAE', 'Address: P.O. Box: 98981, Dubai, UAE', 'Address: Office 1903 Tamani Arts Offices Business, Dubai, UAE', 'Address: international city, china cluster, E-02  Dubai-UAE', 'Address: Dubai, UAE', 'Address: P.O.Box:- 241529, Dubai, UAE', 'Address: Hamdan Street Behind Emirates Market, Abu Dhabi, UAE', 'Address: Office No 5, 3rd Floor, Suk Al Kabeer Building Computer Street,Al Raffa Police Station Road., Dubai, UAE', 'Address: Sm4, Mezzanine Floor, Deira Towers, Opp. Baniyas Metro Station. , Dubai, UAE', 'Address: Hamdan Street, Abu Dhabi, UAE', 'Address: 104, Al Makhawi Building Oud Metha, Dubai, UAE', 'Address: ComNet International L.L.C Shop 13 & 14 Bayat Center Buil Bur Dubai, UAE', 'Address: ME10 - 66th Street - Building No 2 - Office No M3, Abu Dhabi, UAE', 'Address: Box No. 16110, Dubai, UAE', 'Address: Warehouse # 31A Al Qouz 2, Dubai, Near Jotun Paint Factory., UAE', 'Address: P.O Box: 63936, Deira, Dubai, UAE', 'Address: Rasal Khor Industrial Area 1, Dubai, UAE', 'Address: Box No. 98722, Dubai, UAE', 'Address: Gate No. 5, South Side, Jebel Ali Freezone (JAFZ), Jebel Ali Free Zone (JAFZ), UAE', 'Address: M2, Park View Building, Al Majaz 2, Sharjah, UAE']\n"
     ]
    }
   ],
   "source": [
    "print(c_add)"
   ]
  },
  {
   "cell_type": "code",
   "execution_count": 8,
   "metadata": {},
   "outputs": [
    {
     "name": "stdout",
     "output_type": "stream",
     "text": [
      "[None, None, None, None, None, None, None, None, None, None, None, None, None, None, None, None, None, None, None, None, None, None, None, None, None, None, None, None, None]\n"
     ]
    }
   ],
   "source": [
    "print(c_contact)"
   ]
  },
  {
   "cell_type": "code",
   "execution_count": null,
   "metadata": {},
   "outputs": [],
   "source": []
  }
 ],
 "metadata": {
  "kernelspec": {
   "display_name": "Python 3",
   "language": "python",
   "name": "python3"
  },
  "language_info": {
   "codemirror_mode": {
    "name": "ipython",
    "version": 3
   },
   "file_extension": ".py",
   "mimetype": "text/x-python",
   "name": "python",
   "nbconvert_exporter": "python",
   "pygments_lexer": "ipython3",
   "version": "3.11.8"
  }
 },
 "nbformat": 4,
 "nbformat_minor": 2
}
