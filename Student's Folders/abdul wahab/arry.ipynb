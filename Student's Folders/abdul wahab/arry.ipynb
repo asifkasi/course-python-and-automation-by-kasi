{
 "cells": [
  {
   "cell_type": "code",
   "execution_count": null,
   "id": "7155312d",
   "metadata": {
    "vscode": {
     "languageId": "plaintext"
    }
   },
   "outputs": [],
   "source": [
    "\"\"\"Write a python program that reads an integer between 1 and 12 and prints the month of the year in English.\n",
    "Test Data :\n",
    "Input a number between 1 to 12 to get the month name: 8\n",
    "Expected Output:\n",
    "August\"\"\""
   ]
  },
  {
   "cell_type": "code",
   "execution_count": null,
   "id": "aa7d7181",
   "metadata": {},
   "outputs": [],
   "source": [
    "months = [\n",
    "    None,\n",
    "    \"January\",\n",
    "    \"February\",\n",
    "    \"March\",\n",
    "    \"April\",\n",
    "    \"May\",\n",
    "    \"June\",\n",
    "    \"July\",\n",
    "    \"August\",\n",
    "    \"September\",\n",
    "    \"October\",\n",
    "    \"November\",\n",
    "    \"December\",\n",
    "]\n",
    "\n",
    "user_input = input(\"Input a number between 1 to 12 to get the month name: \")\n",
    "try:\n",
    "    month_number = int(user_input.strip())\n",
    "except ValueError:\n",
    "    print(\"Invalid input: please enter an integer between 1 and 12.\")\n",
    "else:\n",
    "    if 1 <= month_number <= 12:\n",
    "        print(months[month_number])\n",
    "    else:\n",
    "        print(\"Invalid input: number must be between 1 and 12.\")\n",
    "\n"
   ]
  }
 ],
 "metadata": {
  "language_info": {
   "name": "python"
  }
 },
 "nbformat": 4,
 "nbformat_minor": 5
}
