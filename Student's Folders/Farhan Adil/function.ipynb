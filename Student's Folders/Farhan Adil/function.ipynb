{
 "cells": [
  {
   "cell_type": "code",
   "execution_count": null,
   "id": "b0ec3eb0",
   "metadata": {
    "vscode": {
     "languageId": "plaintext"
    }
   },
   "outputs": [],
   "source": [
    "# 1. Write a function that takes two numbers as input and returns their sum.\n",
    "\n",
    "def func_name(num1,num2):\n",
    "    sum = num1 + num2\n",
    "    return sum\n",
    "\n",
    "    \n",
    "num1 = int(input(\"enter no 1:  \"))\n",
    "num2 = int(input(\"enter no 2:  \"))\n",
    "\n",
    "print(f\"the sum is {func_name(num1,num2)}\")\n"
   ]
  },
  {
   "cell_type": "code",
   "execution_count": null,
   "id": "001eb286",
   "metadata": {
    "vscode": {
     "languageId": "plaintext"
    }
   },
   "outputs": [],
   "source": [
    "\n",
    "def fun_upper( str) :\n",
    "    return name.upper()\n",
    "\n",
    "name= input(\"enter your name:\")\n",
    "print(fun_upper(name))\n"
   ]
  },
  {
   "cell_type": "code",
   "execution_count": null,
   "id": "00bf0d0b",
   "metadata": {
    "vscode": {
     "languageId": "plaintext"
    }
   },
   "outputs": [],
   "source": [
    "# 3. Create a function that checks if a number is even or odd.\n",
    "\n",
    "def fun_odd_even(num : int):\n",
    "    if (num % 2 == 0):\n",
    "        return f\"{num} is even\"\n",
    "    else:\n",
    "        return f\"{num} is odd\"   \n",
    "\n",
    "num = int (input(\"enter your number:\"))\n",
    "print(fun_odd_even(num))"
   ]
  },
  {
   "cell_type": "code",
   "execution_count": null,
   "id": "0f5fa9f9",
   "metadata": {
    "vscode": {
     "languageId": "plaintext"
    }
   },
   "outputs": [],
   "source": [
    "# 4. Write a function that takes a list and returns the maximum value.\n",
    "\n",
    "def fun_max(numbers : list):\n",
    "    if not numbers:\n",
    "        return None\n",
    "    return max(numbers)\n",
    "\n",
    "print(fun_max([3,89,99,103]))"
   ]
  },
  {
   "cell_type": "code",
   "execution_count": null,
   "id": "6c0d9a08",
   "metadata": {
    "vscode": {
     "languageId": "plaintext"
    }
   },
   "outputs": [],
   "source": [
    "\n",
    "def multiplication_table(n: int, up_to: int = 10) -> None:\n",
    "    for i in range(1, up_to + 1):\n",
    "        print(f\"{n} x {i} = {n * i}\")\n",
    "\n",
    "# Example usage\n",
    "multiplication_table(5)"
   ]
  },
  {
   "cell_type": "code",
   "execution_count": null,
   "id": "3250dec9",
   "metadata": {
    "vscode": {
     "languageId": "plaintext"
    }
   },
   "outputs": [],
   "source": [
    "def func_even(numbers : list) -> list:\n",
    "    return [num for num in numbers if num % 2 == 0]\n",
    "\n",
    "print(func_even([1,10,9,3,18]))"
   ]
  },
  {
   "cell_type": "code",
   "execution_count": null,
   "id": "a9e9d61e",
   "metadata": {
    "vscode": {
     "languageId": "plaintext"
    }
   },
   "outputs": [],
   "source": [
    "# 9. Create a function that reverses a string without using slicing.\n",
    "\n",
    "def reverse_string(text: str) -> str:\n",
    "    reversed_text = \"\"\n",
    "    for char in text:\n",
    "        reversed_text = char + reversed_text\n",
    "    return reversed_text\n",
    "\n",
    "# Example usage\n",
    "print(reverse_string(\"\")) "
   ]
  },
  {
   "cell_type": "code",
   "execution_count": null,
   "id": "fdd4d2d5",
   "metadata": {
    "vscode": {
     "languageId": "plaintext"
    }
   },
   "outputs": [],
   "source": [
    "\n",
    "def func_count(text:str):\n",
    "    vowels = \"aeiouAEIOU\"\n",
    "    return sum(1 for char in text if char in vowels)\n",
    "\n",
    "print(func_count(\"ali\"))"
   ]
  },
  {
   "cell_type": "code",
   "execution_count": null,
   "id": "6948e145",
   "metadata": {
    "vscode": {
     "languageId": "plaintext"
    }
   },
   "outputs": [],
   "source": [
    "# 8. Write a function that finds the factorial of a number (using recursion).\n",
    "\n",
    "def factorial(n : int):\n",
    "    if n ==0 or n==1:\n",
    "        return 1\n",
    "    return n * factorial(n-1)\n",
    "print(factorial(5))"
   ]
  },
  {
   "cell_type": "code",
   "execution_count": null,
   "id": "3876cab0",
   "metadata": {
    "vscode": {
     "languageId": "plaintext"
    }
   },
   "outputs": [],
   "source": [
    "# 10. Write a function that accepts a dictionary and returns the key with the maximum value.\n",
    "# 192.168.137.143\n",
    "# Farhan\n",
    "\n",
    "def func_key(text : dict):\n",
    "    return text.keys()\n",
    "\n",
    "dict = {\"b\":1,\"b\":2,\"c\":3,\"d\":4,\"e\":5}\n",
    "print(func_key(dict))"
   ]
  },
  {
   "cell_type": "code",
   "execution_count": null,
   "id": "57dd1321",
   "metadata": {
    "vscode": {
     "languageId": "plaintext"
    }
   },
   "outputs": [],
   "source": [
    "def fun_nme(num1,num2):\n",
    "    sum = num1 + num2\n",
    "    return sum\n",
    "num1 = 5\n",
    "num2 = 9\n",
    "print(fun_nme(num1,num2))\n"
   ]
  },
  {
   "cell_type": "code",
   "execution_count": null,
   "id": "abbf180c",
   "metadata": {
    "vscode": {
     "languageId": "plaintext"
    }
   },
   "outputs": [],
   "source": [
    "def discount(amount,dis_per = 10):\n",
    "    dis_amount = amount* (dis_per/100)\n",
    "    return (amount-dis_amount)\n",
    "    \n",
    "\n",
    "amount = int (input(\"enter the amount\"))\n",
    "\n",
    "print(f\" you will pay {discount(amount)}\")\n",
    "print(f\"you save {save} rupees\")"
   ]
  }
 ],
 "metadata": {
  "language_info": {
   "name": "python"
  }
 },
 "nbformat": 4,
 "nbformat_minor": 5
}
