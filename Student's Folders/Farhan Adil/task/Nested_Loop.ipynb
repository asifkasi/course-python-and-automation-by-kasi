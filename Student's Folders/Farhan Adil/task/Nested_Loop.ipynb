{
 "cells": [
  {
   "cell_type": "code",
   "execution_count": null,
   "id": "6f5c9b14",
   "metadata": {
    "vscode": {
     "languageId": "plaintext"
    }
   },
   "outputs": [],
   "source": [
    "n = 3\n",
    "for i in range(1,n+1):\n",
    "    for j in range(n,i-1,-1):\n",
    "        print(j, end = \"\")\n",
    "    print()"
   ]
  },
  {
   "cell_type": "code",
   "execution_count": null,
   "id": "50c9d55c",
   "metadata": {
    "vscode": {
     "languageId": "plaintext"
    }
   },
   "outputs": [],
   "source": [
    "n = 3\n",
    "for i in range(1,n+1):\n",
    "  for j in range(i,i+1,+1):\n",
    "    print(j, end = \"\")\n",
    "  print()"
   ]
  },
  {
   "cell_type": "code",
   "execution_count": null,
   "id": "126fbf56",
   "metadata": {
    "vscode": {
     "languageId": "plaintext"
    }
   },
   "outputs": [],
   "source": [
    "n = 3\n",
    "for i in range(1,n+1):\n",
    "    for j in range(1,i +1):\n",
    "        print(j , end = \"\")\n",
    "    print()"
   ]
  },
  {
   "cell_type": "code",
   "execution_count": null,
   "id": "25ee26d7",
   "metadata": {
    "vscode": {
     "languageId": "plaintext"
    }
   },
   "outputs": [],
   "source": [
    "n = int(input(\"enter number: \"))\n",
    "\n",
    "for i in range(n):\n",
    "    for j in range(n):\n",
    "        print(\"*\", end = \"\")\n",
    "    print()"
   ]
  },
  {
   "cell_type": "code",
   "execution_count": null,
   "id": "cf21a0a0",
   "metadata": {
    "vscode": {
     "languageId": "plaintext"
    }
   },
   "outputs": [],
   "source": [
    "n = 3\n",
    "for i in range(n):\n",
    "    for j in range(n):\n",
    "        print(f\"({i},{j})\" ,end = \"\")\n",
    "    print()"
   ]
  },
  {
   "cell_type": "code",
   "execution_count": null,
   "id": "eea96c8a",
   "metadata": {
    "vscode": {
     "languageId": "plaintext"
    }
   },
   "outputs": [],
   "source": [
    "n = 3\n",
    "for i in range(1,n+1):\n",
    "    for j in range(1,n+1):\n",
    "        print(i*j, end = \"  \")\n",
    "    print()"
   ]
  },
  {
   "cell_type": "code",
   "execution_count": null,
   "id": "df6ef067",
   "metadata": {
    "vscode": {
     "languageId": "plaintext"
    }
   },
   "outputs": [],
   "source": [
    "n = 5\n",
    "num = 1\n",
    "for i in range(1,n+1):\n",
    "    for j in range(i):\n",
    "        print(num,end = \" \")\n",
    "        num = num +1\n",
    "    print()"
   ]
  },
  {
   "cell_type": "code",
   "execution_count": null,
   "id": "39912d00",
   "metadata": {
    "vscode": {
     "languageId": "plaintext"
    }
   },
   "outputs": [],
   "source": [
    "n = 3\n",
    "num = 1\n",
    "for i in range(1,n+1):\n",
    "    for j in range(i):\n",
    "        print(num, end = \" \")\n",
    "        num = num + 2\n",
    "    print()"
   ]
  },
  {
   "cell_type": "code",
   "execution_count": null,
   "id": "f45b5879",
   "metadata": {
    "vscode": {
     "languageId": "plaintext"
    }
   },
   "outputs": [],
   "source": [
    "n = 3\n",
    "num = 2\n",
    "for i in range(1,n+1):\n",
    "    for j in range(i):\n",
    "        print(num , end = \" \")\n",
    "        num = num +2\n",
    "    print()"
   ]
  },
  {
   "cell_type": "code",
   "execution_count": null,
   "id": "0676fd86",
   "metadata": {
    "vscode": {
     "languageId": "plaintext"
    }
   },
   "outputs": [],
   "source": [
    "for i in range(65, 69):        \n",
    "    for j in range(65, i+1):   \n",
    "        print(chr(j), end=\"\")\n",
    "    print()\n"
   ]
  },
  {
   "cell_type": "code",
   "execution_count": null,
   "id": "82a0b207",
   "metadata": {
    "vscode": {
     "languageId": "plaintext"
    }
   },
   "outputs": [],
   "source": [
    "n = 3\n",
    "for i in range(n, 0, -1):         \n",
    "    for j in range(n, n - i, -1): \n",
    "        print(chr(64 + j), end=\"\")\n",
    "    print()\n"
   ]
  },
  {
   "cell_type": "code",
   "execution_count": null,
   "id": "d4563a2a",
   "metadata": {
    "vscode": {
     "languageId": "plaintext"
    }
   },
   "outputs": [],
   "source": [
    "n = 3\n",
    "for i in range(1,n+1):\n",
    "  for j in range(65,65+i):\n",
    "    print(chr(j), end = \"\")\n",
    "  print()\n"
   ]
  },
  {
   "cell_type": "code",
   "execution_count": null,
   "id": "9cb39354",
   "metadata": {
    "vscode": {
     "languageId": "plaintext"
    }
   },
   "outputs": [],
   "source": [
    "n = 3\n",
    "for i in range(65,69):\n",
    "    for j in range(i-64):\n",
    "        print(chr(i), end=\"\")\n",
    "    print()\n"
   ]
  },
  {
   "cell_type": "code",
   "execution_count": null,
   "id": "54613ada",
   "metadata": {
    "vscode": {
     "languageId": "plaintext"
    }
   },
   "outputs": [],
   "source": [
    "n = 4\n",
    "odd_num = n * 2 -1\n",
    "for i in range(n,0,-1):\n",
    "    for j in range(n-i,0,-1):\n",
    "        print(\" \", end = \"\")\n",
    "    for k in range(odd_num,0,-1):\n",
    "        print(\"*\", end = \"\")\n",
    "    print()\n",
    "    odd_num -= 2\n"
   ]
  },
  {
   "cell_type": "code",
   "execution_count": null,
   "id": "c3d595d6",
   "metadata": {
    "vscode": {
     "languageId": "plaintext"
    }
   },
   "outputs": [],
   "source": [
    "n = 4\n",
    "odd_num = 1\n",
    "for i in range(1,n+1):\n",
    "    for j in range(n-i,0,-1):\n",
    "        print(\" \", end = \"\")\n",
    "    for k in range(odd_num):\n",
    "        print(\"*\", end = \"\")\n",
    "    print()\n",
    "    odd_num += 2\n"
   ]
  },
  {
   "cell_type": "code",
   "execution_count": null,
   "id": "bd518bf0",
   "metadata": {
    "vscode": {
     "languageId": "plaintext"
    }
   },
   "outputs": [],
   "source": [
    "n = 4\n",
    "odd_num = 1\n",
    "for i in range(1,n+1):\n",
    "    for j in range(n-i,0,-1):\n",
    "        print(\" \", end = \"\")\n",
    "    for k in range(odd_num):\n",
    "        print(\"*\", end = \"\")\n",
    "    print()\n",
    "    odd_num += 2\n",
    "n = 3\n",
    "odd_num = n * 2 -1\n",
    "for i in range(1,n+1,-1):\n",
    "    for j in range(n-i,0,1):\n",
    "        print(\" \", end = \"\")\n",
    "    for k in range(odd_num,0,-1):\n",
    "        print(\"*\", end = \"\")\n",
    "    print()\n",
    "    odd_num -= 2"
   ]
  },
  {
   "cell_type": "code",
   "execution_count": null,
   "id": "e5e073d4",
   "metadata": {
    "vscode": {
     "languageId": "plaintext"
    }
   },
   "outputs": [],
   "source": [
    "num = 1\n",
    "alp = num + 64\n",
    "for i in range(1,5,1):\n",
    "    for j in range (i):\n",
    "        print(f\"{chr(alp)}{num}\" , end = \" \")\n",
    "        num += 1\n",
    "        alp += 1\n",
    "    print()"
   ]
  },
  {
   "cell_type": "code",
   "execution_count": null,
   "id": "46b1fcf2",
   "metadata": {
    "vscode": {
     "languageId": "plaintext"
    }
   },
   "outputs": [],
   "source": [
    "n = 4\n",
    "for i in range(n):\n",
    "    for j in range(i):\n",
    "        print(\" \",end = \"\" )\n",
    "    print(\"*\")"
   ]
  },
  {
   "cell_type": "code",
   "execution_count": null,
   "id": "8091f0f1",
   "metadata": {
    "vscode": {
     "languageId": "plaintext"
    }
   },
   "outputs": [],
   "source": [
    "n = 4\n",
    "for i in range(n):\n",
    "    for j in range(i):\n",
    "        print(\" \",end = \"\" )\n",
    "    print(\"*\")\n",
    "\n",
    "for i in range(n,-1,-1):\n",
    "    for j in range(i):\n",
    "        print(\" \",end = \"\" )\n",
    "    print(\"*\")"
   ]
  }
 ],
 "metadata": {
  "language_info": {
   "name": "python"
  }
 },
 "nbformat": 4,
 "nbformat_minor": 5
}
