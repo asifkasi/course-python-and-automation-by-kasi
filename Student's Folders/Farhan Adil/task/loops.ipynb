{
 "cells": [
  {
   "cell_type": "code",
   "execution_count": null,
   "id": "0b58a71a",
   "metadata": {
    "vscode": {
     "languageId": "plaintext"
    }
   },
   "outputs": [],
   "source": [
    "dic1 = {'a': 100,'b': 200,'c': 300}\n",
    "dic2 = {'a': 300,'b': 200,'d': 400}\n",
    "dic3 = dic2\n",
    "\n",
    "for key in dic1.keys():\n",
    "    if key in dic2.keys():\n",
    "        dic3[key] = dic1[key] + dic2[key]\n",
    "    else:\n",
    "        dic3[key]=dic1[key]\n",
    "print(dic3)"
   ]
  },
  {
   "cell_type": "code",
   "execution_count": null,
   "id": "ba84de39",
   "metadata": {
    "vscode": {
     "languageId": "plaintext"
    }
   },
   "outputs": [],
   "source": [
    "num = 5\n",
    "fact = 1\n",
    "for i in range(num,0,-1):\n",
    "    fact = fact * i\n",
    "    print(fact)"
   ]
  },
  {
   "cell_type": "code",
   "execution_count": null,
   "id": "6e0e6fb1",
   "metadata": {
    "vscode": {
     "languageId": "plaintext"
    }
   },
   "outputs": [],
   "source": [
    "name = \"Asif kasi\"\n",
    "\n",
    "name = name.lower()\n",
    "\n",
    "\n",
    "print(len(set(name)))\n",
    "\n"
   ]
  },
  {
   "cell_type": "code",
   "execution_count": null,
   "id": "05a77cfa",
   "metadata": {
    "vscode": {
     "languageId": "plaintext"
    }
   },
   "outputs": [],
   "source": [
    "str = input(\"enter a string:\")\n",
    "\n",
    "# print(str[::-1])\n",
    "i = 7\n",
    "while i <=1:\n",
    "    print(f\"{str[i]}\")\n",
    "    i-=1\n",
    "    "
   ]
  },
  {
   "cell_type": "code",
   "execution_count": null,
   "id": "31b4a145",
   "metadata": {
    "vscode": {
     "languageId": "plaintext"
    }
   },
   "outputs": [],
   "source": [
    "name = \"welcome\"\n",
    "\n",
    "for i in range (len(name)-1,-1,-1):\n",
    "    print(name[i])"
   ]
  },
  {
   "cell_type": "code",
   "execution_count": null,
   "id": "efa18e7a",
   "metadata": {
    "vscode": {
     "languageId": "plaintext"
    }
   },
   "outputs": [],
   "source": [
    "number = int (input(\"enter a number\"))\n",
    "\n",
    "number1 = number-1\n",
    "\n",
    "for i in range(1,number,1):\n",
    "    print(f\"{number} = {i} + {number1-1}\")"
   ]
  },
  {
   "cell_type": "code",
   "execution_count": null,
   "id": "cd7b5fea",
   "metadata": {
    "vscode": {
     "languageId": "plaintext"
    }
   },
   "outputs": [],
   "source": [
    "n = int (input (\"enter n\"))\n",
    "\n",
    "for i in range (1,(n*6)+1,6):\n",
    "    print(f\"{i} {i+1} {i+2} {i+3} {i+4} {i+5}\")\n",
    "         "
   ]
  },
  {
   "cell_type": "code",
   "execution_count": null,
   "id": "3dbdd60d",
   "metadata": {
    "vscode": {
     "languageId": "plaintext"
    }
   },
   "outputs": [],
   "source": [
    "num = 5\n",
    "sum = 0\n",
    "for i in range(num):\n",
    "    sum = 10**i + sum\n",
    "    print(sum ,end =' + ')"
   ]
  },
  {
   "cell_type": "code",
   "execution_count": null,
   "id": "d11a07ec",
   "metadata": {
    "vscode": {
     "languageId": "plaintext"
    }
   },
   "outputs": [],
   "source": [
    "name = input(\"Enter your name :\")\n",
    "age = int(input(\"Enter your age :\"))\n",
    "profession = input(\"Enter your profession:\")\n",
    "\n",
    "print(f\"your name is {name}, your age is {age} and you are a {profession} student\")"
   ]
  },
  {
   "cell_type": "code",
   "execution_count": null,
   "id": "cba32b3c",
   "metadata": {
    "vscode": {
     "languageId": "plaintext"
    }
   },
   "outputs": [],
   "source": [
    "# find even and odd numbers from 2 numbers and print their even sum and odd sum\n",
    "num1 = 2\n",
    "num2 = 8\n",
    "even_sum = 0\n",
    "odd_sum = 0\n",
    "for i in range(num1,num2 + 1):\n",
    "    if (i % 2 == 0):\n",
    "        even_sum += i\n",
    "    if (i % 2 == 1):\n",
    "        odd_sum += i\n",
    "print(even_sum)\n",
    "print(odd_sum)"
   ]
  },
  {
   "cell_type": "code",
   "execution_count": null,
   "id": "cb120d30",
   "metadata": {
    "vscode": {
     "languageId": "plaintext"
    }
   },
   "outputs": [],
   "source": [
    "a = \"*\"\n",
    "for i in range(1,5,1):\n",
    "    for j in range(1,5, 1):\n",
    "        print(f\"{a}\")\n",
    "    "
   ]
  }
 ],
 "metadata": {
  "language_info": {
   "name": "python"
  }
 },
 "nbformat": 4,
 "nbformat_minor": 5
}
