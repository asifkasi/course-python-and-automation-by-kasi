{
 "cells": [
  {
   "cell_type": "code",
   "execution_count": 4,
   "id": "269aea71",
   "metadata": {},
   "outputs": [
    {
     "name": "stdout",
     "output_type": "stream",
     "text": [
      "{'name': 'asim', 'age': 20, 'adress': 'masan', 'hobby': ('fotball', 'cricket', 'hockey'), 'class': 12}\n",
      "masan\n"
     ]
    }
   ],
   "source": [
    "info={\n",
    "    \"name\" : \"asim\",\n",
    "    \"age\" : 20,\n",
    "    \"adress\" : \"masan\",\n",
    "    \"hobby\" : (\"fotball\",\"cricket\",\"hockey\"),\n",
    "}\n",
    "info[\"class\"]=12\n",
    "print(info)\n",
    "print(info[\"adress\"])"
   ]
  },
  {
   "cell_type": "code",
   "execution_count": 7,
   "id": "9707c60a",
   "metadata": {},
   "outputs": [
    {
     "name": "stdout",
     "output_type": "stream",
     "text": [
      "{'name': 'asim', 'age': 20, 'subject': {'che': 85, 'phy': 98, 'math': 99}}\n",
      "{'che': 85, 'phy': 98, 'math': 99}\n",
      "99\n"
     ]
    }
   ],
   "source": [
    "student={\n",
    "    \"name\" : \"asim\",\n",
    "    \"age\" : 20,\n",
    "    \"subject\" : {\n",
    "        \"che\" : 85,\n",
    "        \"phy\" : 98,\n",
    "        \"math\" : 99,\n",
    "    }\n",
    "}\n",
    "print(student)\n",
    "print(student[\"subject\"])\n",
    "print(student[\"subject\"][\"math\"])"
   ]
  },
  {
   "cell_type": "code",
   "execution_count": 1,
   "id": "2ff033a3",
   "metadata": {},
   "outputs": [
    {
     "name": "stdout",
     "output_type": "stream",
     "text": [
      "{'table': ['a piese of furniture', 'a list of facts and figure'], 'cat': 'a small animal'}\n"
     ]
    }
   ],
   "source": [
    "# practice question\n",
    "info={\n",
    "    \"table\" : [\"a piese of furniture\", \"a list of facts and figure\"],\n",
    "    \"cat\" : \"a small animal\",\n",
    "}\n",
    "print(info)"
   ]
  },
  {
   "cell_type": "code",
   "execution_count": 2,
   "id": "a3af9ea3",
   "metadata": {},
   "outputs": [
    {
     "name": "stdout",
     "output_type": "stream",
     "text": [
      "5\n"
     ]
    }
   ],
   "source": [
    "subjects={\"python\", \"java\", \"c++\", \"python\", \"javascirpt\", \"java\", \"python\", \"java\", \"c++\", \"c\"}\n",
    "print(len(subjects))"
   ]
  },
  {
   "cell_type": "code",
   "execution_count": 4,
   "id": "709816b5",
   "metadata": {},
   "outputs": [
    {
     "name": "stdout",
     "output_type": "stream",
     "text": [
      "{'chem': 99, 'phy': 88, 'math': 98}\n",
      "<class 'dict'>\n"
     ]
    }
   ],
   "source": [
    "dict={}\n",
    "dict[\"chem\"]=99\n",
    "dict[\"phy\"]=88\n",
    "dict[\"math\"]=98\n",
    "print(dict)\n",
    "print(type(dict))"
   ]
  },
  {
   "cell_type": "code",
   "execution_count": 8,
   "id": "06003184",
   "metadata": {},
   "outputs": [
    {
     "name": "stdout",
     "output_type": "stream",
     "text": [
      "{'phy': 99, 'che': 88, 'math': 887}\n"
     ]
    }
   ],
   "source": [
    "marks={}\n",
    "x=int(input(\"enter phy marks, \"))\n",
    "marks.update({\"phy\":x})\n",
    "x=int(input(\"enter che marks, \"))\n",
    "marks.update({\"che\":x})\n",
    "x=int(input(\"enter math marks, \"))\n",
    "marks.update({\"math\":x})\n",
    "print(marks)"
   ]
  },
  {
   "cell_type": "code",
   "execution_count": 9,
   "id": "bd2cd504",
   "metadata": {},
   "outputs": [
    {
     "name": "stdout",
     "output_type": "stream",
     "text": [
      "<class 'set'>\n",
      "{9.0, '9'}\n"
     ]
    }
   ],
   "source": [
    "sets={'9',9.0}\n",
    "print(type(sets))\n",
    "print(sets)"
   ]
  },
  {
   "cell_type": "code",
   "execution_count": null,
   "id": "fa08f816",
   "metadata": {},
   "outputs": [],
   "source": [
    "dic={\n",
    "    \"student1\":{\n",
    "        \"name\":\"asim\",\n",
    "        \"fname\":\"zahid\",\n",
    "        \"age\":20,\n",
    "        \"courseenrolled\":[\"math\",\"phy\",\"chemistry\",\"english\"]\n",
    "    }\n",
    "}"
   ]
  },
  {
   "cell_type": "code",
   "execution_count": null,
   "id": "6f459e0d",
   "metadata": {},
   "outputs": [],
   "source": []
  }
 ],
 "metadata": {
  "kernelspec": {
   "display_name": "Python 3",
   "language": "python",
   "name": "python3"
  },
  "language_info": {
   "codemirror_mode": {
    "name": "ipython",
    "version": 3
   },
   "file_extension": ".py",
   "mimetype": "text/x-python",
   "name": "python",
   "nbconvert_exporter": "python",
   "pygments_lexer": "ipython3",
   "version": "3.13.3"
  }
 },
 "nbformat": 4,
 "nbformat_minor": 5
}
