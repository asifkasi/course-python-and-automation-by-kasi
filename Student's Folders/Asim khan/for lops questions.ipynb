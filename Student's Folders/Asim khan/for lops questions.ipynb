{
 "cells": [
  {
   "cell_type": "code",
   "execution_count": 7,
   "id": "24cf0070",
   "metadata": {},
   "outputs": [
    {
     "name": "stdout",
     "output_type": "stream",
     "text": [
      "7\n"
     ]
    }
   ],
   "source": [
    "#write a program that reads 5 numbers and sums all odd values batween them.\n",
    "odd=0\n",
    "for i in range(5):\n",
    "    user=int(input(\"enter number\"))\n",
    "    if user%2==1:\n",
    "        odd=odd+user\n",
    "print(odd)"
   ]
  },
  {
   "cell_type": "code",
   "execution_count": 13,
   "id": "54299143",
   "metadata": {},
   "outputs": [
    {
     "name": "stdout",
     "output_type": "stream",
     "text": [
      "The sum of numbers not divisible by 17 between 50 and 99 is: 3521\n"
     ]
    }
   ],
   "source": [
    "# write a progrma to calculate the sum of all numbers not divisible by 17 between two given integer numbers.\n",
    "# Program to calculate the sum of all numbers not divisible by 17 \n",
    "# between two given integers\n",
    "\n",
    "a = int(input(\"Enter the first number: \"))\n",
    "b = int(input(\"Enter the second number: \"))\n",
    "total_sum = 0\n",
    "for num in range(a, b + 1):\n",
    "    if num % 17 != 0: \n",
    "        total_sum += num\n",
    "print(\"The sum of numbers not divisible by 17 between\", a, \"and\", b, \"is:\", total_sum)"
   ]
  },
  {
   "cell_type": "code",
   "execution_count": null,
   "id": "e89520d4",
   "metadata": {},
   "outputs": [
    {
     "name": "stdout",
     "output_type": "stream",
     "text": [
      "30\n",
      "31\n",
      "37\n",
      "38\n",
      "44\n",
      "45\n"
     ]
    }
   ],
   "source": [
    "#write a grogram that finds all integer numbers that divide by 7 and have a remainder of 2 or 3 between two given integers.\n",
    "user=int(input(\"enter first number\"))\n",
    "user1=int(input(\"enter second number\"))\n",
    "\n",
    "for i in range(user,user1+1):\n",
    "    if i %7==2 or i %7==3:\n",
    "        print(i)\n",
    "        \n",
    "    "
   ]
  },
  {
   "cell_type": "code",
   "execution_count": 12,
   "id": "9cecff05",
   "metadata": {},
   "outputs": [
    {
     "name": "stdout",
     "output_type": "stream",
     "text": [
      "father name\n"
     ]
    }
   ],
   "source": [
    "# q.4 write a program to find the length of the longest key in a dictionary\n",
    "dic={\n",
    "    \"name\":\"Asim\",\n",
    "    \"father name\":\"zahid hussain\",\n",
    "    \"class\":\"twelth\"\n",
    "}\n",
    "print(max(dic,key=len))"
   ]
  },
  {
   "cell_type": "code",
   "execution_count": 34,
   "id": "d4f79cde",
   "metadata": {},
   "outputs": [
    {
     "name": "stdout",
     "output_type": "stream",
     "text": [
      "{1: 1, 2: 4, 3: 9, 4: 16, 5: 25}\n"
     ]
    }
   ],
   "source": [
    "user=int(input(\"enter number\"))\n",
    "dic={}\n",
    "for i in range(1,user+1):\n",
    "    dic[i]  = i*i\n",
    "print(dic) \n",
    "\n"
   ]
  },
  {
   "cell_type": "code",
   "execution_count": 1,
   "id": "524410ea",
   "metadata": {},
   "outputs": [
    {
     "name": "stdout",
     "output_type": "stream",
     "text": [
      "7247981724057499\n"
     ]
    }
   ],
   "source": [
    "a=int(input(\"enter number\"))\n",
    "b=int(input(\"enter second number\"))\n",
    "sum=0\n",
    "for i in range(a,b+1):\n",
    "    if i%17!=0:\n",
    "        sum+=sum+i\n",
    "print(sum)"
   ]
  },
  {
   "cell_type": "code",
   "execution_count": 9,
   "id": "8c398453",
   "metadata": {},
   "outputs": [
    {
     "name": "stdout",
     "output_type": "stream",
     "text": [
      "{'w': 1, '3': 1, 'r': 2, 'e': 2, 's': 2, 'o': 1, 'u': 1, 'c': 1}\n"
     ]
    }
   ],
   "source": [
    "#write a python program to crate a dictionary fro a string sample string: \"w3resource\"\n",
    "#expected output:{\"w\":1,\"3\":1,\"r\":\"2\",\"e\"..........}\n",
    "var=\"w3resources\"\n",
    "dic={}\n",
    "for i in range(len(var)):\n",
    "    a=var.count(var[i])\n",
    "    # print(var.count(var[i]))\n",
    "    dic[var[i]]=a\n",
    "print(dic)"
   ]
  },
  {
   "cell_type": "code",
   "execution_count": 10,
   "id": "ba6a2cc6",
   "metadata": {},
   "outputs": [
    {
     "name": "stdout",
     "output_type": "stream",
     "text": [
      "1 1 1\n",
      "2 4 8\n",
      "3 9 27\n",
      "4 16 64\n",
      "5 25 125\n"
     ]
    }
   ],
   "source": [
    "n=int(input(\"enter number\"))\n",
    "for i in range(1,n+1):\n",
    "    print(i,i*i,i*i*i)"
   ]
  },
  {
   "cell_type": "code",
   "execution_count": 11,
   "id": "f60d11fc",
   "metadata": {},
   "outputs": [
    {
     "name": "stdout",
     "output_type": "stream",
     "text": [
      "4\n",
      "16\n"
     ]
    }
   ],
   "source": [
    "user=int(input(\"enter number\"))\n",
    "for i in range(1,user+1):\n",
    "    if i%2==0:\n",
    "        print(i*i)"
   ]
  },
  {
   "cell_type": "code",
   "execution_count": 6,
   "id": "c144ae65",
   "metadata": {},
   "outputs": [
    {
     "name": "stdout",
     "output_type": "stream",
     "text": [
      "1 2 3 \n",
      "4 5 6 \n",
      "7 8 9 \n",
      "10 11 12 \n",
      "13 14 15 \n"
     ]
    }
   ],
   "source": [
    "#.0.0 Write a Python program to print 3 numbers on a line, starting with 1 and printing n lines. Accept the number of lines (n, integer) from the user.\n",
    "# Test Data :\n",
    "# Input number of lines: 5\n",
    "# Expected Output:\n",
    "# 1 2 3\n",
    "# 4 5 6\n",
    "# 7 8 9\n",
    "# 10 11 12\n",
    "# 13 14 15\n",
    "user=int(input(\"enter any number\"))\n",
    "num=1\n",
    "for i in range(1,user+1):\n",
    "    for i in range(3):\n",
    "        print(num, end=\" \")\n",
    "        num=num+1\n",
    "    print()"
   ]
  },
  {
   "cell_type": "code",
   "execution_count": null,
   "id": "6359b505",
   "metadata": {},
   "outputs": [
    {
     "name": "stdout",
     "output_type": "stream",
     "text": [
      "1 1 1\n",
      "2 4 8\n",
      "3 9 27\n",
      "4 16 64\n",
      "5 25 125\n"
     ]
    }
   ],
   "source": [
    "# 0.0.1 Write a Python program to print a number, its square and cube, starting with 1 and printing n lines. Accept the number of lines (n, integer) from the user.\n",
    "# Test Data :\n",
    "# Input number of lines: 5\n",
    "# Expected Output:\n",
    "# 1 1 1\n",
    "# 2 4 8\n",
    "# 3 9 27\n",
    "# 4 16 64\n",
    "# 5 25 12\n",
    "user=int(input(\"enter a number\"))\n",
    "for i in range(1,user+1):\n",
    "    print(i,i*i,i*i*i)"
   ]
  },
  {
   "cell_type": "code",
   "execution_count": 3,
   "id": "4e7d2e6f",
   "metadata": {},
   "outputs": [
    {
     "name": "stdout",
     "output_type": "stream",
     "text": [
      "1,2,3,4,5,6,\n",
      "7,8,9,10,11,12,\n",
      "13,14,15,16,17,18,\n",
      "19,20,21,22,23,24,\n",
      "25,26,27,28,29,30,\n"
     ]
    }
   ],
   "source": [
    "\n",
    "# 0.0.2 Write a Python program that reads two integers p and q, prints p number of lines in a sequence of 1 to b in a line.\n",
    "# Test Data :\n",
    "# Input number of lines: 5\n",
    "# Number of characters in a line: 6\n",
    "# Expected Output:\n",
    "# 1 2 3 4 5 6\n",
    "# 7 8 9 10 11 12\n",
    "# 13 14 15 16 17 18\n",
    "# 19 20 21 22 23 24\n",
    "# 25 26 27 28 29 30\n",
    "user=int(input(\"enter any number\"))\n",
    "num=1\n",
    "for i in range(1,user+1):\n",
    "    for j in range(6):\n",
    "        print(num,end=\",\")\n",
    "        num=num+1\n",
    "    print()"
   ]
  },
  {
   "cell_type": "code",
   "execution_count": null,
   "id": "b50c229c",
   "metadata": {},
   "outputs": [
    {
     "name": "stdout",
     "output_type": "stream",
     "text": [
      "1\n",
      "3\n",
      "5\n",
      "9\n",
      "15\n",
      "45\n"
     ]
    }
   ],
   "source": [
    "# 0.0.3 Write a Python program that finds all the divisors of an integer.\n",
    "# Test Data:\n",
    "# Input an integer: 45\n",
    "# Expected Output:\n",
    "# All the divisor of 45 are:\n",
    "# 1\n",
    "# 3\n",
    "# 5\n",
    "# 9\n",
    "# 15\n",
    "# 45\n",
    "user=int(input(\"enter a number\"))\n",
    "for i in range(1,user+1):\n",
    "    if user%i==0:\n",
    "        print(i)"
   ]
  },
  {
   "cell_type": "code",
   "execution_count": 8,
   "id": "8ba4cb47",
   "metadata": {},
   "outputs": [
    {
     "name": "stdout",
     "output_type": "stream",
     "text": [
      "25\n"
     ]
    }
   ],
   "source": [
    "# 0. Write a Python program that reads 5 numbers and sums all odd values between them.\n",
    "# Test Data :\n",
    "# Input the first number: 11\n",
    "# Input the second number: 17\n",
    "# Input the third number: 13\n",
    "# Input the fourth number: 12\n",
    "# Input the fifth number: 5\n",
    "# Expected Output:\n",
    "# Sum of all odd values: 46\n",
    "odd=0\n",
    "for i in range(5):\n",
    "    user=int(input(\"enter number\"))\n",
    "    if user%2==1:\n",
    "        odd=odd+user\n",
    "print(odd)"
   ]
  },
  {
   "cell_type": "code",
   "execution_count": 1,
   "id": "e0973c59",
   "metadata": {},
   "outputs": [
    {
     "name": "stdout",
     "output_type": "stream",
     "text": [
      "2\n",
      "4\n",
      "6\n",
      "8\n",
      "10\n",
      "12\n",
      "14\n",
      "16\n",
      "18\n",
      "20\n",
      "22\n",
      "24\n",
      "26\n",
      "28\n",
      "30\n",
      "32\n",
      "34\n",
      "36\n",
      "38\n",
      "40\n",
      "42\n",
      "44\n",
      "46\n",
      "48\n",
      "50\n"
     ]
    }
   ],
   "source": [
    "user=int(input(\"enter first number\"))\n",
    "user1=int(input(\"enter second number\"))\n",
    "for i in range(user,user1+1):\n",
    "    if i%2==0:\n",
    "        print(i)"
   ]
  },
  {
   "cell_type": "code",
   "execution_count": 5,
   "id": "d817e854",
   "metadata": {},
   "outputs": [
    {
     "name": "stdout",
     "output_type": "stream",
     "text": [
      "total number of positve is 3\n",
      "total number of negative is 2\n"
     ]
    }
   ],
   "source": [
    "# 0.2 Write a Python program that reads 5 numbers and counts the number of positive numbers and negative numbers.\n",
    "# Test Data :\n",
    "# Input the first number: 5\n",
    "# Input the second number: -4\n",
    "# Input the third number: 10\n",
    "# Input the fourth number: 15\n",
    "# Input the fifth number: -1\n",
    "# Expected Output:\n",
    "# Number of positive numbers: 3\n",
    "# Number of negative numbers: 2\n",
    "positive=0\n",
    "negative=0\n",
    "for i in range(5):\n",
    "    user=int(input(\"enter any number\"))\n",
    "    if user>0:\n",
    "        positive=positive+1\n",
    "    elif user<0:\n",
    "        negative=negative+1\n",
    "print(\"total number of positve is\",positive)\n",
    "print(\"total number of negative is\",negative)"
   ]
  },
  {
   "cell_type": "code",
   "execution_count": 7,
   "id": "0af02d4e",
   "metadata": {},
   "outputs": [
    {
     "name": "stdout",
     "output_type": "stream",
     "text": [
      "number of unique corrector 6\n"
     ]
    }
   ],
   "source": [
    "\n",
    "# 34. Write a program that takes user input and counts the number of unique characters.\n",
    "# Test Data :\n",
    "# Input characters: Asif Kasi\n",
    "# Number of Characters: 6\n",
    "user=(input(\"enter name\"))\n",
    "uniquevar=set(user)\n",
    "print(\"number of unique corrector\",len(uniquevar))\n"
   ]
  },
  {
   "cell_type": "code",
   "execution_count": null,
   "id": "71a1ae99",
   "metadata": {},
   "outputs": [
    {
     "name": "stdout",
     "output_type": "stream",
     "text": [
      "6\n"
     ]
    }
   ],
   "source": [
    "var=\"Asif Kasi\"\n",
    "var=var.lower()\n",
    "var1=set(var)\n",
    "print(len(var1))"
   ]
  },
  {
   "cell_type": "code",
   "execution_count": 29,
   "id": "92e7b436",
   "metadata": {},
   "outputs": [
    {
     "name": "stdout",
     "output_type": "stream",
     "text": [
      "e\n",
      "m\n",
      "o\n",
      "c\n",
      "l\n",
      "e\n",
      "w\n"
     ]
    }
   ],
   "source": [
    "user=input(\"enter corrector\")\n",
    "for i in range(len(user)-1,-1,-1):\n",
    "    print(user[i])"
   ]
  },
  {
   "cell_type": "code",
   "execution_count": 38,
   "id": "804fc199",
   "metadata": {},
   "outputs": [
    {
     "name": "stdout",
     "output_type": "stream",
     "text": [
      "5=1+4\n",
      "5=2+3\n",
      "5=3+2\n",
      "5=4+1\n"
     ]
    }
   ],
   "source": [
    "user=int(input(\"enter any number\"))\n",
    "\n",
    "for i in range(1,user):\n",
    "    # print(\"5=\",i,\"+\")\n",
    "    print(f\"{user}={i}+{user-i}\")\n"
   ]
  },
  {
   "cell_type": "code",
   "execution_count": 52,
   "id": "9f001555",
   "metadata": {},
   "outputs": [
    {
     "name": "stdout",
     "output_type": "stream",
     "text": [
      "prime\n"
     ]
    }
   ],
   "source": [
    "num=7\n",
    "flag=True\n",
    "for i in range(2,num,1):\n",
    "    if num%i==0:\n",
    "        print(\"not prime\")\n",
    "        flag=False\n",
    "        break\n",
    "if flag==True:\n",
    "    print(\"prime\")"
   ]
  },
  {
   "cell_type": "code",
   "execution_count": 20,
   "id": "5143735b",
   "metadata": {},
   "outputs": [
    {
     "name": "stdout",
     "output_type": "stream",
     "text": [
      "{'a': 400, 'b': 400, 'd': 400, 'c': 300}\n"
     ]
    }
   ],
   "source": [
    "# 14. Write a Python program to combine two dictionary by adding values for common keys.\n",
    "# d1 = {'a': 100, 'b': 200, 'c':300}\n",
    "# d2 = {'a': 300, 'b': 200, 'd':400}\n",
    "# Sample output: Counter({'a': 400, 'b': 400, 'd': 400, 'c': 300})\n",
    "d1 = {'a': 100, 'b': 200, 'c':300}\n",
    "d2 = {'a': 300, 'b': 200, 'd':400}\n",
    "d3=d2\n",
    "for key in d1.keys():\n",
    "    if key in d2.keys():\n",
    "        d3[key]=d1[key]+d2[key]\n",
    "    else:\n",
    "        d3[key]=d1[key]\n",
    "print(d3)"
   ]
  },
  {
   "cell_type": "code",
   "execution_count": 22,
   "id": "61eeac6f",
   "metadata": {},
   "outputs": [
    {
     "name": "stdout",
     "output_type": "stream",
     "text": [
      "1 2 3 4\n",
      "5 6 7 8\n",
      "9 10 11 12\n",
      "13 14 15 16\n",
      "17 18 19 20\n"
     ]
    }
   ],
   "source": [
    "num=5\n",
    "for i in range(1,num*4,4):\n",
    "    print(f\"{i} {i+1} {i+2} {i+3}\")"
   ]
  },
  {
   "cell_type": "code",
   "execution_count": 30,
   "id": "e3d9f2cd",
   "metadata": {},
   "outputs": [
    {
     "name": "stdout",
     "output_type": "stream",
     "text": [
      "1+11+111+1111+11111+11111\n",
      "12345\n"
     ]
    }
   ],
   "source": [
    "# 13. Write a program to find the sum of the series 1 +11 + 111 + 1111 + .. n terms.\n",
    "# Test Data :\n",
    "# Input the number of terms : 5\n",
    "# Expected Output :\n",
    "# 1 + 11 + 111 + 1111 + 11111\n",
    "# The Sum is : 12345\n",
    "user=int(input(\"enter a numer\"))\n",
    "var=0\n",
    "sum=0\n",
    "for i in range(user):\n",
    "    sum=10**i + sum\n",
    "    var=var+sum\n",
    "    print(sum,end=\"+\")\n",
    "    # sum=sum+i\n",
    "print(sum)\n",
    "print(var)"
   ]
  },
  {
   "cell_type": "code",
   "execution_count": null,
   "id": "0133e8ca",
   "metadata": {},
   "outputs": [],
   "source": []
  },
  {
   "cell_type": "code",
   "execution_count": 2,
   "id": "eae0324d",
   "metadata": {},
   "outputs": [
    {
     "name": "stdout",
     "output_type": "stream",
     "text": [
      "Collecting pillow\n",
      "  Using cached pillow-11.3.0-cp313-cp313-win_amd64.whl.metadata (9.2 kB)\n",
      "Collecting mss\n",
      "  Using cached mss-10.1.0-py3-none-any.whl.metadata (6.7 kB)\n",
      "Collecting flask\n",
      "  Using cached flask-3.1.2-py3-none-any.whl.metadata (3.2 kB)\n",
      "Collecting blinker>=1.9.0 (from flask)\n",
      "  Using cached blinker-1.9.0-py3-none-any.whl.metadata (1.6 kB)\n",
      "Collecting click>=8.1.3 (from flask)\n",
      "  Using cached click-8.2.1-py3-none-any.whl.metadata (2.5 kB)\n",
      "Collecting itsdangerous>=2.2.0 (from flask)\n",
      "  Using cached itsdangerous-2.2.0-py3-none-any.whl.metadata (1.9 kB)\n",
      "Collecting jinja2>=3.1.2 (from flask)\n",
      "  Using cached jinja2-3.1.6-py3-none-any.whl.metadata (2.9 kB)\n",
      "Collecting markupsafe>=2.1.1 (from flask)\n",
      "  Using cached MarkupSafe-3.0.2-cp313-cp313-win_amd64.whl.metadata (4.1 kB)\n",
      "Collecting werkzeug>=3.1.0 (from flask)\n",
      "  Using cached werkzeug-3.1.3-py3-none-any.whl.metadata (3.7 kB)\n",
      "Requirement already satisfied: colorama in c:\\users\\technoseller\\appdata\\roaming\\python\\python313\\site-packages (from click>=8.1.3->flask) (0.4.6)\n",
      "Downloading pillow-11.3.0-cp313-cp313-win_amd64.whl (7.0 MB)\n",
      "   ---------------------------------------- 0.0/7.0 MB ? eta -:--:--\n",
      "   ---------------------------------------- 0.0/7.0 MB ? eta -:--:--\n",
      "   - -------------------------------------- 0.3/7.0 MB ? eta -:--:--\n",
      "   ---- ----------------------------------- 0.8/7.0 MB 1.8 MB/s eta 0:00:04\n",
      "   ------ --------------------------------- 1.0/7.0 MB 1.5 MB/s eta 0:00:04\n",
      "   ------- -------------------------------- 1.3/7.0 MB 1.7 MB/s eta 0:00:04\n",
      "   ---------- ----------------------------- 1.8/7.0 MB 1.8 MB/s eta 0:00:03\n",
      "   ------------- -------------------------- 2.4/7.0 MB 1.8 MB/s eta 0:00:03\n",
      "   ---------------- ----------------------- 2.9/7.0 MB 1.9 MB/s eta 0:00:03\n",
      "   ------------------- -------------------- 3.4/7.0 MB 2.0 MB/s eta 0:00:02\n",
      "   ------------------- -------------------- 3.4/7.0 MB 2.0 MB/s eta 0:00:02\n",
      "   ------------------- -------------------- 3.4/7.0 MB 2.0 MB/s eta 0:00:02\n",
      "   ------------------- -------------------- 3.4/7.0 MB 2.0 MB/s eta 0:00:02\n",
      "   ------------------- -------------------- 3.4/7.0 MB 2.0 MB/s eta 0:00:02\n",
      "   ---------------------- ----------------- 3.9/7.0 MB 1.4 MB/s eta 0:00:03\n",
      "   ---------------------- ----------------- 3.9/7.0 MB 1.4 MB/s eta 0:00:03\n",
      "   ---------------------- ----------------- 3.9/7.0 MB 1.4 MB/s eta 0:00:03\n",
      "   ------------------------ --------------- 4.2/7.0 MB 1.2 MB/s eta 0:00:03\n",
      "   ------------------------ --------------- 4.2/7.0 MB 1.2 MB/s eta 0:00:03\n",
      "   --------------------------- ------------ 4.7/7.0 MB 1.2 MB/s eta 0:00:02\n",
      "   --------------------------- ------------ 4.7/7.0 MB 1.2 MB/s eta 0:00:02\n",
      "   --------------------------- ------------ 4.7/7.0 MB 1.2 MB/s eta 0:00:02\n",
      "   --------------------------- ------------ 4.7/7.0 MB 1.2 MB/s eta 0:00:02\n",
      "   ---------------------------- ----------- 5.0/7.0 MB 1.1 MB/s eta 0:00:02\n",
      "   ------------------------------ --------- 5.2/7.0 MB 1.0 MB/s eta 0:00:02\n",
      "   ---------------------------------- ----- 6.0/7.0 MB 1.1 MB/s eta 0:00:01\n",
      "   ------------------------------------- -- 6.6/7.0 MB 1.2 MB/s eta 0:00:01\n",
      "   ---------------------------------------- 7.0/7.0 MB 1.2 MB/s eta 0:00:00\n",
      "Using cached mss-10.1.0-py3-none-any.whl (24 kB)\n",
      "Using cached flask-3.1.2-py3-none-any.whl (103 kB)\n",
      "Downloading blinker-1.9.0-py3-none-any.whl (8.5 kB)\n",
      "Downloading click-8.2.1-py3-none-any.whl (102 kB)\n",
      "Downloading itsdangerous-2.2.0-py3-none-any.whl (16 kB)\n",
      "Downloading jinja2-3.1.6-py3-none-any.whl (134 kB)\n",
      "Downloading MarkupSafe-3.0.2-cp313-cp313-win_amd64.whl (15 kB)\n",
      "Downloading werkzeug-3.1.3-py3-none-any.whl (224 kB)\n",
      "Installing collected packages: pillow, mss, markupsafe, itsdangerous, click, blinker, werkzeug, jinja2, flask\n",
      "Successfully installed blinker-1.9.0 click-8.2.1 flask-3.1.2 itsdangerous-2.2.0 jinja2-3.1.6 markupsafe-3.0.2 mss-10.1.0 pillow-11.3.0 werkzeug-3.1.3\n",
      "Note: you may need to restart the kernel to use updated packages.\n"
     ]
    },
    {
     "name": "stderr",
     "output_type": "stream",
     "text": [
      "  WARNING: The script mss.exe is installed in 'c:\\Users\\TECHNOSELLER\\AppData\\Local\\Programs\\Python\\Python313\\Scripts' which is not on PATH.\n",
      "  Consider adding this directory to PATH or, if you prefer to suppress this warning, use --no-warn-script-location.\n",
      "  WARNING: The script flask.exe is installed in 'c:\\Users\\TECHNOSELLER\\AppData\\Local\\Programs\\Python\\Python313\\Scripts' which is not on PATH.\n",
      "  Consider adding this directory to PATH or, if you prefer to suppress this warning, use --no-warn-script-location.\n",
      "\n",
      "[notice] A new release of pip is available: 25.0.1 -> 25.2\n",
      "[notice] To update, run: python.exe -m pip install --upgrade pip\n"
     ]
    }
   ],
   "source": [
    "pip install pillow mss flask\n"
   ]
  },
  {
   "cell_type": "code",
   "execution_count": null,
   "id": "1981bdd9",
   "metadata": {},
   "outputs": [
    {
     "name": "stdout",
     "output_type": "stream",
     "text": [
      " * Serving Flask app '__main__'\n",
      " * Debug mode: off\n"
     ]
    },
    {
     "name": "stderr",
     "output_type": "stream",
     "text": [
      "WARNING: This is a development server. Do not use it in a production deployment. Use a production WSGI server instead.\n",
      " * Running on all addresses (0.0.0.0)\n",
      " * Running on http://127.0.0.1:5000\n",
      " * Running on http://10.176.157.253:5000\n",
      "Press CTRL+C to quit\n",
      "10.176.157.127 - - [05/Sep/2025 08:35:38] \"GET / HTTP/1.1\" 200 -\n",
      "10.176.157.127 - - [05/Sep/2025 08:35:39] \"GET /stream.mjpg HTTP/1.1\" 200 -\n",
      "10.176.157.127 - - [05/Sep/2025 08:35:39] \"GET /favicon.ico HTTP/1.1\" 404 -\n",
      "10.176.157.127 - - [05/Sep/2025 08:41:37] \"GET / HTTP/1.1\" 200 -\n",
      "10.176.157.127 - - [05/Sep/2025 08:41:38] \"GET /stream.mjpg HTTP/1.1\" 200 -\n",
      "10.176.157.127 - - [05/Sep/2025 09:01:17] \"GET / HTTP/1.1\" 200 -\n",
      "10.176.157.127 - - [05/Sep/2025 09:01:18] \"GET /stream.mjpg HTTP/1.1\" 200 -\n",
      "10.176.157.127 - - [05/Sep/2025 09:15:28] \"GET / HTTP/1.1\" 200 -\n",
      "10.176.157.127 - - [05/Sep/2025 09:15:28] \"GET /stream.mjpg HTTP/1.1\" 200 -\n"
     ]
    }
   ],
   "source": [
    "# screencast_server.py\n",
    "from flask import Flask, Response, render_template_string\n",
    "from mss import mss\n",
    "from PIL import Image\n",
    "import io, time\n",
    "\n",
    "# ---- TUNE THESE ----\n",
    "FPS = 10            # higher = smoother, more CPU/network\n",
    "SCALE = 0.7         # 1.0 = full size; use 0.5~0.8 for 10 viewers\n",
    "JPEG_QUALITY = 70   # 40–80 is a good range\n",
    "MONITOR_INDEX = 1   # 1 = primary; change if you have multiple monitors\n",
    "# --------------------\n",
    "\n",
    "app = Flask(__name__)\n",
    "\n",
    "HTML = \"\"\"\n",
    "<!doctype html>\n",
    "<title>Python Screen Share</title>\n",
    "<style> body{margin:0;background:#111;display:grid;place-items:center;height:100vh} img{max-width:100vw;max-height:100vh} </style>\n",
    "<img src=\"/stream.mjpg\" alt=\"Screen stream\">\n",
    "\"\"\"\n",
    "\n",
    "def mjpeg_generator():\n",
    "    with mss() as sct:\n",
    "        mon = sct.monitors[MONITOR_INDEX]\n",
    "        frame_interval = 1.0 / max(FPS, 1)\n",
    "        while True:\n",
    "            start = time.time()\n",
    "            shot = sct.grab(mon)                 # raw screen\n",
    "            img = Image.frombytes(\"RGB\", shot.size, shot.rgb)\n",
    "\n",
    "            if SCALE != 1.0:\n",
    "                w = int(img.width * SCALE)\n",
    "                h = int(img.height * SCALE)\n",
    "                img = img.resize((w, h), Image.BILINEAR)\n",
    "\n",
    "            buf = io.BytesIO()\n",
    "            img.save(buf, format=\"JPEG\", quality=JPEG_QUALITY, optimize=True)\n",
    "            jpg = buf.getvalue()\n",
    "\n",
    "            yield (b\"--frame\\r\\n\"\n",
    "                   b\"Content-Type: image/jpeg\\r\\n\"\n",
    "                   b\"Cache-Control: no-cache\\r\\n\\r\\n\" + jpg + b\"\\r\\n\")\n",
    "\n",
    "            # simple FPS limiter\n",
    "            dt = time.time() - start\n",
    "            if dt < frame_interval:\n",
    "                time.sleep(frame_interval - dt)\n",
    "\n",
    "@app.route(\"/\")\n",
    "def index():\n",
    "    return render_template_string(HTML)\n",
    "\n",
    "@app.route(\"/stream.mjpg\")\n",
    "def stream():\n",
    "    return Response(mjpeg_generator(),\n",
    "                    mimetype=\"multipart/x-mixed-replace; boundary=frame\")\n",
    "\n",
    "if __name__ == \"__main__\":\n",
    "    # 0.0.0.0 makes it reachable from other laptops on your network\n",
    "    app.run(host=\"0.0.0.0\", port=5000, threaded=True)\n"
   ]
  }
 ],
 "metadata": {
  "kernelspec": {
   "display_name": "Python 3",
   "language": "python",
   "name": "python3"
  },
  "language_info": {
   "codemirror_mode": {
    "name": "ipython",
    "version": 3
   },
   "file_extension": ".py",
   "mimetype": "text/x-python",
   "name": "python",
   "nbconvert_exporter": "python",
   "pygments_lexer": "ipython3",
   "version": "3.13.3"
  }
 },
 "nbformat": 4,
 "nbformat_minor": 5
}
