{
 "cells": [
  {
   "cell_type": "markdown",
   "id": "cf3b1e16",
   "metadata": {},
   "source": [
    "# Array Solutions from Array.txt\n",
    "\n",
    "This notebook contains Python solutions for each question found in the `Array.txt` file in our workspace."
   ]
  },
  {
   "cell_type": "markdown",
   "id": "fa50a000",
   "metadata": {},
   "source": [
    "## Section 1: Import Required Libraries\n",
    "\n",
    "Import necessary libraries for array operations and file I/O."
   ]
  },
  {
   "cell_type": "code",
   "execution_count": null,
   "id": "67a1059f",
   "metadata": {},
   "outputs": [],
   "source": [
    "import numpy as np\n",
    "import os"
   ]
  },
  {
   "cell_type": "markdown",
   "id": "17078e84",
   "metadata": {},
   "source": [
    "## Section 2: Read and Display Array.txt File Contents\n",
    "\n",
    "Let's read the contents of the Array.txt file to see the questions we need to solve."
   ]
  },
  {
   "cell_type": "code",
   "execution_count": null,
   "id": "64b67662",
   "metadata": {},
   "outputs": [],
   "source": [
    "# Read the Array.txt file\n",
    "file_path = \"Array.txt\"\n",
    "try:\n",
    "    with open(file_path, 'r') as file:\n",
    "        content = file.read()\n",
    "        print(\"Contents of Array.txt:\")\n",
    "        print(\"=\" * 50)\n",
    "        print(content)\n",
    "except FileNotFoundError:\n",
    "    print(f\"File {file_path} not found in the current directory\")\n",
    "    print(f\"Current directory: {os.getcwd()}\")\n",
    "    print(\"Available files:\")\n",
    "    print(os.listdir('.'))"
   ]
  },
  {
   "cell_type": "markdown",
   "id": "3099a81b",
   "metadata": {},
   "source": [
    "## Section 3: Solution for Question 1\n",
    "\n",
    "**Question 1:** Write a Python program that reads an integer between 1 and 12 and prints the month of the year in English.\n",
    "\n",
    "**Test Data:** Input: 8  \n",
    "**Expected Output:** August"
   ]
  },
  {
   "cell_type": "code",
   "execution_count": null,
   "id": "917dfe74",
   "metadata": {},
   "outputs": [],
   "source": [
    "def get_month_name(month_number):\n",
    "    \"\"\"\n",
    "    Function to get month name from month number (1-12)\n",
    "    \"\"\"\n",
    "    months = [\n",
    "        \"January\", \"February\", \"March\", \"April\", \"May\", \"June\",\n",
    "        \"July\", \"August\", \"September\", \"October\", \"November\", \"December\"\n",
    "    ]\n",
    "    \n",
    "    if 1 <= month_number <= 12:\n",
    "        return months[month_number - 1]\n",
    "    else:\n",
    "        return \"Invalid month number. Please enter a number between 1 and 12.\"\n",
    "\n",
    "# Test the function with the given test data\n",
    "test_input = 8\n",
    "result = get_month_name(test_input)\n",
    "print(f\"Input a number between 1 to 12 to get the month name: {test_input}\")\n",
    "print(f\"Output: {result}\")\n",
    "\n",
    "# Interactive version\n",
    "print(\"\\n\" + \"=\"*50)\n",
    "print(\"Interactive Month Name Finder:\")\n",
    "try:\n",
    "    user_input = int(input(\"Input a number between 1 to 12 to get the month name: \"))\n",
    "    month_name = get_month_name(user_input)\n",
    "    print(f\"Output: {month_name}\")\n",
    "except ValueError:\n",
    "    print(\"Please enter a valid integer.\")"
   ]
  },
  {
   "cell_type": "markdown",
   "id": "5da74d53",
   "metadata": {},
   "source": [
    "## Section 4: Solution for Question 2\n",
    "\n",
    "**Question 2:** Write a Python program that reads and prints the elements of an array. Before printing, replace every negative number and zero with 100.\n",
    "\n",
    "**Test Data:** Input array: [25, 45, 35, 65, 15]  \n",
    "**Expected Output:** Array values with negative numbers and zeros replaced by 100"
   ]
  },
  {
   "cell_type": "code",
   "execution_count": null,
   "id": "29847f82",
   "metadata": {},
   "outputs": [],
   "source": [
    "def process_array(arr):\n",
    "    \"\"\"\n",
    "    Function to replace negative numbers and zeros with 100\n",
    "    \"\"\"\n",
    "    processed_array = []\n",
    "    for num in arr:\n",
    "        if num <= 0:  # Replace negative numbers and zero with 100\n",
    "            processed_array.append(100)\n",
    "        else:\n",
    "            processed_array.append(num)\n",
    "    return processed_array\n",
    "\n",
    "def print_array_with_indices(arr, title=\"Array values are:\"):\n",
    "    \"\"\"\n",
    "    Function to print array with indices in the required format\n",
    "    \"\"\"\n",
    "    print(title)\n",
    "    for i in range(len(arr)):\n",
    "        print(f\"n[{i}] = {arr[i]}\")\n",
    "\n",
    "# Test with the given test data\n",
    "test_array = [25, 45, 35, 65, 15]\n",
    "print(\"Original test array:\", test_array)\n",
    "processed_test_array = process_array(test_array)\n",
    "print(\"\\nProcessed test array:\")\n",
    "print_array_with_indices(processed_test_array)\n",
    "\n",
    "# Test with an array containing negative numbers and zeros\n",
    "print(\"\\n\" + \"=\"*50)\n",
    "print(\"Testing with array containing negative numbers and zeros:\")\n",
    "test_array_with_negatives = [25, -10, 0, 65, -5, 30, 0]\n",
    "print(\"Original array:\", test_array_with_negatives)\n",
    "processed_array_with_negatives = process_array(test_array_with_negatives)\n",
    "print(\"\\nProcessed array (negatives and zeros replaced with 100):\")\n",
    "print_array_with_indices(processed_array_with_negatives)"
   ]
  },
  {
   "cell_type": "markdown",
   "id": "37e2dc0b",
   "metadata": {},
   "source": [
    "## Section 5: Interactive Array Input and Processing\n",
    "\n",
    "This section provides an interactive way to input array elements and process them according to Question 2 requirements."
   ]
  },
  {
   "cell_type": "code",
   "execution_count": null,
   "id": "ed11e471",
   "metadata": {},
   "outputs": [],
   "source": [
    "def get_user_array(size=5):\n",
    "    \"\"\"\n",
    "    Function to get array input from user\n",
    "    \"\"\"\n",
    "    array = []\n",
    "    print(f\"Input the {size} members of the array:\")\n",
    "    \n",
    "    for i in range(size):\n",
    "        try:\n",
    "            num = int(input(f\"Element {i+1}: \"))\n",
    "            array.append(num)\n",
    "        except ValueError:\n",
    "            print(\"Please enter a valid integer.\")\n",
    "            return None\n",
    "    \n",
    "    return array\n",
    "\n",
    "# Interactive array processing\n",
    "print(\"Interactive Array Processing:\")\n",
    "print(\"=\"*40)\n",
    "\n",
    "# For demonstration, let's use predefined input instead of interactive input\n",
    "# In a real scenario, you would uncomment the interactive version below\n",
    "\n",
    "# Demonstration with predefined input\n",
    "demo_array = [25, 45, -10, 0, 15]\n",
    "print(f\"Demo input array: {demo_array}\")\n",
    "processed_demo = process_array(demo_array)\n",
    "print(\"\\nProcessed array:\")\n",
    "print_array_with_indices(processed_demo)\n",
    "\n",
    "# Uncomment the following lines for interactive input:\n",
    "\"\"\"\n",
    "user_array = get_user_array(5)\n",
    "if user_array:\n",
    "    print(f\"\\nYour input array: {user_array}\")\n",
    "    processed_user_array = process_array(user_array)\n",
    "    print(\"\\nProcessed array:\")\n",
    "    print_array_with_indices(processed_user_array)\n",
    "\"\"\""
   ]
  },
  {
   "cell_type": "markdown",
   "id": "1c0aa9e4",
   "metadata": {},
   "source": [
    "## Section 6: Summary and Additional Features\n",
    "\n",
    "This section provides a summary of the solutions and some additional features using NumPy arrays."
   ]
  },
  {
   "cell_type": "code",
   "execution_count": null,
   "id": "1ea6179a",
   "metadata": {},
   "outputs": [],
   "source": [
    "# Summary of Solutions\n",
    "print(\"=\"*60)\n",
    "print(\"SUMMARY OF SOLUTIONS FROM ARRAY.TXT\")\n",
    "print(\"=\"*60)\n",
    "\n",
    "print(\"\\n1. MONTH NAME FINDER:\")\n",
    "print(\"   - Function: get_month_name(month_number)\")\n",
    "print(\"   - Input: Integer between 1-12\")\n",
    "print(\"   - Output: Corresponding month name\")\n",
    "print(\"   - Test passed: Input 8 → Output 'August' ✓\")\n",
    "\n",
    "print(\"\\n2. ARRAY PROCESSOR:\")\n",
    "print(\"   - Function: process_array(arr)\")\n",
    "print(\"   - Feature: Replaces negative numbers and zeros with 100\")\n",
    "print(\"   - Input: Any array with integers\")\n",
    "print(\"   - Output: Processed array with formatted display\")\n",
    "print(\"   - Test passed: [25, 45, 35, 65, 15] → Same array (no negatives/zeros) ✓\")\n",
    "\n",
    "# Bonus: Using NumPy for array operations\n",
    "print(\"\\n\" + \"=\"*60)\n",
    "print(\"BONUS: NUMPY VERSION OF ARRAY PROCESSING\")\n",
    "print(\"=\"*60)\n",
    "\n",
    "# NumPy version of array processing\n",
    "def process_array_numpy(arr):\n",
    "    \"\"\"\n",
    "    NumPy version of array processing\n",
    "    \"\"\"\n",
    "    np_array = np.array(arr)\n",
    "    # Replace values <= 0 with 100\n",
    "    np_array[np_array <= 0] = 100\n",
    "    return np_array.tolist()\n",
    "\n",
    "# Test NumPy version\n",
    "test_np_array = [25, -10, 0, 65, -5, 30, 0]\n",
    "print(f\"Original array: {test_np_array}\")\n",
    "processed_np = process_array_numpy(test_np_array)\n",
    "print(f\"NumPy processed: {processed_np}\")\n",
    "\n",
    "# Verify both methods give same result\n",
    "manual_processed = process_array(test_np_array)\n",
    "print(f\"Manual processed: {manual_processed}\")\n",
    "print(f\"Results match: {processed_np == manual_processed}\")"
   ]
  }
 ],
 "metadata": {
  "language_info": {
   "name": "python"
  }
 },
 "nbformat": 4,
 "nbformat_minor": 5
}
